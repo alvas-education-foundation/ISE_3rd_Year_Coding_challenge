{
  "nbformat": 4,
  "nbformat_minor": 0,
  "metadata": {
    "colab": {
      "name": "day2_session1",
      "provenance": [],
      "authorship_tag": "ABX9TyMEdBFP679WhlnoTTX0VbtI",
      "include_colab_link": true
    },
    "kernelspec": {
      "name": "python3",
      "display_name": "Python 3"
    }
  },
  "cells": [
    {
      "cell_type": "markdown",
      "metadata": {
        "id": "view-in-github",
        "colab_type": "text"
      },
      "source": [
        "<a href=\"https://colab.research.google.com/github/alvas-education-foundation/ISE_3rd_Year_Coding_challenge/blob/master/roopashree_4AL17IS040_day2_session1.ipynb\" target=\"_parent\"><img src=\"https://colab.research.google.com/assets/colab-badge.svg\" alt=\"Open In Colab\"/></a>"
      ]
    },
    {
      "cell_type": "markdown",
      "metadata": {
        "id": "GlS5CSJvXAM3",
        "colab_type": "text"
      },
      "source": [
        "print multiples of 3 upto 200 using a list"
      ]
    },
    {
      "cell_type": "code",
      "metadata": {
        "id": "KiA5kdC1SBsU",
        "colab_type": "code",
        "colab": {
          "base_uri": "https://localhost:8080/",
          "height": 54
        },
        "outputId": "a0387d4e-fec2-47de-e870-03e7ec2065d6"
      },
      "source": [
        "\n",
        "print(([i  for i in range(0,200) if i%3==0]))"
      ],
      "execution_count": null,
      "outputs": [
        {
          "output_type": "stream",
          "text": [
            "[0, 3, 6, 9, 12, 15, 18, 21, 24, 27, 30, 33, 36, 39, 42, 45, 48, 51, 54, 57, 60, 63, 66, 69, 72, 75, 78, 81, 84, 87, 90, 93, 96, 99, 102, 105, 108, 111, 114, 117, 120, 123, 126, 129, 132, 135, 138, 141, 144, 147, 150, 153, 156, 159, 162, 165, 168, 171, 174, 177, 180, 183, 186, 189, 192, 195, 198]\n"
          ],
          "name": "stdout"
        }
      ]
    },
    {
      "cell_type": "markdown",
      "metadata": {
        "id": "5b3jMK-7XOz8",
        "colab_type": "text"
      },
      "source": [
        "\n",
        "print the nos only divisable by 5 and 7 between 1000 and 2000 using a list( both inclusive)"
      ]
    },
    {
      "cell_type": "code",
      "metadata": {
        "id": "_6AnRULLXIPy",
        "colab_type": "code",
        "colab": {
          "base_uri": "https://localhost:8080/",
          "height": 34
        },
        "outputId": "6bd2896e-653a-4fb5-baa6-f1d7b8a4116e"
      },
      "source": [
        "print(([i  for i in range(1000,2000) if(i%5==0 and i%7==0)]))"
      ],
      "execution_count": null,
      "outputs": [
        {
          "output_type": "stream",
          "text": [
            "[1015, 1050, 1085, 1120, 1155, 1190, 1225, 1260, 1295, 1330, 1365, 1400, 1435, 1470, 1505, 1540, 1575, 1610, 1645, 1680, 1715, 1750, 1785, 1820, 1855, 1890, 1925, 1960, 1995]\n"
          ],
          "name": "stdout"
        }
      ]
    },
    {
      "cell_type": "markdown",
      "metadata": {
        "id": "OXpDKNDdXXoS",
        "colab_type": "text"
      },
      "source": [
        "Add the n number of names in a list and print them alphabetically and reverse alphabetically."
      ]
    },
    {
      "cell_type": "code",
      "metadata": {
        "id": "9o8sCvZ3XP_S",
        "colab_type": "code",
        "colab": {
          "base_uri": "https://localhost:8080/",
          "height": 118
        },
        "outputId": "d4b7fe68-ce33-499a-b001-d8850579c53f"
      },
      "source": [
        "names=([(input()) for i in range(int(input(\"Enter n: \")))])\n",
        "print(\"Input :\",names)\n",
        "names.sort()\n",
        "print(\"alphabetically : \",names)\n",
        "names.sort(reverse=True)\n",
        "print(\"reverse alphabetically: \",names)"
      ],
      "execution_count": null,
      "outputs": [
        {
          "output_type": "stream",
          "text": [
            "Enter n: 2\n",
            "56\n",
            "65\n",
            "Input : ['56', '65']\n",
            "alphabetically :  ['56', '65']\n",
            "reverse alphabetically:  ['65', '56']\n"
          ],
          "name": "stdout"
        }
      ]
    },
    {
      "cell_type": "markdown",
      "metadata": {
        "id": "RwSOvwgNXqIp",
        "colab_type": "text"
      },
      "source": [
        "\n",
        "Print perfect squares and divisible by 5 between 500 and 1000( (both inclusive) using list"
      ]
    },
    {
      "cell_type": "code",
      "metadata": {
        "id": "F82BDXO1XiX-",
        "colab_type": "code",
        "colab": {
          "base_uri": "https://localhost:8080/",
          "height": 34
        },
        "outputId": "a11f8b46-5a15-4bda-ea1c-e521a00fa692"
      },
      "source": [
        "def perfectSquares(l, r): \n",
        "\tfor i in range(l, r + 1): \n",
        "\t\tif ((i**(.5) == int(i**(.5))) and i%5==0): \n",
        "\t\t\tprint(i, end=\" \") \n",
        "perfectSquares(500, 1000)"
      ],
      "execution_count": null,
      "outputs": [
        {
          "output_type": "stream",
          "text": [
            "625 900 "
          ],
          "name": "stdout"
        }
      ]
    },
    {
      "cell_type": "markdown",
      "metadata": {
        "id": "FKLv1h52Xz7C",
        "colab_type": "text"
      },
      "source": [
        "Get a string and store word by word as elements in a tuple and find the largest word in the tuple and print it"
      ]
    },
    {
      "cell_type": "code",
      "metadata": {
        "id": "RWm2etLtXrST",
        "colab_type": "code",
        "colab": {
          "base_uri": "https://localhost:8080/",
          "height": 67
        },
        "outputId": "52239153-6dde-4b57-be60-e1cd24ac56b2"
      },
      "source": [
        "txt=input(\"enter string: \")\n",
        "words = txt.split()\n",
        "a = list()\n",
        "for word in words:\n",
        "  a.append((word))\n",
        "max1=len(a[0])\n",
        "temp=a[0]\n",
        "for i in a:\n",
        "    if(len(i)>max1):\n",
        "       max1=len(i)\n",
        "       temp=i\n",
        "print(\"The word with the longest length is:\")\n",
        "print(temp)"
      ],
      "execution_count": null,
      "outputs": [
        {
          "output_type": "stream",
          "text": [
            "enter string: 54\n",
            "The word with the longest length is:\n",
            "54\n"
          ],
          "name": "stdout"
        }
      ]
    },
    {
      "cell_type": "markdown",
      "metadata": {
        "id": "_CkyODQ-X8dF",
        "colab_type": "text"
      },
      "source": [
        "Get rollno and marks (Rollno, mark) as list of tuples for n number of students through keyboard and print them in marks descending order with rollno."
      ]
    },
    {
      "cell_type": "code",
      "metadata": {
        "id": "iok_qbY5X1ou",
        "colab_type": "code",
        "colab": {
          "base_uri": "https://localhost:8080/",
          "height": 134
        },
        "outputId": "d06a1d56-c83b-44af-8f5c-468383ba6cba"
      },
      "source": [
        "t=[]\n",
        "a=[]\n",
        "n=int(input(\"enter num of students: \"))\n",
        "for i in range(0,n):\n",
        "  e=int(input(\"enter rollnum: \"))\n",
        "  j=int(input(\"enter marks: \"))\n",
        "  t.append(e)\n",
        "  a.append(j)\n",
        "m = [(t[i], a[i]) for i in range(0, len(t))]\n",
        "print(\"input: \",m)\n",
        "m.sort(key = lambda x: x[1],reverse=1)  \n",
        "print(\"output\",m)"
      ],
      "execution_count": null,
      "outputs": [
        {
          "output_type": "stream",
          "text": [
            "enter num of students: 2\n",
            "enter rollnum: 54\n",
            "enter marks: 5\n",
            "enter rollnum: 54\n",
            "enter marks: 89\n",
            "input:  [(54, 5), (54, 89)]\n",
            "output [(54, 89), (54, 5)]\n"
          ],
          "name": "stdout"
        }
      ]
    },
    {
      "cell_type": "markdown",
      "metadata": {
        "id": "MCyzVnrTYMRP",
        "colab_type": "text"
      },
      "source": [
        "Get name and salary (name, salary) as list of tuples for n number of employees through keyboard and print them in name alphabetical order with salary"
      ]
    },
    {
      "cell_type": "code",
      "metadata": {
        "id": "9YvJGsRVYGV3",
        "colab_type": "code",
        "colab": {
          "base_uri": "https://localhost:8080/",
          "height": 134
        },
        "outputId": "b4777ebc-fda3-4d38-bd94-4d48270550d7"
      },
      "source": [
        "t=[]\n",
        "a=[]\n",
        "n=int(input(\"enter num of employees: \"))\n",
        "for i in range(0,n):\n",
        "  e=(input(\"enter name: \"))\n",
        "  j=float(input(\"enter salary: \"))\n",
        "  t.append(e)\n",
        "  a.append(j)\n",
        "m = [(t[i], a[i]) for i in range(0, len(t))]\n",
        "print(\"input: \",m)\n",
        "m.sort(key = lambda x: x[0])  \n",
        "print(\"output\",m)"
      ],
      "execution_count": null,
      "outputs": [
        {
          "output_type": "stream",
          "text": [
            "enter num of employees: 2\n",
            "enter name: roo\n",
            "enter salary: 56000\n",
            "enter name: poo\n",
            "enter salary: 56000\n",
            "input:  [('roo', 56000.0), ('poo', 56000.0)]\n",
            "output [('poo', 56000.0), ('roo', 56000.0)]\n"
          ],
          "name": "stdout"
        }
      ]
    }
  ]
}