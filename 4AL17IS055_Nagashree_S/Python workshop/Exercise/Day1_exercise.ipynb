{
  "nbformat": 4,
  "nbformat_minor": 0,
  "metadata": {
    "colab": {
      "name": "Day1_exercise.ipynb",
      "provenance": [],
      "collapsed_sections": []
    },
    "kernelspec": {
      "name": "python3",
      "display_name": "Python 3"
    }
  },
  "cells": [
    {
      "cell_type": "code",
      "metadata": {
        "id": "K9umGu-ytHwU",
        "colab_type": "code",
        "colab": {
          "base_uri": "https://localhost:8080/",
          "height": 136
        },
        "outputId": "ec46b57e-8a66-4b3e-9244-6eeeb29241f5"
      },
      "source": [
        "#1.\tFind the compound interest for the given p,n,r  (formula : p(1+r/100)n )\n",
        "p = float(input(\"Enter the principle amount : \"))\n",
        "r = float(input(\"Enter the rate of interest : \"))\n",
        "t = float(input(\"Enter the time in the years: \"))\n",
        "\n",
        "# calculating compound interest\n",
        "ci =  p * (pow((1 + r / 100), t)) \n",
        "\n",
        "# printing the values\n",
        "print(\"Principle amount  : \", p)\n",
        "print(\"Interest rate     : \", r)\n",
        "print(\"Time in years     : \", t)\n",
        "print(\"compound Interest : \", ci)"
      ],
      "execution_count": null,
      "outputs": [
        {
          "output_type": "stream",
          "text": [
            "Enter the principle amount : 8000\n",
            "Enter the rate of interest : 3.5\n",
            "Enter the time in the years: 2\n",
            "Principle amount  :  8000.0\n",
            "Interest rate     :  3.5\n",
            "Time in years     :  2.0\n",
            "compound Interest :  8569.8\n"
          ],
          "name": "stdout"
        }
      ]
    },
    {
      "cell_type": "code",
      "metadata": {
        "id": "suAq_qkbv7qS",
        "colab_type": "code",
        "colab": {
          "base_uri": "https://localhost:8080/",
          "height": 51
        },
        "outputId": "85d9ca1e-6516-4152-b320-bff3ccaf6fa5"
      },
      "source": [
        "#2.\tConvert centegrade to farenheit  ( f= 9/5*c+32)\n",
        "centegrade = float(input(\"Enter temperature in centegrade: \"))\n",
        "fahrenheit = (centegrade * 9/5) + 32\n",
        "print('%.2f centegrade is: %0.2f Fahrenheit' %(centegrade, fahrenheit))"
      ],
      "execution_count": null,
      "outputs": [
        {
          "output_type": "stream",
          "text": [
            "Enter temperature in centegrade: 37\n",
            "37.00 centegrade is: 98.60 Fahrenheit\n"
          ],
          "name": "stdout"
        }
      ]
    },
    {
      "cell_type": "code",
      "metadata": {
        "id": "fvCmMObnw8Hl",
        "colab_type": "code",
        "colab": {
          "base_uri": "https://localhost:8080/",
          "height": 68
        },
        "outputId": "c18cc949-4d17-4602-caba-e44117322659"
      },
      "source": [
        "#3.\tFind the greater of two nos \n",
        "a=int(input())\n",
        "b=int(input())\n",
        "if(a>b):\n",
        "  print(a,\"is greater\")\n",
        "else :\n",
        "  print(b,\"is greater\")"
      ],
      "execution_count": null,
      "outputs": [
        {
          "output_type": "stream",
          "text": [
            "55\n",
            "23\n",
            "55 is greater\n"
          ],
          "name": "stdout"
        }
      ]
    },
    {
      "cell_type": "code",
      "metadata": {
        "id": "n0KpTfnczcfL",
        "colab_type": "code",
        "colab": {
          "base_uri": "https://localhost:8080/",
          "height": 85
        },
        "outputId": "8b5ff66b-b4e6-45fb-8a59-695fc3e8a9d4"
      },
      "source": [
        "#4.\tWrite a program for finding surface areas of cylinder and cone (2*PI*r*r*h, 1/3*PI*r*r*h) using function.\n",
        "import math \n",
        "pi = math.pi \n",
        "  \n",
        "# Function to calculate Volume of Cone \n",
        "def volume(r, h): \n",
        "    return (1 / 3) * pi * r * r * h \n",
        "  \n",
        "# Function To Calculate Surface Area of Cone \n",
        "def surfacearea(r, s): \n",
        "    return pi * r * s + pi * r * r \n",
        "  \n",
        "# Driver Code \n",
        "#radius = float(5) \n",
        "#height = float(12) \n",
        "#slat_height = float(13) \n",
        "\n",
        "# Function To Calculate Volume OF Cylinder \n",
        "def volume(r, h): \n",
        "    vol = pi * r * r * h \n",
        "    return vol \n",
        "  \n",
        "# Function To Calculate Total Surface Area \n",
        "# of Cylinder \n",
        "def totalsurfacearea(r, h): \n",
        "    tsurf_ar = (2 * pi * r * h) + (2 * pi * r * r) \n",
        "    return tsurf_ar \n",
        "r=float(input())\n",
        "h=float(input())\n",
        "print( \"Surface Area Of Cone : \", surfacearea(r,h) )\n",
        "print(\"Surface Area  Of Cylinder =  \",totalsurfacearea(r,h)) \n"
      ],
      "execution_count": null,
      "outputs": [
        {
          "output_type": "stream",
          "text": [
            "5\n",
            "8\n",
            "Surface Area Of Cone :  204.20352248333654\n",
            "Surface Area  Of Cylinder =   408.4070449666731\n"
          ],
          "name": "stdout"
        }
      ]
    },
    {
      "cell_type": "code",
      "metadata": {
        "id": "PC8n4i8qy8X7",
        "colab_type": "code",
        "colab": {
          "base_uri": "https://localhost:8080/",
          "height": 119
        },
        "outputId": "cc729809-71f6-4778-efeb-c959d66beecb"
      },
      "source": [
        "#5.\tFind the greatest of four nos ( using ‘and’ operator)   using function.\n",
        "def maximum(a,b,c,d):\n",
        "  if((a>b) and (a>c) and (a>d)):\n",
        "    max = a\n",
        "  if((b>a) and (b>c) and (b>d)):\n",
        "    max = b\n",
        "  if((c>a) and (c>b) and (c>d)):\n",
        "    max = c\n",
        "  if((d>a) and (d>b) and (d>c)):\n",
        "    max = d\n",
        "  return max\n",
        "print(\"enrter 4 numbers\")\n",
        "a=int(input())\n",
        "b=int(input())\n",
        "c=int(input())\n",
        "d=int(input())\n",
        "print(\" greater number is\",maximum(a,b,c,d))\n"
      ],
      "execution_count": null,
      "outputs": [
        {
          "output_type": "stream",
          "text": [
            "enrter 4 numbers\n",
            "8\n",
            "55\n",
            "2\n",
            "66\n",
            " greater number is 66\n"
          ],
          "name": "stdout"
        }
      ]
    },
    {
      "cell_type": "code",
      "metadata": {
        "id": "5VEHOwVGvqeZ",
        "colab_type": "code",
        "colab": {
          "base_uri": "https://localhost:8080/",
          "height": 459
        },
        "outputId": "b7e01b72-797c-42b2-cfe2-f51482322612"
      },
      "source": [
        "#6.\tWrite a  menu program to perform the operations ( ODDorEven, Factorial, ODDNoUptoN, PrimeUptoN ) using functions for two nos with  menu choice\n",
        "def fact(n):\n",
        "    factorial = 1\n",
        "    if n < 0:\n",
        "        print(\"Invalid number\")\n",
        "    elif n == 0:\n",
        "        print(\"1\")\n",
        "    \n",
        "    else:\n",
        "        for i in range(1,n + 1):\n",
        "            factorial = factorial*i\n",
        "        print(\"The factorial of\",n,\"is\",factorial)\n",
        "\n",
        "def odd_even(n):\n",
        "    if (n%2==0):\n",
        "        print(\"Even\")\n",
        "    else:\n",
        "        print(\"Odd\")    \n",
        "def odd_upto(n):\n",
        "    for i in range(n):\n",
        "        if i % 2 != 0:\n",
        "            print(i)\n",
        "\n",
        "def prime_upto(n):\n",
        "  for num in range(2, n + 1):\n",
        "   # all prime numbers are greater than 1\n",
        "    if num > 1:\n",
        "        for i in range(2, num):\n",
        "            if (num % i) == 0:\n",
        "                break\n",
        "        else:\n",
        "            print(num)\n",
        "\n",
        "loop = 1\n",
        "while loop == 1:\n",
        "    print(\"Your options are:\" )\n",
        "    print(\"1. Factorial\")\n",
        "    print(\"1. Factorial\")\n",
        "    print(\"2. Odd or Even\")\n",
        "    print(\"3. Odd no Up to\")\n",
        "    print(\"4. Prime Up to\")\n",
        "    print(\"5. To Exit\\n\")\n",
        "    try:\n",
        "        choice = int(input(\"Choose your option: \"))\n",
        "    except:\n",
        "            print('please enter a valid number for option')\n",
        "    print(\" \")\n",
        "\n",
        "    if choice == 1:\n",
        "        x = int(input(\"Enter The Number: \"))\n",
        "        fact(x)\n",
        "\n",
        "    if choice == 2:\n",
        "        x = int(input(\"Enter The Number: \"))\n",
        "        odd_even(x)\n",
        "\n",
        "    if choice == 3:\n",
        "        x = int(input(\"Enter The Number: \"))\n",
        "        print(\"The number up to \",odd_upto(x))\n",
        "\n",
        "    if choice == 4:\n",
        "        x = int(input(\"Enter The Number: \"))\n",
        "        print(\"The number upto\",prime_upto(x))\n",
        "\n",
        "    elif choice == 5:\n",
        "            loop = 0\n",
        "        \n",
        "    else:\n",
        "        print(\"please choice a valid option from 1 to 5\")\n",
        "        choice=0"
      ],
      "execution_count": 29,
      "outputs": [
        {
          "output_type": "stream",
          "text": [
            "please enter a valid number for option\n",
            " \n",
            "please choice a valid option from 1 to 5\n",
            "Your options are:\n",
            "1. Factorial\n",
            "1. Factorial\n",
            "2. Odd or Even\n",
            "3. Odd no Up to\n",
            "4. Prime Up to\n",
            "5. To Exit\n",
            "\n",
            "Choose your option: 2\n",
            " \n",
            "Enter The Number: 500\n",
            "Even\n",
            "please choice a valid option from 1 to 5\n",
            "Your options are:\n",
            "1. Factorial\n",
            "1. Factorial\n",
            "2. Odd or Even\n",
            "3. Odd no Up to\n",
            "4. Prime Up to\n",
            "5. To Exit\n",
            "\n",
            "Choose your option: 5\n",
            " \n"
          ],
          "name": "stdout"
        }
      ]
    }
  ]
}