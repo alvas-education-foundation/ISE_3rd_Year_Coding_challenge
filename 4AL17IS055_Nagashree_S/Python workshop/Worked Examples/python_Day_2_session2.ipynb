{
  "nbformat": 4,
  "nbformat_minor": 0,
  "metadata": {
    "colab": {
      "name": "python_Day_2_session2.ipynb",
      "provenance": [],
      "collapsed_sections": []
    },
    "kernelspec": {
      "name": "python3",
      "display_name": "Python 3"
    }
  },
  "cells": [
    {
      "cell_type": "markdown",
      "metadata": {
        "id": "fjp2Z3W1J9pd",
        "colab_type": "text"
      },
      "source": [
        "dict.clear()\n",
        "Removes all elements of dictionary dict"
      ]
    },
    {
      "cell_type": "code",
      "metadata": {
        "id": "WDaxtoaaKB-_",
        "colab_type": "code",
        "colab": {
          "base_uri": "https://localhost:8080/",
          "height": 51
        },
        "outputId": "c0ab39d6-7cfb-4ee2-bd4c-c97e99025480"
      },
      "source": [
        "dict = {'Name': 'Zara', 'Age': 7};\n",
        "print(\"Start Len : %d\" %  len(dict))\n",
        "dict.clear()\n",
        "print(\"End Len : %d\" %  len(dict))"
      ],
      "execution_count": 1,
      "outputs": [
        {
          "output_type": "stream",
          "text": [
            "Start Len : 2\n",
            "End Len : 0\n"
          ],
          "name": "stdout"
        }
      ]
    },
    {
      "cell_type": "markdown",
      "metadata": {
        "id": "UTJW_PI3KQXT",
        "colab_type": "text"
      },
      "source": [
        "dict.items()\n",
        "Returns a list of dict's (key, value) tuple pairs"
      ]
    },
    {
      "cell_type": "code",
      "metadata": {
        "id": "BmYC5JeDKYKm",
        "colab_type": "code",
        "colab": {
          "base_uri": "https://localhost:8080/",
          "height": 34
        },
        "outputId": "3d66326b-707a-40cd-a03a-018d9524ba24"
      },
      "source": [
        "dict = {'Name': 'Zara', 'Age': 7}\n",
        "print (\"Value : %s\" %  dict.items())"
      ],
      "execution_count": 2,
      "outputs": [
        {
          "output_type": "stream",
          "text": [
            "Value : dict_items([('Name', 'Zara'), ('Age', 7)])\n"
          ],
          "name": "stdout"
        }
      ]
    },
    {
      "cell_type": "markdown",
      "metadata": {
        "id": "PT07pV4dKeMm",
        "colab_type": "text"
      },
      "source": [
        "dict.copy()\n",
        "Returns a copy of dictionary dict"
      ]
    },
    {
      "cell_type": "code",
      "metadata": {
        "id": "t8JlSAKXKke4",
        "colab_type": "code",
        "colab": {
          "base_uri": "https://localhost:8080/",
          "height": 34
        },
        "outputId": "9323156f-0f90-4a2f-ba3f-a52d79aa427d"
      },
      "source": [
        "dict1 = {'Name': 'Zara', 'Age': 7};\n",
        "dict2 = dict1.copy()\n",
        "print (\"New Dictinary : %s\" %  str(dict2))"
      ],
      "execution_count": 3,
      "outputs": [
        {
          "output_type": "stream",
          "text": [
            "New Dictinary : {'Name': 'Zara', 'Age': 7}\n"
          ],
          "name": "stdout"
        }
      ]
    },
    {
      "cell_type": "markdown",
      "metadata": {
        "id": "t4j_Fg3rKohc",
        "colab_type": "text"
      },
      "source": [
        "Python Program to Generate a Dictionary that Contains Numbers (between 1 and n) in the Form (x,x*x)."
      ]
    },
    {
      "cell_type": "code",
      "metadata": {
        "id": "CbceihlzK25j",
        "colab_type": "code",
        "colab": {
          "base_uri": "https://localhost:8080/",
          "height": 51
        },
        "outputId": "dac7d728-6c0b-4bad-ac43-37c5205c433f"
      },
      "source": [
        "n=int(input(\"Enter a number:\"))\n",
        "d={x:x*x for x in range(1,n+1)}\n",
        "print(d)"
      ],
      "execution_count": 4,
      "outputs": [
        {
          "output_type": "stream",
          "text": [
            "Enter a number:6\n",
            "{1: 1, 2: 4, 3: 9, 4: 16, 5: 25, 6: 36}\n"
          ],
          "name": "stdout"
        }
      ]
    },
    {
      "cell_type": "markdown",
      "metadata": {
        "id": "CS51jri0LBz8",
        "colab_type": "text"
      },
      "source": [
        "Python Program to Sum All the Items in a Dictionary "
      ]
    },
    {
      "cell_type": "code",
      "metadata": {
        "id": "y5TNjTkfLGgP",
        "colab_type": "code",
        "colab": {
          "base_uri": "https://localhost:8080/",
          "height": 51
        },
        "outputId": "22151215-de79-48c7-f594-3031f28013b3"
      },
      "source": [
        "d={'A':100,'B':540,'C':239}\n",
        "print(\"Total sum of values in the dictionary:\")\n",
        "print(sum(d.values()))"
      ],
      "execution_count": 5,
      "outputs": [
        {
          "output_type": "stream",
          "text": [
            "Total sum of values in the dictionary:\n",
            "879\n"
          ],
          "name": "stdout"
        }
      ]
    },
    {
      "cell_type": "markdown",
      "metadata": {
        "id": "Pn2pJrO5LMZa",
        "colab_type": "text"
      },
      "source": [
        "Python Program to Remove the Given Key from a Dictionary "
      ]
    },
    {
      "cell_type": "code",
      "metadata": {
        "id": "dakxl6KPLQnS",
        "colab_type": "code",
        "colab": {
          "base_uri": "https://localhost:8080/",
          "height": 119
        },
        "outputId": "d1e73014-b0d7-4fdc-fb02-d9a2462c58f5"
      },
      "source": [
        "d = {'a':1,'b':2,'c':3,'d':4}\n",
        "print(\"Initial dictionary\")\n",
        "print(d)\n",
        "key=input(\"Enter the key to delete(a-d):\")\n",
        "if key in d: \n",
        "    del d[key]\n",
        "else:\n",
        "    print(\"Key not found!\")\n",
        "    exit(0)\n",
        "print(\"Updated dictionary\")\n",
        "print(d)\n"
      ],
      "execution_count": 3,
      "outputs": [
        {
          "output_type": "stream",
          "text": [
            "Initial dictionary\n",
            "{'a': 1, 'b': 2, 'c': 3, 'd': 4}\n",
            "Enter the key to delete(a-d):n\n",
            "Key not found!\n",
            "Updated dictionary\n",
            "{'a': 1, 'b': 2, 'c': 3, 'd': 4}\n"
          ],
          "name": "stdout"
        }
      ]
    },
    {
      "cell_type": "markdown",
      "metadata": {
        "id": "Np5prN9xMO0D",
        "colab_type": "text"
      },
      "source": [
        "Python Program to Remove the Given Key from a Dictionary"
      ]
    },
    {
      "cell_type": "code",
      "metadata": {
        "id": "Y_MEiDsnLhhi",
        "colab_type": "code",
        "colab": {
          "base_uri": "https://localhost:8080/",
          "height": 136
        },
        "outputId": "9e640c2b-4b49-4c07-f7fc-d944720c8e17"
      },
      "source": [
        "n=int(input(\"Enter no of records\"))\n",
        "d={}\n",
        "for i in range(1,n+1):\n",
        "    name= input(\"Enter name %d\"%(i))\n",
        "    mark=int(input(\"Enter mark %d\"%(i)))\n",
        "    d[name]=mark\n",
        "    print (d)\n"
      ],
      "execution_count": 2,
      "outputs": [
        {
          "output_type": "stream",
          "text": [
            "Enter no of records2\n",
            "Enter name 1pink\n",
            "Enter mark 120\n",
            "{'pink': 20}\n",
            "Enter name 2red\n",
            "Enter mark 225\n",
            "{'pink': 20, 'red': 25}\n"
          ],
          "name": "stdout"
        }
      ]
    },
    {
      "cell_type": "markdown",
      "metadata": {
        "id": "ozMENYtWMWW7",
        "colab_type": "text"
      },
      "source": [
        "Keys and Values example"
      ]
    },
    {
      "cell_type": "code",
      "metadata": {
        "id": "arEjrInpMbXE",
        "colab_type": "code",
        "colab": {
          "base_uri": "https://localhost:8080/",
          "height": 493
        },
        "outputId": "e3a23c04-6044-49cf-ec8f-d7dde8f95f12"
      },
      "source": [
        "    d={}\n",
        "    print (\" The dictionary elements are\")\n",
        "    for i in range(1,21):\n",
        "        d[i]=i**2\n",
        "    print (d)\n",
        "    # To print key and values\n",
        "    print (\" Key==> Value are\")\n",
        "    for (k,v) in d.items():\t\n",
        "        print(k,\"==>\",v)\n",
        "  # To print key only\n",
        "    print (\"\\nTo print key only\")\n",
        "    for k in d.keys():\t\n",
        "        print(k, end=\" \")\n",
        "  #To print value only\n",
        "    print (\"\\nTo print values only\")\n",
        "    for v in d.values():\t\n",
        "        print(v, end=\" \")\n"
      ],
      "execution_count": 1,
      "outputs": [
        {
          "output_type": "stream",
          "text": [
            " The dictionary elements are\n",
            "{1: 1, 2: 4, 3: 9, 4: 16, 5: 25, 6: 36, 7: 49, 8: 64, 9: 81, 10: 100, 11: 121, 12: 144, 13: 169, 14: 196, 15: 225, 16: 256, 17: 289, 18: 324, 19: 361, 20: 400}\n",
            " Key==> Value are\n",
            "1 ==> 1\n",
            "2 ==> 4\n",
            "3 ==> 9\n",
            "4 ==> 16\n",
            "5 ==> 25\n",
            "6 ==> 36\n",
            "7 ==> 49\n",
            "8 ==> 64\n",
            "9 ==> 81\n",
            "10 ==> 100\n",
            "11 ==> 121\n",
            "12 ==> 144\n",
            "13 ==> 169\n",
            "14 ==> 196\n",
            "15 ==> 225\n",
            "16 ==> 256\n",
            "17 ==> 289\n",
            "18 ==> 324\n",
            "19 ==> 361\n",
            "20 ==> 400\n",
            "\n",
            "To print key only\n",
            "1 2 3 4 5 6 7 8 9 10 11 12 13 14 15 16 17 18 19 20 \n",
            "To print values only\n",
            "1 4 9 16 25 36 49 64 81 100 121 144 169 196 225 256 289 324 361 400 "
          ],
          "name": "stdout"
        }
      ]
    },
    {
      "cell_type": "markdown",
      "metadata": {
        "id": "d028jU2kMmTT",
        "colab_type": "text"
      },
      "source": [
        "Python program to convert 2 digit number   into words"
      ]
    },
    {
      "cell_type": "code",
      "metadata": {
        "id": "5XFDhy95MtUz",
        "colab_type": "code",
        "colab": {
          "base_uri": "https://localhost:8080/",
          "height": 51
        },
        "outputId": "d25572a9-ae1d-4486-cd16-38d87341432e"
      },
      "source": [
        "d={0:'',1:'one',2:'two',3:'three',4:'four',5:'five',6:'six',7:'seven',8:'eight',9:'nine',\\\n",
        "   10:'ten',11:'eleven',12:'twelve',13:'thirteen',14:'fourteen',15:'fifteen',16:'sixteen',\\\n",
        "   17:'seventeen',18:'eightteen',19:'nineteen',20:'twenty',30:'thirty',40:'fourty',50:'fifty',\\\n",
        "   60:'sixty',70:'seventy',80:'eighty',90:'ninty'}\n",
        "\n",
        "num=int(input(\"Enter the integer between 1 to 99:\"))\n",
        "if (num<=20):\n",
        "      print(d[num])\n",
        "if(num>20 and num<100):\n",
        "        if num%10==0:       \n",
        "            print(d[num])\n",
        "        else:\n",
        "            print(d[num//10*10]+\" \"+d[num%10])\n",
        "\n"
      ],
      "execution_count": 2,
      "outputs": [
        {
          "output_type": "stream",
          "text": [
            "Enter the integer between 1 to 99:2\n",
            "two\n"
          ],
          "name": "stdout"
        }
      ]
    },
    {
      "cell_type": "markdown",
      "metadata": {
        "id": "qrSltbXlM-l4",
        "colab_type": "text"
      },
      "source": [
        "How to sort a dictionary by values in Python"
      ]
    },
    {
      "cell_type": "code",
      "metadata": {
        "id": "PZ4dq8kMNB0m",
        "colab_type": "code",
        "colab": {
          "base_uri": "https://localhost:8080/",
          "height": 51
        },
        "outputId": "c3602d09-c259-490f-d33b-867321432f28"
      },
      "source": [
        "d = {\"Pierre\": 42, \"Anne\": 33, \"Zoe\": 24}\n",
        "#Use the sorted function and operator module\n",
        "import operator\n",
        "sorted_d = sorted(d.items(), key=operator.itemgetter(1))\n",
        "print(sorted_d)\n",
        "sorted_a= sorted(d.items(), key=operator.itemgetter(1),reverse=True)\n",
        "print(sorted_a)"
      ],
      "execution_count": 3,
      "outputs": [
        {
          "output_type": "stream",
          "text": [
            "[('Zoe', 24), ('Anne', 33), ('Pierre', 42)]\n",
            "[('Pierre', 42), ('Anne', 33), ('Zoe', 24)]\n"
          ],
          "name": "stdout"
        }
      ]
    },
    {
      "cell_type": "markdown",
      "metadata": {
        "id": "_zx0bOy9NO9a",
        "colab_type": "text"
      },
      "source": [
        "Python Program to count the number of lines in a text file."
      ]
    },
    {
      "cell_type": "code",
      "metadata": {
        "id": "qzGcTHndNip5",
        "colab_type": "code",
        "colab": {}
      },
      "source": [
        "fname = input(\"Enter file name: \")\n",
        "num_lines = 0\n",
        "with open(fname, 'r') as f:\n",
        "    for line in f:\n",
        "        num_lines += 1\n",
        "print(\"Number of lines:\")\n",
        "print(num_lines)"
      ],
      "execution_count": 0,
      "outputs": []
    },
    {
      "cell_type": "markdown",
      "metadata": {
        "id": "j7P3pKmENlTi",
        "colab_type": "text"
      },
      "source": [
        "Python Program to count the number of words in a text file."
      ]
    },
    {
      "cell_type": "code",
      "metadata": {
        "id": "4-RCLNQmNpWK",
        "colab_type": "code",
        "colab": {}
      },
      "source": [
        "fname = input(\"Enter file name: \")\n",
        "num_words = 0\n",
        "with open(fname, 'r') as f:\n",
        "    for line in f:\n",
        "        words = line.split()\n",
        "        num_words += len(words)\n",
        "print(\"Number of words:\")\n",
        "print(num_words)"
      ],
      "execution_count": 0,
      "outputs": []
    },
    {
      "cell_type": "markdown",
      "metadata": {
        "id": "UbqeIygNNv-1",
        "colab_type": "text"
      },
      "source": [
        "Python Program to count the occurrences of a word in a text file."
      ]
    },
    {
      "cell_type": "code",
      "metadata": {
        "id": "j7D8XpYWN1k5",
        "colab_type": "code",
        "colab": {}
      },
      "source": [
        "fname = input(\"Enter file name: \")\n",
        "word=input(\"Enter word to be searched:\")\n",
        "k = 0\n",
        "\n",
        "with open(fname, 'r') as f:\n",
        "    for line in f:\n",
        "        words = line.split()\n",
        "        for i in words:\n",
        "            if(i==word):\n",
        "                k=k+1\n",
        "print(\"Occurrences of the word:\")\n",
        "print(k)"
      ],
      "execution_count": 0,
      "outputs": []
    },
    {
      "cell_type": "markdown",
      "metadata": {
        "id": "Ymbuo9tjN8J5",
        "colab_type": "text"
      },
      "source": [
        "Python Program to copy the contents of one file into another. "
      ]
    },
    {
      "cell_type": "code",
      "metadata": {
        "id": "yTd-tiGvOAc8",
        "colab_type": "code",
        "colab": {}
      },
      "source": [
        "with open(\"foo.txt\") as f:\n",
        "    with open(\"out.txt\", \"w\") as f1:\n",
        "        for line in f:\n",
        "            f1.write(line)"
      ],
      "execution_count": 0,
      "outputs": []
    },
    {
      "cell_type": "markdown",
      "metadata": {
        "id": "nySlYf-EOJCl",
        "colab_type": "text"
      },
      "source": [
        "Python Program to read the contents of the file in reverse order."
      ]
    },
    {
      "cell_type": "code",
      "metadata": {
        "id": "Z-I5Jm1oOOAN",
        "colab_type": "code",
        "colab": {}
      },
      "source": [
        ""
      ],
      "execution_count": 0,
      "outputs": []
    },
    {
      "cell_type": "code",
      "metadata": {
        "id": "fdR-2U9CORYt",
        "colab_type": "code",
        "colab": {}
      },
      "source": [
        "filename=input(\"Enter file name: \")\n",
        "    \n",
        "with open (filename,'r') as f:\n",
        "    for line in f:\n",
        "        l=line.split()\n",
        "        l.reverse() \n",
        "        st= \" \".join(l)\n",
        "        print (st)"
      ],
      "execution_count": 0,
      "outputs": []
    }
  ]
}