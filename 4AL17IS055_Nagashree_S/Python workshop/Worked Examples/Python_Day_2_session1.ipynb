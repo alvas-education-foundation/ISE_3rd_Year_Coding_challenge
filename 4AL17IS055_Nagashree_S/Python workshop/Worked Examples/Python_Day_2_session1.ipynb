{
  "nbformat": 4,
  "nbformat_minor": 0,
  "metadata": {
    "colab": {
      "name": "Python_Day_2_session1.ipynb",
      "provenance": [],
      "collapsed_sections": []
    },
    "kernelspec": {
      "name": "python3",
      "display_name": "Python 3"
    }
  },
  "cells": [
    {
      "cell_type": "markdown",
      "metadata": {
        "id": "zK-Trjgv2qWL",
        "colab_type": "text"
      },
      "source": [
        "Program to find the largest number in a list."
      ]
    },
    {
      "cell_type": "code",
      "metadata": {
        "id": "ieoDB-O12uAS",
        "colab_type": "code",
        "colab": {
          "base_uri": "https://localhost:8080/",
          "height": 119
        },
        "outputId": "972698fb-a506-43b3-c900-3e580bebb945"
      },
      "source": [
        "a=[]\n",
        "n=int(input(\"Enter number of elements:\"))\n",
        "for i in range(1,n+1):\n",
        "    b=int(input(\"Enter element:\"))\n",
        "    a.append(b)\n",
        "a.sort()\n",
        "print(\"Largest element is:\",a[n-1])\n",
        "\n"
      ],
      "execution_count": 7,
      "outputs": [
        {
          "output_type": "stream",
          "text": [
            "Enter number of elements:4\n",
            "Enter element:8\n",
            "Enter element:22\n",
            "Enter element:35\n",
            "Enter element:10000\n",
            "Largest element is: 10000\n"
          ],
          "name": "stdout"
        }
      ]
    },
    {
      "cell_type": "markdown",
      "metadata": {
        "id": "yOsoql_s4M8S",
        "colab_type": "text"
      },
      "source": [
        "Python Program to put the even and odd elements in a list into two different lists. "
      ]
    },
    {
      "cell_type": "code",
      "metadata": {
        "id": "dmcUOivZ4TIu",
        "colab_type": "code",
        "colab": {
          "base_uri": "https://localhost:8080/",
          "height": 170
        },
        "outputId": "212e9367-481c-495d-d7d5-42dbe7fabd2d"
      },
      "source": [
        "a=[]\n",
        "n=int(input(\"Enter number of elements:\"))\n",
        "for i in range(1,n+1):\n",
        "    b=int(input(\"Enter element:\"))\n",
        "    a.append(b)\n",
        "even=[]\n",
        "odd=[]\n",
        "for j in a:\n",
        "    if(j%2==0):\n",
        "        even.append(j)\n",
        "    else:\n",
        "        odd.append(j)\n",
        "print(\"The even list\",even)\n",
        "print(\"The odd list\",odd)\n",
        "\n"
      ],
      "execution_count": 10,
      "outputs": [
        {
          "output_type": "stream",
          "text": [
            "Enter number of elements:6\n",
            "Enter element:5\n",
            "Enter element:2\n",
            "Enter element:3\n",
            "Enter element:4\n",
            "Enter element:8\n",
            "Enter element:6\n",
            "The even list [2, 4, 8, 6]\n",
            "The odd list [5, 3]\n"
          ],
          "name": "stdout"
        }
      ]
    },
    {
      "cell_type": "markdown",
      "metadata": {
        "id": "zK-VFcXk4lky",
        "colab_type": "text"
      },
      "source": [
        "Python Program to merge two lists and sort it."
      ]
    },
    {
      "cell_type": "code",
      "metadata": {
        "id": "xkEanGgk4p3_",
        "colab_type": "code",
        "colab": {
          "base_uri": "https://localhost:8080/",
          "height": 153
        },
        "outputId": "1246f178-2e92-408d-e178-3d3cab9e16e4"
      },
      "source": [
        "a=[]\n",
        "c=[]\n",
        "n1=int(input(\"Enter number of elements:\"))\n",
        "for i in range(1,n1+1):\n",
        "    b=int(input(\"Enter element:\"))\n",
        "    a.append(b)\n",
        "n2=int(input(\"Enter number of elements:\"))\n",
        "for i in range(1,n2+1):\n",
        "    d=int(input(\"Enter element:\"))\n",
        "    c.append(d)\n",
        "new=a+c\n",
        "new.sort()\n",
        "print(\"Sorted list is:\",new)\n"
      ],
      "execution_count": 12,
      "outputs": [
        {
          "output_type": "stream",
          "text": [
            "Enter number of elements:2\n",
            "Enter element:6\n",
            "Enter element:8\n",
            "Enter number of elements:3\n",
            "Enter element:1\n",
            "Enter element:5\n",
            "Enter element:9\n",
            "Sorted list is: [1, 5, 6, 8, 9]\n"
          ],
          "name": "stdout"
        }
      ]
    },
    {
      "cell_type": "markdown",
      "metadata": {
        "id": "kvl7cmhs49HE",
        "colab_type": "text"
      },
      "source": [
        "Python Program to sort the list according to the second element in the sublist."
      ]
    },
    {
      "cell_type": "code",
      "metadata": {
        "id": "fsdU2uoe5Dpg",
        "colab_type": "code",
        "colab": {
          "base_uri": "https://localhost:8080/",
          "height": 34
        },
        "outputId": "98d3e8a5-7703-4ae2-8de6-cb51d9b46f79"
      },
      "source": [
        "a=[['A',34],['B',21],['C',26],['E',29]]\n",
        "for i in range(0,len(a)):\n",
        "    for j in range(i+1,len(a)):\n",
        "        if(a[i][1]>a[j][1]):\n",
        "            temp=a[j]\n",
        "            a[j]=a[i]\n",
        "            a[i]=temp\n",
        " \n",
        "print(a)"
      ],
      "execution_count": 13,
      "outputs": [
        {
          "output_type": "stream",
          "text": [
            "[['B', 21], ['C', 26], ['E', 29], ['A', 34]]\n"
          ],
          "name": "stdout"
        }
      ]
    },
    {
      "cell_type": "markdown",
      "metadata": {
        "id": "XLWj30795Qt5",
        "colab_type": "text"
      },
      "source": [
        "Python Program to find the second largest number in a list using bubble sort. "
      ]
    },
    {
      "cell_type": "code",
      "metadata": {
        "id": "PSJeX3nt5XDG",
        "colab_type": "code",
        "colab": {
          "base_uri": "https://localhost:8080/",
          "height": 153
        },
        "outputId": "4e493184-0975-4697-8478-662ac8261122"
      },
      "source": [
        "a=[]\n",
        "n=int(input(\"Enter number of elements:\"))\n",
        "for i in range(1,n+1):\n",
        "    b=int(input(\"Enter element:\"))\n",
        "    a.append(b)\n",
        "for i in range(0,len(a)):\n",
        "    for j in range(0,len(a)-i-1):\n",
        "        if(a[j]>a[j+1]):\n",
        "            temp=a[j]\n",
        "            a[j]=a[j+1]\n",
        "            a[j+1]=temp \n",
        "print('Second largest number is:',a[n-2])"
      ],
      "execution_count": 14,
      "outputs": [
        {
          "output_type": "stream",
          "text": [
            "Enter number of elements:6\n",
            "Enter element:8\n",
            "Enter element:7\n",
            "Enter element:3\n",
            "Enter element:11\n",
            "Enter element:50\n",
            "Enter element:9\n",
            "Second largest number is: 11\n"
          ],
          "name": "stdout"
        }
      ]
    },
    {
      "cell_type": "markdown",
      "metadata": {
        "id": "fGlHE4AO5pZt",
        "colab_type": "text"
      },
      "source": [
        "Program to create a list of tuples with the first element as the number and the second element as the square of the number."
      ]
    },
    {
      "cell_type": "code",
      "metadata": {
        "id": "TIhMvtyO5uYn",
        "colab_type": "code",
        "colab": {
          "base_uri": "https://localhost:8080/",
          "height": 88
        },
        "outputId": "5bc84a41-0bfe-4be1-d2c4-3591794cbd0f"
      },
      "source": [
        "l_range=int(input(\"Enter the lower range:\"))\n",
        "u_range=int(input(\"Enter the upper range:\"))\n",
        "a=[(x,x**2) for x in range(l_range,u_range+1)]\n",
        "print(a)\n"
      ],
      "execution_count": 15,
      "outputs": [
        {
          "output_type": "stream",
          "text": [
            "Enter the lower range:50\n",
            "Enter the upper range:350\n",
            "[(50, 2500), (51, 2601), (52, 2704), (53, 2809), (54, 2916), (55, 3025), (56, 3136), (57, 3249), (58, 3364), (59, 3481), (60, 3600), (61, 3721), (62, 3844), (63, 3969), (64, 4096), (65, 4225), (66, 4356), (67, 4489), (68, 4624), (69, 4761), (70, 4900), (71, 5041), (72, 5184), (73, 5329), (74, 5476), (75, 5625), (76, 5776), (77, 5929), (78, 6084), (79, 6241), (80, 6400), (81, 6561), (82, 6724), (83, 6889), (84, 7056), (85, 7225), (86, 7396), (87, 7569), (88, 7744), (89, 7921), (90, 8100), (91, 8281), (92, 8464), (93, 8649), (94, 8836), (95, 9025), (96, 9216), (97, 9409), (98, 9604), (99, 9801), (100, 10000), (101, 10201), (102, 10404), (103, 10609), (104, 10816), (105, 11025), (106, 11236), (107, 11449), (108, 11664), (109, 11881), (110, 12100), (111, 12321), (112, 12544), (113, 12769), (114, 12996), (115, 13225), (116, 13456), (117, 13689), (118, 13924), (119, 14161), (120, 14400), (121, 14641), (122, 14884), (123, 15129), (124, 15376), (125, 15625), (126, 15876), (127, 16129), (128, 16384), (129, 16641), (130, 16900), (131, 17161), (132, 17424), (133, 17689), (134, 17956), (135, 18225), (136, 18496), (137, 18769), (138, 19044), (139, 19321), (140, 19600), (141, 19881), (142, 20164), (143, 20449), (144, 20736), (145, 21025), (146, 21316), (147, 21609), (148, 21904), (149, 22201), (150, 22500), (151, 22801), (152, 23104), (153, 23409), (154, 23716), (155, 24025), (156, 24336), (157, 24649), (158, 24964), (159, 25281), (160, 25600), (161, 25921), (162, 26244), (163, 26569), (164, 26896), (165, 27225), (166, 27556), (167, 27889), (168, 28224), (169, 28561), (170, 28900), (171, 29241), (172, 29584), (173, 29929), (174, 30276), (175, 30625), (176, 30976), (177, 31329), (178, 31684), (179, 32041), (180, 32400), (181, 32761), (182, 33124), (183, 33489), (184, 33856), (185, 34225), (186, 34596), (187, 34969), (188, 35344), (189, 35721), (190, 36100), (191, 36481), (192, 36864), (193, 37249), (194, 37636), (195, 38025), (196, 38416), (197, 38809), (198, 39204), (199, 39601), (200, 40000), (201, 40401), (202, 40804), (203, 41209), (204, 41616), (205, 42025), (206, 42436), (207, 42849), (208, 43264), (209, 43681), (210, 44100), (211, 44521), (212, 44944), (213, 45369), (214, 45796), (215, 46225), (216, 46656), (217, 47089), (218, 47524), (219, 47961), (220, 48400), (221, 48841), (222, 49284), (223, 49729), (224, 50176), (225, 50625), (226, 51076), (227, 51529), (228, 51984), (229, 52441), (230, 52900), (231, 53361), (232, 53824), (233, 54289), (234, 54756), (235, 55225), (236, 55696), (237, 56169), (238, 56644), (239, 57121), (240, 57600), (241, 58081), (242, 58564), (243, 59049), (244, 59536), (245, 60025), (246, 60516), (247, 61009), (248, 61504), (249, 62001), (250, 62500), (251, 63001), (252, 63504), (253, 64009), (254, 64516), (255, 65025), (256, 65536), (257, 66049), (258, 66564), (259, 67081), (260, 67600), (261, 68121), (262, 68644), (263, 69169), (264, 69696), (265, 70225), (266, 70756), (267, 71289), (268, 71824), (269, 72361), (270, 72900), (271, 73441), (272, 73984), (273, 74529), (274, 75076), (275, 75625), (276, 76176), (277, 76729), (278, 77284), (279, 77841), (280, 78400), (281, 78961), (282, 79524), (283, 80089), (284, 80656), (285, 81225), (286, 81796), (287, 82369), (288, 82944), (289, 83521), (290, 84100), (291, 84681), (292, 85264), (293, 85849), (294, 86436), (295, 87025), (296, 87616), (297, 88209), (298, 88804), (299, 89401), (300, 90000), (301, 90601), (302, 91204), (303, 91809), (304, 92416), (305, 93025), (306, 93636), (307, 94249), (308, 94864), (309, 95481), (310, 96100), (311, 96721), (312, 97344), (313, 97969), (314, 98596), (315, 99225), (316, 99856), (317, 100489), (318, 101124), (319, 101761), (320, 102400), (321, 103041), (322, 103684), (323, 104329), (324, 104976), (325, 105625), (326, 106276), (327, 106929), (328, 107584), (329, 108241), (330, 108900), (331, 109561), (332, 110224), (333, 110889), (334, 111556), (335, 112225), (336, 112896), (337, 113569), (338, 114244), (339, 114921), (340, 115600), (341, 116281), (342, 116964), (343, 117649), (344, 118336), (345, 119025), (346, 119716), (347, 120409), (348, 121104), (349, 121801), (350, 122500)]\n"
          ],
          "name": "stdout"
        }
      ]
    },
    {
      "cell_type": "markdown",
      "metadata": {
        "id": "0ff1scxp5-iv",
        "colab_type": "text"
      },
      "source": [
        "Python Program to generate random numbers from 1 to 20 and append them to the list."
      ]
    },
    {
      "cell_type": "code",
      "metadata": {
        "id": "KcWcRMLB6FqT",
        "colab_type": "code",
        "colab": {
          "base_uri": "https://localhost:8080/",
          "height": 51
        },
        "outputId": "027ea515-86fe-4798-d2f9-af4fbdcef029"
      },
      "source": [
        "import random\n",
        "a=[]\n",
        "n=int(input(\"Enter number of elements:\"))\n",
        "for j in range(n):\n",
        "    a.append(random.randint(1,20))\n",
        "print('Randomised list is: ',a)"
      ],
      "execution_count": 16,
      "outputs": [
        {
          "output_type": "stream",
          "text": [
            "Enter number of elements:3\n",
            "Randomised list is:  [11, 19, 7]\n"
          ],
          "name": "stdout"
        }
      ]
    }
  ]
}