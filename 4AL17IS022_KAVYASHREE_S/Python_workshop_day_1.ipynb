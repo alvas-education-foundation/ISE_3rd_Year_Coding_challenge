{
  "nbformat": 4,
  "nbformat_minor": 0,
  "metadata": {
    "colab": {
      "name": "Python workshop-day 1.ipynb",
      "provenance": [],
      "collapsed_sections": [],
      "authorship_tag": "ABX9TyP7zeeACXMJo9oDP5Ifz4vP",
      "include_colab_link": true
    },
    "kernelspec": {
      "name": "python3",
      "display_name": "Python 3"
    }
  },
  "cells": [
    {
      "cell_type": "markdown",
      "metadata": {
        "id": "view-in-github",
        "colab_type": "text"
      },
      "source": [
        "<a href=\"https://colab.research.google.com/github/alvas-education-foundation/ISE_3rd_Year_Coding_challenge/blob/master/4AL17IS022_KAVYASHREE_S/Python_workshop_day_1.ipynb\" target=\"_parent\"><img src=\"https://colab.research.google.com/assets/colab-badge.svg\" alt=\"Open In Colab\"/></a>"
      ]
    },
    {
      "cell_type": "code",
      "metadata": {
        "id": "3krlvdE6ogLO",
        "colab_type": "code",
        "outputId": "67a28a68-afe0-4b56-9fd5-3acf2b29dd12",
        "colab": {
          "base_uri": "https://localhost:8080/",
          "height": 68
        }
      },
      "source": [
        "#Python Program to Add Two Numbers getting through key board\n",
        "num1 = int(input(\"Enter first no\"))\n",
        "num2 = int(input(\"Enter second no\"))\n",
        "\n",
        "# Adding the two numbers\n",
        "sum = num1 + num2\n",
        "\n",
        "# Display the sum\n",
        "print('The sum of {0} and {1} is {2}'.format(num1, num2, sum))\n"
      ],
      "execution_count": 0,
      "outputs": [
        {
          "output_type": "stream",
          "text": [
            "Enter first no5\n",
            "Enter second no5\n",
            "The sum of 5 and 5 is 10\n"
          ],
          "name": "stdout"
        }
      ]
    },
    {
      "cell_type": "code",
      "metadata": {
        "id": "6A6qC2qfowHf",
        "colab_type": "code",
        "outputId": "2ba3efa2-0cbb-43e2-b3d8-4b422f0865a1",
        "colab": {
          "base_uri": "https://localhost:8080/",
          "height": 51
        }
      },
      "source": [
        "#Python program to check if the input year is a leap year or not\n",
        "year = int(input(\"Enter a year: \"))\n",
        "\n",
        "if ((year % 4) == 0 and (year % 100)  != 0) or ((year % 400) == 0):\n",
        "  print(\"{0} is a leap year\".format(year))\n",
        "else:\n",
        "  print(\"{0} is not a leap year\".format(year))\n",
        "\n"
      ],
      "execution_count": 0,
      "outputs": [
        {
          "output_type": "stream",
          "text": [
            "Enter a year: 2012\n",
            "2012 is a leap year\n"
          ],
          "name": "stdout"
        }
      ]
    },
    {
      "cell_type": "code",
      "metadata": {
        "id": "UeZVQjM2o8cI",
        "colab_type": "code",
        "outputId": "ca444e8d-a1f8-4478-f9d2-67d1fbda39bd",
        "colab": {
          "base_uri": "https://localhost:8080/",
          "height": 34
        }
      },
      "source": [
        "Python Program to Generate a Random Number \n",
        "import random\n",
        "\n",
        "print(random.randint(0,9))\n"
      ],
      "execution_count": 0,
      "outputs": [
        {
          "output_type": "stream",
          "text": [
            "6\n"
          ],
          "name": "stdout"
        }
      ]
    },
    {
      "cell_type": "code",
      "metadata": {
        "id": "MbirRsABrGab",
        "colab_type": "code",
        "outputId": "752967f3-1f24-44ab-8714-f665ea2d49f9",
        "colab": {
          "base_uri": "https://localhost:8080/",
          "height": 51
        }
      },
      "source": [
        "#Python Program to Convert Kilometers to Miles \n",
        "kilometers = int(input(\"Enter value in kilometers\"))\n",
        "\n",
        "# conversion factor\n",
        "conv_fac = 0.621371\n",
        "\n",
        "# calculate miles\n",
        "miles = kilometers * conv_fac\n",
        "print('%0.3f kilometers is equal to %0.3f miles' %(kilometers,miles))\n"
      ],
      "execution_count": 0,
      "outputs": [
        {
          "output_type": "stream",
          "text": [
            "Enter value in kilometers20\n",
            "20.000 kilometers is equal to 12.427 miles\n"
          ],
          "name": "stdout"
        }
      ]
    },
    {
      "cell_type": "code",
      "metadata": {
        "id": "Z3H2Yn1rrOd0",
        "colab_type": "code",
        "outputId": "0607c570-824f-491c-e124-a11d9b82cef0",
        "colab": {
          "base_uri": "https://localhost:8080/",
          "height": 85
        }
      },
      "source": [
        "#Python Program to Solve Quadratic Equation \n",
        "import cmath\n",
        "\n",
        "# To take coefficient input from the users\n",
        "a = float(input('Enter a: '))\n",
        "b = float(input('Enter b: '))\n",
        "c = float(input('Enter c: '))\n",
        "\n",
        "# calculate the discriminant\n",
        "d = (b**2) - (4*a*c)\n",
        "\n",
        "# find two solutions\n",
        "sol1 = (-b-cmath.sqrt(d))/(2*a)\n",
        "sol2 = (-b+cmath.sqrt(d))/(2*a)\n",
        "\n",
        "print('The solution are {0} and {1}'.format(sol1,sol2))\n"
      ],
      "execution_count": 0,
      "outputs": [
        {
          "output_type": "stream",
          "text": [
            "Enter a: 1\n",
            "Enter b: 5\n",
            "Enter c: 3\n",
            "The solution are (-4.302775637731995+0j) and (-0.6972243622680054+0j)\n"
          ],
          "name": "stdout"
        }
      ]
    },
    {
      "cell_type": "code",
      "metadata": {
        "id": "wnE68z4Zraqz",
        "colab_type": "code",
        "outputId": "c146db41-d13b-49fe-96fd-703f42bc47e4",
        "colab": {
          "base_uri": "https://localhost:8080/",
          "height": 51
        }
      },
      "source": [
        "#Python Program to find prime or not using function\n",
        "def test_prime(n):\n",
        "  if (n==1):\n",
        "    return False\n",
        "  elif (n==2):\n",
        "    return True;\n",
        "  else:\n",
        "    for x in range(2,n):\n",
        "      if(n % x==0):\n",
        "        return False\n",
        "      return True\n",
        "no=int(input(\"Enter the number\"))\n",
        "if (test_prime(no)) is True :\n",
        "  print(\" {0} is a prime no\".format(no))\n",
        "else:\n",
        "  print(\" {0} is not a prime no\".format(no))\n"
      ],
      "execution_count": 0,
      "outputs": [
        {
          "output_type": "stream",
          "text": [
            "Enter the number11\n",
            " 11 is a prime no\n"
          ],
          "name": "stdout"
        }
      ]
    },
    {
      "cell_type": "code",
      "metadata": {
        "id": "mdrOoe-9r63B",
        "colab_type": "code",
        "outputId": "fdaeaf2d-5b1d-424d-fa5e-18fccf861eb4",
        "colab": {
          "base_uri": "https://localhost:8080/",
          "height": 425
        }
      },
      "source": [
        "#Calculator program\n",
        "loop = 1 # 1 means loop; anything else means don't loop.\n",
        "choice = 0 # This variable holds the user's choice in the menu\n",
        "\n",
        "def add(add1,add2):\n",
        "  return add1 + add2 \n",
        "def sub(sub1,sub2):\n",
        "  return sub1 - sub2\n",
        "def mul(mul1,mul2):\n",
        "  return mul1 * mul2\n",
        "def div(div1,div2):\n",
        "  return div1 / div2 \n",
        "\n",
        "while loop == 1:\n",
        "# Print what options you have\n",
        "  print (\"Welcome to calculator.py\")\n",
        "\n",
        "  print (\"your options are:\")\n",
        "  print (\"\")\n",
        "  print(\"1) Addition\")\n",
        "  print(\"2) Subtraction\")\n",
        "  print (\"3) Multiplication\")\n",
        "  print(\"4) Division\")\n",
        "  print (\"5) Quit calculator.py\")\n",
        "  print(\"\")\n",
        "\n",
        "  choice = int(input(\"Choose your option: \"))\n",
        "\n",
        "  if choice == 1:\n",
        "    add1 = int(input(\"Add this: \"))\n",
        "    add2 = int(input(\"to this: \"))\n",
        "    print (add(add1,add2))\n",
        "  elif choice == 2:\n",
        "    sub2 = int(input(\"Subtract this: \"))\n",
        "    sub1 = int(input(\"from this: \"))\n",
        "    print (sub(sub1,sub2))\n",
        "  elif choice == 3:\n",
        "    mul1 = int(input(\"Multiply this: \"))\n",
        "    mul2 = int(input(\"with this: \"))\n",
        "    print (mul(mul1,mul2))\n",
        "\n",
        "  elif choice == 4:\n",
        "    div1 = int(input(\"Divide this: \"))\n",
        "    div2 = int(input(\"by this: \"))\n",
        "    print (div(div1,div2))\n",
        "  elif choice == 5:\n",
        "    loop = 0\n",
        "\t\n",
        "print (\"Thank-you for using calculator.py!\")\n"
      ],
      "execution_count": 0,
      "outputs": [
        {
          "output_type": "stream",
          "text": [
            "Welcome to calculator.py\n",
            "your options are:\n",
            "\n",
            "1) Addition\n",
            "2) Subtraction\n",
            "3) Multiplication\n",
            "4) Division\n",
            "5) Quit calculator.py\n",
            "\n",
            "Choose your option: 1\n",
            "Add this: 5\n",
            "to this: 5\n",
            "10\n",
            "Welcome to calculator.py\n",
            "your options are:\n",
            "\n",
            "1) Addition\n",
            "2) Subtraction\n",
            "3) Multiplication\n",
            "4) Division\n",
            "5) Quit calculator.py\n",
            "\n",
            "Choose your option: 5\n",
            "Thank-you for using calculator.py!\n"
          ],
          "name": "stdout"
        }
      ]
    },
    {
      "cell_type": "code",
      "metadata": {
        "id": "NwwQYP-Wz6y5",
        "colab_type": "code",
        "outputId": "b24c2588-40a5-4d9a-8dcd-34aaa29c3459",
        "colab": {
          "base_uri": "https://localhost:8080/",
          "height": 68
        }
      },
      "source": [
        "#Python Program to find the factorial of a number using loop.\n",
        "n=int(input(\"Enter number:\"))\n",
        "fact=1\n",
        "\n",
        "while(n>0):\n",
        "  fact=fact*n\n",
        "  n=n-1\n",
        "print(\"Factorial of the number is: \")\n",
        "print(fact)\n",
        "\n"
      ],
      "execution_count": 0,
      "outputs": [
        {
          "output_type": "stream",
          "text": [
            "Enter number:5\n",
            "Factorial of the number is: \n",
            "120\n"
          ],
          "name": "stdout"
        }
      ]
    },
    {
      "cell_type": "code",
      "metadata": {
        "id": "WkwV1tm80KBL",
        "colab_type": "code",
        "outputId": "6742a1ed-8309-4169-9f14-ce476a3d9c63",
        "colab": {
          "base_uri": "https://localhost:8080/",
          "height": 68
        }
      },
      "source": [
        "#Python Program to reverse a number using loop \n",
        "r=0\n",
        "n=int(input(\"Enter a number: \"))\n",
        "while(n>0):\n",
        "  dig=n%10\n",
        "  r=r*10+dig\n",
        "  n=n//10\n",
        "print(\"The reversed no  is:\")\n",
        "print(r)\n"
      ],
      "execution_count": 0,
      "outputs": [
        {
          "output_type": "stream",
          "text": [
            "Enter a number: 456\n",
            "The reversed no  is:\n",
            "654\n"
          ],
          "name": "stdout"
        }
      ]
    },
    {
      "cell_type": "code",
      "metadata": {
        "id": "hSMeFrnN0aJz",
        "colab_type": "code",
        "outputId": "a98578f1-7ce6-4ddd-95eb-9bfc3442a753",
        "colab": {
          "base_uri": "https://localhost:8080/",
          "height": 187
        }
      },
      "source": [
        "#Write a Python program to construct the following pattern, using a nested for loop.\n",
        "n=5;\n",
        "for i in range(n):\n",
        "  for j in range(i):\n",
        "    print ('* ', end=\"\")\n",
        "  print('')\n",
        "\n",
        "for i in range(n,0,-1):\n",
        "  for j in range(i):\n",
        "    print('* ', end=\"\")\n",
        "  print('')\n"
      ],
      "execution_count": 0,
      "outputs": [
        {
          "output_type": "stream",
          "text": [
            "\n",
            "* \n",
            "* * \n",
            "* * * \n",
            "* * * * \n",
            "* * * * * \n",
            "* * * * \n",
            "* * * \n",
            "* * \n",
            "* \n"
          ],
          "name": "stdout"
        }
      ]
    },
    {
      "cell_type": "code",
      "metadata": {
        "id": "fl-cZRXN0k10",
        "colab_type": "code",
        "outputId": "43c784ba-a73a-42d9-a516-2f0918cf3165",
        "colab": {
          "base_uri": "https://localhost:8080/",
          "height": 68
        }
      },
      "source": [
        "#Python Program to replace all occurrences of ‘a’ with ‘$’ in a string. \n",
        "string=input(\"Enter string:\")\n",
        "string=string.replace('a','$')\n",
        "string=string.replace('A','$')\n",
        "print(\"Modified string:\")\n",
        "print(string)\n"
      ],
      "execution_count": 0,
      "outputs": [
        {
          "output_type": "stream",
          "text": [
            "Enter string:abcd\n",
            "Modified string:\n",
            "$bcd\n"
          ],
          "name": "stdout"
        }
      ]
    },
    {
      "cell_type": "code",
      "metadata": {
        "id": "BBPqQKFR0voi",
        "colab_type": "code",
        "outputId": "614efbec-2a77-4bcc-f647-6d203680c6a2",
        "colab": {
          "base_uri": "https://localhost:8080/",
          "height": 85
        }
      },
      "source": [
        "#Python Program to remove the nth index character from a non-empty string. \n",
        "def remove(string, n):  \n",
        "  first = string[:n]   \n",
        "  last = string[n+1:]  \n",
        "  return first + last\n",
        "string=input(\"Enter the sring:\")\n",
        "n=int(input(\"Enter the index of the character to remove:\"))\n",
        "print(\"Modified string:\")\n",
        "print(remove(string, n))\n"
      ],
      "execution_count": 0,
      "outputs": [
        {
          "output_type": "stream",
          "text": [
            "Enter the sring:string\n",
            "Enter the index of the character to remove:3\n",
            "Modified string:\n",
            "strng\n"
          ],
          "name": "stdout"
        }
      ]
    },
    {
      "cell_type": "code",
      "metadata": {
        "id": "Cg2Nk86I0_Up",
        "colab_type": "code",
        "outputId": "5ead0ab3-385e-4e8b-e191-8183c9187fbb",
        "colab": {
          "base_uri": "https://localhost:8080/",
          "height": 68
        }
      },
      "source": [
        "#Python Program to detect if two strings are anagrams\n",
        "s1=input(\"Enter first string:\")\n",
        "s2=input(\"Enter second string:\")\n",
        "if(sorted(s1)==sorted(s2)):\n",
        "  print(\"The strings are anagrams.\")\n",
        "else:\n",
        "  print(\"The strings aren't anagrams.\")\n"
      ],
      "execution_count": 0,
      "outputs": [
        {
          "output_type": "stream",
          "text": [
            "Enter first string:malayalam\n",
            "Enter second string:ala\n",
            "The strings aren't anagrams.\n"
          ],
          "name": "stdout"
        }
      ]
    },
    {
      "cell_type": "code",
      "metadata": {
        "id": "oBJqdS6a1lM3",
        "colab_type": "code",
        "outputId": "c7417d7c-23ff-43e8-f102-b11ecec2665b",
        "colab": {
          "base_uri": "https://localhost:8080/",
          "height": 68
        }
      },
      "source": [
        "#Python Program to form a string where the first character and the last character have been exchanged. \n",
        "def change(string):\n",
        "  return string[-1:] + string[1:-1] + string[:1]\n",
        "string=input(\"Enter string:\")\n",
        "print(\"Modified string:\")\n",
        "print(change(string))\n"
      ],
      "execution_count": 0,
      "outputs": [
        {
          "output_type": "stream",
          "text": [
            "Enter string:hello\n",
            "Modified string:\n",
            "oellh\n"
          ],
          "name": "stdout"
        }
      ]
    },
    {
      "cell_type": "code",
      "metadata": {
        "id": "en2p8-OT10Rd",
        "colab_type": "code",
        "outputId": "bba029df-e5da-4b60-97f3-e3e9402ed1b9",
        "colab": {
          "base_uri": "https://localhost:8080/",
          "height": 68
        }
      },
      "source": [
        "#Python Program to  count number of vowels from a non-empty string\n",
        "string=input(\"Enter string:\")\n",
        "vowels=0\n",
        "for i in string:\n",
        "  if(i=='a' or i=='e' or i=='i' or i=='o' or i=='u' or i=='A' or i=='E' or i=='I' or i=='O' or i=='U'):\n",
        "    vowels=vowels+1\n",
        "print(\"Number of vowels are:\")\n",
        "print(vowels)\n"
      ],
      "execution_count": 0,
      "outputs": [
        {
          "output_type": "stream",
          "text": [
            "Enter string:helloo\n",
            "Number of vowels are:\n",
            "3\n"
          ],
          "name": "stdout"
        }
      ]
    },
    {
      "cell_type": "code",
      "metadata": {
        "id": "Ab1rIV8N2C9g",
        "colab_type": "code",
        "outputId": "b420b22a-e37f-4ac0-de18-6a376359561d",
        "colab": {
          "base_uri": "https://localhost:8080/",
          "height": 170
        }
      },
      "source": [
        "#Program for Divide by zero error detection\n",
        "flag = True\n",
        "\n",
        "def div(a, b):  \n",
        "  try:\n",
        "    print(\"Finally the division of %d/%d is %f\" % (a, b,a/b))\n",
        "    global flag\n",
        "    flag=False\n",
        "  except ZeroDivisionError:\n",
        "    print(\"Zero Division Error detected\")\n",
        "  else:\n",
        "    print(\"Division is successful\") \n",
        "  finally:\n",
        "    if flag is True:\n",
        "      print(\"Try again\")     \n",
        "    else:\n",
        "      print(\"Thank you\")\n",
        "\n",
        "#global flag\n",
        "\n",
        "while flag is True:\n",
        "  div(int(input(\"Enter numerator\")),int(input(\"Enter denominator\")))\n"
      ],
      "execution_count": 0,
      "outputs": [
        {
          "output_type": "stream",
          "text": [
            "Enter numerator7\n",
            "Enter denominator0\n",
            "Zero Division Error detected\n",
            "Try again\n",
            "Enter numerator6\n",
            "Enter denominator2\n",
            "Finally the division of 6/2 is 3.000000\n",
            "Division is successful\n",
            "Thank you\n"
          ],
          "name": "stdout"
        }
      ]
    },
    {
      "cell_type": "code",
      "metadata": {
        "id": "widBTe6p-N3G",
        "colab_type": "code",
        "colab": {
          "base_uri": "https://localhost:8080/",
          "height": 85
        },
        "outputId": "b973a2fe-9cf6-4008-d49f-a36b13427888"
      },
      "source": [
        "#Program for ValueError error detection\n",
        "\n",
        "while True:\n",
        "  try:\n",
        "    x = int(input(\"Please enter a number: \"))\n",
        "    print(\" That was valid number. Thank you\")\n",
        "    break\n",
        "  except ValueError:\n",
        "    print(\"Oops!  That was no valid number.  Try again...\")\n"
      ],
      "execution_count": 3,
      "outputs": [
        {
          "output_type": "stream",
          "text": [
            "Please enter a number: a\n",
            "Oops!  That was no valid number.  Try again...\n",
            "Please enter a number: 5\n",
            " That was valid number. Thank you\n"
          ],
          "name": "stdout"
        }
      ]
    }
  ]
}