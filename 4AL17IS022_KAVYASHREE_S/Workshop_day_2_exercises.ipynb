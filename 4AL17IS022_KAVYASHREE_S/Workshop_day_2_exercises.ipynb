{
  "nbformat": 4,
  "nbformat_minor": 0,
  "metadata": {
    "colab": {
      "name": "Workshop day 2 exercises.ipynb",
      "provenance": [],
      "collapsed_sections": [],
      "authorship_tag": "ABX9TyORBilG+Av91KOD3b2ZdpOf",
      "include_colab_link": true
    },
    "kernelspec": {
      "name": "python3",
      "display_name": "Python 3"
    }
  },
  "cells": [
    {
      "cell_type": "markdown",
      "metadata": {
        "id": "view-in-github",
        "colab_type": "text"
      },
      "source": [
        "<a href=\"https://colab.research.google.com/github/alvas-education-foundation/ISE_3rd_Year_Coding_challenge/blob/master/4AL17IS022_KAVYASHREE_S/Workshop_day_2_exercises.ipynb\" target=\"_parent\"><img src=\"https://colab.research.google.com/assets/colab-badge.svg\" alt=\"Open In Colab\"/></a>"
      ]
    },
    {
      "cell_type": "markdown",
      "metadata": {
        "id": "r7-JqMCSau84",
        "colab_type": "text"
      },
      "source": [
        "#**SESSION 1**"
      ]
    },
    {
      "cell_type": "markdown",
      "metadata": {
        "id": "grRtFnYjbOFP",
        "colab_type": "text"
      },
      "source": [
        "#LIST EXERCISES"
      ]
    },
    {
      "cell_type": "markdown",
      "metadata": {
        "id": "oaDIl7Qjaylj",
        "colab_type": "text"
      },
      "source": [
        "#print multiples of 3 upto 200 using a list"
      ]
    },
    {
      "cell_type": "code",
      "metadata": {
        "id": "rHnoPJDEZ_YW",
        "colab_type": "code",
        "colab": {
          "base_uri": "https://localhost:8080/",
          "height": 54
        },
        "outputId": "ec5d148b-0a2e-46c7-caa8-a42f9903eb72"
      },
      "source": [
        "a=[]\n",
        "a=[3*x for x in range(1,200)]\n",
        "print(\"the multiples of 3 are:\",a)\n"
      ],
      "execution_count": null,
      "outputs": [
        {
          "output_type": "stream",
          "text": [
            "the multiples of 3 are: [3, 6, 9, 12, 15, 18, 21, 24, 27, 30, 33, 36, 39, 42, 45, 48, 51, 54, 57, 60, 63, 66, 69, 72, 75, 78, 81, 84, 87, 90, 93, 96, 99, 102, 105, 108, 111, 114, 117, 120, 123, 126, 129, 132, 135, 138, 141, 144, 147, 150, 153, 156, 159, 162, 165, 168, 171, 174, 177, 180, 183, 186, 189, 192, 195, 198, 201, 204, 207, 210, 213, 216, 219, 222, 225, 228, 231, 234, 237, 240, 243, 246, 249, 252, 255, 258, 261, 264, 267, 270, 273, 276, 279, 282, 285, 288, 291, 294, 297, 300, 303, 306, 309, 312, 315, 318, 321, 324, 327, 330, 333, 336, 339, 342, 345, 348, 351, 354, 357, 360, 363, 366, 369, 372, 375, 378, 381, 384, 387, 390, 393, 396, 399, 402, 405, 408, 411, 414, 417, 420, 423, 426, 429, 432, 435, 438, 441, 444, 447, 450, 453, 456, 459, 462, 465, 468, 471, 474, 477, 480, 483, 486, 489, 492, 495, 498, 501, 504, 507, 510, 513, 516, 519, 522, 525, 528, 531, 534, 537, 540, 543, 546, 549, 552, 555, 558, 561, 564, 567, 570, 573, 576, 579, 582, 585, 588, 591, 594, 597]\n"
          ],
          "name": "stdout"
        }
      ]
    },
    {
      "cell_type": "markdown",
      "metadata": {
        "id": "kwr_dd1Ra8Yk",
        "colab_type": "text"
      },
      "source": [
        "#print the nos only divisable by 5 and 7 between 1000 and 2000 using a list( both inclusive)"
      ]
    },
    {
      "cell_type": "code",
      "metadata": {
        "id": "qf-GNtkHbCEa",
        "colab_type": "code",
        "colab": {
          "base_uri": "https://localhost:8080/",
          "height": 71
        },
        "outputId": "1743bba5-17a8-4030-e55c-2f132eed77eb"
      },
      "source": [
        "a=[]\n",
        "a=[x for x in range(1000,2000)]\n",
        "div5=[]\n",
        "div7=[]\n",
        "for i in a:\n",
        "  if(i%5==0):\n",
        "    div5.append(i)\n",
        "  elif(i%7==0):\n",
        "    div7.append(i)\n",
        "print(\"no divisible by 5\",div5)\n",
        "print(\"no divisible by 7\",div7)\n"
      ],
      "execution_count": null,
      "outputs": [
        {
          "output_type": "stream",
          "text": [
            "no divisible by 5 [1000, 1005, 1010, 1015, 1020, 1025, 1030, 1035, 1040, 1045, 1050, 1055, 1060, 1065, 1070, 1075, 1080, 1085, 1090, 1095, 1100, 1105, 1110, 1115, 1120, 1125, 1130, 1135, 1140, 1145, 1150, 1155, 1160, 1165, 1170, 1175, 1180, 1185, 1190, 1195, 1200, 1205, 1210, 1215, 1220, 1225, 1230, 1235, 1240, 1245, 1250, 1255, 1260, 1265, 1270, 1275, 1280, 1285, 1290, 1295, 1300, 1305, 1310, 1315, 1320, 1325, 1330, 1335, 1340, 1345, 1350, 1355, 1360, 1365, 1370, 1375, 1380, 1385, 1390, 1395, 1400, 1405, 1410, 1415, 1420, 1425, 1430, 1435, 1440, 1445, 1450, 1455, 1460, 1465, 1470, 1475, 1480, 1485, 1490, 1495, 1500, 1505, 1510, 1515, 1520, 1525, 1530, 1535, 1540, 1545, 1550, 1555, 1560, 1565, 1570, 1575, 1580, 1585, 1590, 1595, 1600, 1605, 1610, 1615, 1620, 1625, 1630, 1635, 1640, 1645, 1650, 1655, 1660, 1665, 1670, 1675, 1680, 1685, 1690, 1695, 1700, 1705, 1710, 1715, 1720, 1725, 1730, 1735, 1740, 1745, 1750, 1755, 1760, 1765, 1770, 1775, 1780, 1785, 1790, 1795, 1800, 1805, 1810, 1815, 1820, 1825, 1830, 1835, 1840, 1845, 1850, 1855, 1860, 1865, 1870, 1875, 1880, 1885, 1890, 1895, 1900, 1905, 1910, 1915, 1920, 1925, 1930, 1935, 1940, 1945, 1950, 1955, 1960, 1965, 1970, 1975, 1980, 1985, 1990, 1995]\n",
            "no divisible by 7 [1001, 1008, 1022, 1029, 1036, 1043, 1057, 1064, 1071, 1078, 1092, 1099, 1106, 1113, 1127, 1134, 1141, 1148, 1162, 1169, 1176, 1183, 1197, 1204, 1211, 1218, 1232, 1239, 1246, 1253, 1267, 1274, 1281, 1288, 1302, 1309, 1316, 1323, 1337, 1344, 1351, 1358, 1372, 1379, 1386, 1393, 1407, 1414, 1421, 1428, 1442, 1449, 1456, 1463, 1477, 1484, 1491, 1498, 1512, 1519, 1526, 1533, 1547, 1554, 1561, 1568, 1582, 1589, 1596, 1603, 1617, 1624, 1631, 1638, 1652, 1659, 1666, 1673, 1687, 1694, 1701, 1708, 1722, 1729, 1736, 1743, 1757, 1764, 1771, 1778, 1792, 1799, 1806, 1813, 1827, 1834, 1841, 1848, 1862, 1869, 1876, 1883, 1897, 1904, 1911, 1918, 1932, 1939, 1946, 1953, 1967, 1974, 1981, 1988]\n"
          ],
          "name": "stdout"
        }
      ]
    },
    {
      "cell_type": "markdown",
      "metadata": {
        "id": "KtAO4AOgbBNE",
        "colab_type": "text"
      },
      "source": [
        "#Add the n number of names in a list and print them alphabetically and reverse alphabetically."
      ]
    },
    {
      "cell_type": "code",
      "metadata": {
        "id": "6oPwpSrsbFvh",
        "colab_type": "code",
        "colab": {
          "base_uri": "https://localhost:8080/",
          "height": 119
        },
        "outputId": "2cf320a0-6316-4c75-ad4f-837101307540"
      },
      "source": [
        "a=[]\n",
        "n=int(input(\"enter the no of names\"))\n",
        "for i in range(1,n+1):\n",
        "  b=input(\"enter a name:\")\n",
        "  a.append(b)\n",
        "a.sort()\n",
        "print(a)\n",
        "a.reverse()\n",
        "print(a)\n"
      ],
      "execution_count": null,
      "outputs": [
        {
          "output_type": "stream",
          "text": [
            "enter the no of names3\n",
            "enter a name:XYZ\n",
            "enter a name:ABC\n",
            "enter a name:PQR\n",
            "['ABC', 'PQR', 'XYZ']\n",
            "['XYZ', 'PQR', 'ABC']\n"
          ],
          "name": "stdout"
        }
      ]
    },
    {
      "cell_type": "markdown",
      "metadata": {
        "id": "t6f5bbLPatQm",
        "colab_type": "text"
      },
      "source": [
        "#Print  perfect squares and divisible by 5 between 500 and 1000( (both inclusive) using list"
      ]
    },
    {
      "cell_type": "code",
      "metadata": {
        "id": "4zQTBcD7bJCM",
        "colab_type": "code",
        "colab": {
          "base_uri": "https://localhost:8080/",
          "height": 34
        },
        "outputId": "ffc2d799-8961-48c2-d705-414219ac6ff9"
      },
      "source": [
        "a=[]\n",
        "d=[]\n",
        "a=list(range(500,1001))\n",
        "for i in range(500,1001):\n",
        "    b=[i for i in a if i%5==0]\n",
        "for j in range(500,1001):\n",
        "    sq=[j for j in b if (int(j**0.5))**2==j]\n",
        "print(sq)"
      ],
      "execution_count": null,
      "outputs": [
        {
          "output_type": "stream",
          "text": [
            "[625, 900]\n"
          ],
          "name": "stdout"
        }
      ]
    },
    {
      "cell_type": "markdown",
      "metadata": {
        "id": "mpy4GSMubSib",
        "colab_type": "text"
      },
      "source": [
        "#TUPLE EXERCISES"
      ]
    },
    {
      "cell_type": "markdown",
      "metadata": {
        "id": "loQ4eQFRbU-x",
        "colab_type": "text"
      },
      "source": [
        "#Get  a string and store word by word as elements in a tuple and find the largest word in the  tuple and print it"
      ]
    },
    {
      "cell_type": "code",
      "metadata": {
        "id": "wqvW1-BFbXte",
        "colab_type": "code",
        "colab": {
          "base_uri": "https://localhost:8080/",
          "height": 68
        },
        "outputId": "55b5d539-d2b8-4ba4-b585-d62af77d7846"
      },
      "source": [
        "txt = input(\"Enter a string: \")\n",
        "words = txt.split()\n",
        "t = []\n",
        "for word in words:\n",
        "   t.append((len(word), word))\n",
        "res = []\n",
        "for length, word in t:\n",
        "    res.append(word)\n",
        "max=len(res[0])\n",
        "temp=res[0]\n",
        "for i in res:\n",
        "    if(len(i)>max):\n",
        "       max=len(i)\n",
        "       temp=i\n",
        "print(\"The word with the longest length is:\")\n",
        "print(temp)"
      ],
      "execution_count": null,
      "outputs": [
        {
          "output_type": "stream",
          "text": [
            "Enter a string: hello hihi world hohohoh\n",
            "The word with the longest length is:\n",
            "hohohoh\n"
          ],
          "name": "stdout"
        }
      ]
    },
    {
      "cell_type": "markdown",
      "metadata": {
        "id": "0wBPB5EFbYHt",
        "colab_type": "text"
      },
      "source": [
        "#Get rollno and marks (Rollno, mark) as list of tuples for n number of students through keyboard  and print them in marks descending order with rollno"
      ]
    },
    {
      "cell_type": "code",
      "metadata": {
        "id": "SQrJEkqQbbVU",
        "colab_type": "code",
        "colab": {
          "base_uri": "https://localhost:8080/",
          "height": 153
        },
        "outputId": "42d134f2-b1c4-4a5d-86ab-e5f0f12f1043"
      },
      "source": [
        "list1=[]\n",
        "list2=[]\n",
        "a=[]\n",
        "n=int(input(\"Enter no of students \"))\n",
        "for i in range(0,n):\n",
        "    roll=int(input(\"Enter roll no for student {0}: \".format(i+1)))\n",
        "    list1.append(roll)\n",
        "    mark=int(input(\"Enter marks: \"))\n",
        "    list2.append(mark)\n",
        "for i in range(0,n):\n",
        "    res=(list1[i], list2[i])\n",
        "    a.append(res)\n",
        "import operator\n",
        "a.sort(key = operator.itemgetter(1),reverse=True)\n",
        "print(a)"
      ],
      "execution_count": null,
      "outputs": [
        {
          "output_type": "stream",
          "text": [
            "Enter no of students 3\n",
            "Enter roll no for student 1: 10\n",
            "Enter marks: 98\n",
            "Enter roll no for student 2: 5\n",
            "Enter marks: 75\n",
            "Enter roll no for student 3: 22\n",
            "Enter marks: 99\n",
            "[(22, 99), (10, 98), (5, 75)]\n"
          ],
          "name": "stdout"
        }
      ]
    },
    {
      "cell_type": "markdown",
      "metadata": {
        "id": "j1PPODjfbb28",
        "colab_type": "text"
      },
      "source": [
        "#Get name and salary (name, salary) as list of tuples for n number of employees through keyboard  and print them in name alphabetical order with salary\n",
        "\n"
      ]
    },
    {
      "cell_type": "code",
      "metadata": {
        "id": "ZB6g_13MbgF6",
        "colab_type": "code",
        "colab": {
          "base_uri": "https://localhost:8080/",
          "height": 153
        },
        "outputId": "6f5b17e9-d395-4a2e-edbf-ca1671f9015c"
      },
      "source": [
        "l=[]\n",
        "n=int(input(\"Enter number of employees: \"))\n",
        "for i in range(n):\n",
        "  na=input(\"Enter the name \")\n",
        "  no=int(input(\"Enter salary \"))\n",
        "  l.append((na,no))\n",
        "import operator\n",
        "l.sort(key = operator.itemgetter(0))\n",
        "print(l)"
      ],
      "execution_count": null,
      "outputs": [
        {
          "output_type": "stream",
          "text": [
            "Enter number of employees: 3\n",
            "Enter the name xyz\n",
            "Enter salary 20000\n",
            "Enter the name abc\n",
            "Enter salary 15000\n",
            "Enter the name pqr\n",
            "Enter salary 26000\n",
            "[('abc', 15000), ('pqr', 26000), ('xyz', 20000)]\n"
          ],
          "name": "stdout"
        }
      ]
    },
    {
      "cell_type": "markdown",
      "metadata": {
        "id": "YDp9M4DXlJAc",
        "colab_type": "text"
      },
      "source": [
        "#**SESSION 2**"
      ]
    },
    {
      "cell_type": "markdown",
      "metadata": {
        "id": "vza-2BpilPG2",
        "colab_type": "text"
      },
      "source": [
        "#Dictionary Exercises"
      ]
    },
    {
      "cell_type": "markdown",
      "metadata": {
        "id": "D6C52johlqrg",
        "colab_type": "text"
      },
      "source": [
        "#1.\tAdd rollno and marks {name:mark} for n number of students through keyboard in a dictionary and print the marks in descending order with respective name."
      ]
    },
    {
      "cell_type": "code",
      "metadata": {
        "id": "k_oYXnKklxIJ",
        "colab_type": "code",
        "colab": {
          "base_uri": "https://localhost:8080/",
          "height": 153
        },
        "outputId": "4ea0682d-8d97-4805-c02d-9ac5b742a357"
      },
      "source": [
        "l=[]\n",
        "n=int(input(\"Enter number of students: \"))\n",
        "for i in range(n):\n",
        "  na=input(\"Enter the name \")\n",
        "  no=int(input(\"Enter mark \"))\n",
        "  l.append((na,no))\n",
        "import operator\n",
        "l.sort(key = operator.itemgetter(1),reverse=True)\n",
        "print(l)"
      ],
      "execution_count": null,
      "outputs": [
        {
          "output_type": "stream",
          "text": [
            "Enter number of students: 3\n",
            "Enter the name xyz\n",
            "Enter mark 98\n",
            "Enter the name abc\n",
            "Enter mark 68\n",
            "Enter the name pqr\n",
            "Enter mark 85\n",
            "[('xyz', 98), ('pqr', 85), ('abc', 68)]\n"
          ],
          "name": "stdout"
        }
      ]
    },
    {
      "cell_type": "markdown",
      "metadata": {
        "id": "SUrzq2Bgn3GN",
        "colab_type": "text"
      },
      "source": [
        "#2.\tAdd  name and salary {name:salary} for n number of employees through keyboard in a dictionary and print them in name alphabetical order with salary"
      ]
    },
    {
      "cell_type": "code",
      "metadata": {
        "id": "2umL5HBdn4ng",
        "colab_type": "code",
        "colab": {
          "base_uri": "https://localhost:8080/",
          "height": 153
        },
        "outputId": "d973b115-b072-42d3-f8e7-78fad4e247b9"
      },
      "source": [
        "import operator\n",
        "d={}\n",
        "n=int(input(\"Enter n: \"))\n",
        "for i in range(1,n+1):\n",
        "    name= input(\"Enter name %d: \"%(i))\n",
        "    sal=int(input(\"Enter salary %d: \"%(i)))\n",
        "    d[name]=sal\n",
        "sort_d= sorted(d.items())\n",
        "print (sort_d)"
      ],
      "execution_count": 1,
      "outputs": [
        {
          "output_type": "stream",
          "text": [
            "Enter n: 3\n",
            "Enter name 1: xyz\n",
            "Enter salary 1: 30000\n",
            "Enter name 2: abc\n",
            "Enter salary 2: 26000\n",
            "Enter name 3: pqr\n",
            "Enter salary 3: 40000\n",
            "[('abc', 26000), ('pqr', 40000), ('xyz', 30000)]\n"
          ],
          "name": "stdout"
        }
      ]
    },
    {
      "cell_type": "markdown",
      "metadata": {
        "id": "bGl9MLYtn5Ja",
        "colab_type": "text"
      },
      "source": [
        "#3.\tAdd  name and salary {name:salary} for n number of employees through keyboard in a dictionary and print them in salary  ascending order and sum, max, min and average of the salaries"
      ]
    },
    {
      "cell_type": "code",
      "metadata": {
        "id": "PI5Lnx2vn-SN",
        "colab_type": "code",
        "colab": {
          "base_uri": "https://localhost:8080/",
          "height": 221
        },
        "outputId": "03e3e0e9-88df-4f87-b942-02eec26a20b1"
      },
      "source": [
        "import operator\n",
        "d={}\n",
        "n=int(input(\"Enter n: \"))\n",
        "for i in range(1,n+1):\n",
        "    name= input(\"Enter name %d: \"%(i))\n",
        "    sal=int(input(\"Enter salary: \"))\n",
        "    d[name]=sal\n",
        "sort_d= sorted(d.items(), key=operator.itemgetter(1))\n",
        "print (sort_d)\n",
        "print (\"Sum= \"+str(sum(d.values())))\n",
        "print (\"Max. salary= \"+str(max(d.values())))\n",
        "print (\"Min salary= \"+str(min(d.values())))\n",
        "print (\"Average salary= \"+str(sum(d.values())/n))"
      ],
      "execution_count": 2,
      "outputs": [
        {
          "output_type": "stream",
          "text": [
            "Enter n: 3\n",
            "Enter name 1: xyz\n",
            "Enter salary: 35000\n",
            "Enter name 2: abc\n",
            "Enter salary: 30000\n",
            "Enter name 3: pqr\n",
            "Enter salary: 40000\n",
            "[('abc', 30000), ('xyz', 35000), ('pqr', 40000)]\n",
            "Sum= 105000\n",
            "Max. salary= 40000\n",
            "Min salary= 30000\n",
            "Average salary= 35000.0\n"
          ],
          "name": "stdout"
        }
      ]
    },
    {
      "cell_type": "markdown",
      "metadata": {
        "id": "ztlwbq_kn-tn",
        "colab_type": "text"
      },
      "source": [
        "#4.\tAdd name and salary {name:salary} for n number of employees through keyboard in a dictionary and print only the employees whose salary is greater than 2000 but less than 4000"
      ]
    },
    {
      "cell_type": "code",
      "metadata": {
        "id": "s95QA34WoZMa",
        "colab_type": "code",
        "colab": {
          "base_uri": "https://localhost:8080/",
          "height": 153
        },
        "outputId": "b2735a6e-8565-4c8f-87fa-b088f96ed17a"
      },
      "source": [
        "n=int(input(\"Enter no of records\"))\n",
        "d={}\n",
        "for i in range(1,n+1):\n",
        "  name= input(\"Enter name %d:\"%(i))\n",
        "  sal=int(input(\"Enter salary:\"))\n",
        "  d[name]=sal\n",
        "l=[(k,v) for (k,v) in d.items() if v>2000 and v<4000]\n",
        "print(l)\n"
      ],
      "execution_count": 8,
      "outputs": [
        {
          "output_type": "stream",
          "text": [
            "Enter no of records3\n",
            "Enter name 1:xyz\n",
            "Enter salary:3000\n",
            "Enter name 2:pqr\n",
            "Enter salary:2500\n",
            "Enter name 3:abc\n",
            "Enter salary:5000\n",
            "[('xyz', 3000), ('pqr', 2500)]\n"
          ],
          "name": "stdout"
        }
      ]
    },
    {
      "cell_type": "markdown",
      "metadata": {
        "id": "fhePKXzLoZx6",
        "colab_type": "text"
      },
      "source": [
        "#5.\tPython program to convert a 3 digit number  into words"
      ]
    },
    {
      "cell_type": "code",
      "metadata": {
        "id": "BP9TPtAToc2N",
        "colab_type": "code",
        "colab": {
          "base_uri": "https://localhost:8080/",
          "height": 51
        },
        "outputId": "c9f26aa0-e96c-4de5-d5c0-b1615f667b21"
      },
      "source": [
        "d={0:'',1:'one',2:'two',3:'three',4:'four',5:'five',6:'six',7:'seven',8:'eight',9:'nine',\\\n",
        "10:'ten',11:'eleven',12:'twelve',13:'thirteen',14:'fourteen',15:'fifteen',16:'sixteen',\\\n",
        "17:'seventeen',18:'eightteen',19:'nineteen',20:'twenty',30:'thirty',40:'fourty',50:'fifty',\\\n",
        "60:'sixty',70:'seventy',80:'eighty',90:'ninty',100:'hundred',200:'two hundred',300:'three hundred',400:'four hundred',500:'five hundred',600:'six hundred',700:'seven hundred',800:'eight hundred',900:'nine hundred'}\n",
        "\n",
        "num=int(input(\"Enter the integer between 100 to 999:\"))\n",
        "if (num==100):\n",
        "  print(d[num])\n",
        "if(num>100 and num<1000):\n",
        "  if num%10==0:       \n",
        "    print(d[num])\n",
        "  else:\n",
        "    print(d[num//100*100]+\" \"+d[(num%100)//10*10]+\" \"+d[(num%100)%10])"
      ],
      "execution_count": 13,
      "outputs": [
        {
          "output_type": "stream",
          "text": [
            "Enter the integer between 100 to 999:247\n",
            "two hundred fourty seven\n"
          ],
          "name": "stdout"
        }
      ]
    },
    {
      "cell_type": "markdown",
      "metadata": {
        "id": "uAVCQf8qOU2T",
        "colab_type": "text"
      },
      "source": [
        "#**FILE EXERCISES**"
      ]
    },
    {
      "cell_type": "markdown",
      "metadata": {
        "id": "Rv6ozi33OZSA",
        "colab_type": "text"
      },
      "source": [
        "#Python Program to count the total number of charaters (except blank space) in a text file."
      ]
    },
    {
      "cell_type": "code",
      "metadata": {
        "id": "b_cDtW5NOedg",
        "colab_type": "code",
        "colab": {
          "base_uri": "https://localhost:8080/",
          "height": 68
        },
        "outputId": "f9293774-d09d-4dd6-92ac-9f9fe37b94d6"
      },
      "source": [
        "fname = input(\"Enter file name: \")\n",
        "num_words = 0\n",
        "ccount=0\n",
        "with open(fname, 'r') as f:\n",
        "  for line in f:\n",
        "    words = line.split()\n",
        "    for w in words:\n",
        "      for ch in w:\n",
        "        ccount=ccount+1\n",
        "print(\"Number of character:\")\n",
        "print(ccount)\n"
      ],
      "execution_count": 25,
      "outputs": [
        {
          "output_type": "stream",
          "text": [
            "Enter file name: doc.txt\n",
            "Number of character:\n",
            "37\n"
          ],
          "name": "stdout"
        }
      ]
    },
    {
      "cell_type": "markdown",
      "metadata": {
        "id": "KcpWcOsFOkd3",
        "colab_type": "text"
      },
      "source": [
        "#Python Program to print all the numbers present in a text file with its total number of occurrence."
      ]
    },
    {
      "cell_type": "code",
      "metadata": {
        "id": "mljJ4HZCOly9",
        "colab_type": "code",
        "colab": {
          "base_uri": "https://localhost:8080/",
          "height": 119
        },
        "outputId": "5fb5bf69-419c-4f07-9a06-7600eb87c15d"
      },
      "source": [
        "fname = input(\"Enter file name: \")\n",
        "\n",
        "num = 0\n",
        "ccount=0\n",
        "with open(fname, 'r') as f:\n",
        "  for line in f:\n",
        "    words = line.split()\n",
        "    for w in words:\n",
        "      if w.isdigit():\n",
        "        print(w)\n",
        "        num+=1\n",
        "\n",
        "print(\"Total occurenece of numbers are:\")\n",
        "print(num)\n"
      ],
      "execution_count": 26,
      "outputs": [
        {
          "output_type": "stream",
          "text": [
            "Enter file name: doc.txt\n",
            "1234\n",
            "12345\n",
            "1234567\n",
            "Total occurenece of numbers are:\n",
            "3\n"
          ],
          "name": "stdout"
        }
      ]
    },
    {
      "cell_type": "markdown",
      "metadata": {
        "id": "iANpqhWMOmiZ",
        "colab_type": "text"
      },
      "source": [
        "#Python Program to append the contents of one file to another file by getting the both file names through keyboard . "
      ]
    },
    {
      "cell_type": "code",
      "metadata": {
        "id": "5LGsKp_LOpyB",
        "colab_type": "code",
        "colab": {
          "base_uri": "https://localhost:8080/",
          "height": 187
        },
        "outputId": "83e16cee-70fa-45dd-e499-abe9b36a2ab7"
      },
      "source": [
        "rfile=input('Enter the file to be read')\n",
        "wfile=input('Enter the file to be appended with')\n",
        "\n",
        "with open(rfile,\"r\") as f:\n",
        "  with open(wfile,\"a\") as f1:\n",
        "    for line in f:\n",
        "      f1.write(line)\n",
        "f.close()\n",
        "f1.close()\n",
        "\n",
        "with open(wfile,\"r\") as f:\n",
        "  for line in f:\n",
        "    print(line)\n"
      ],
      "execution_count": 27,
      "outputs": [
        {
          "output_type": "stream",
          "text": [
            "Enter the file to be readdoc.txt\n",
            "Enter the file to be appended withexample.txt\n",
            "hello\n",
            "\n",
            "im kavya\n",
            "\n",
            "how are you\n",
            "\n",
            "1234 12345 1234567\n",
            "\n"
          ],
          "name": "stdout"
        }
      ]
    },
    {
      "cell_type": "markdown",
      "metadata": {
        "id": "CR70WNmnOmb_",
        "colab_type": "text"
      },
      "source": [
        "#Python Program to count the number of blank spaces in a text file."
      ]
    },
    {
      "cell_type": "code",
      "metadata": {
        "id": "Q-2GZzFzOtiH",
        "colab_type": "code",
        "colab": {
          "base_uri": "https://localhost:8080/",
          "height": 68
        },
        "outputId": "23887e74-32a9-466a-dcfa-02be9f60888a"
      },
      "source": [
        "fname = input(\"Enter file name: \")\n",
        "\n",
        "n= 0\n",
        "t=0\n",
        "ccount=0\n",
        "with open(fname, 'r') as f:\n",
        "  for line in f:\n",
        "    n = line.count('')\n",
        "    t+=n     \n",
        "print(\"Number of blank spaces are:\")\n",
        "print(t)\n"
      ],
      "execution_count": 29,
      "outputs": [
        {
          "output_type": "stream",
          "text": [
            "Enter file name: example.txt\n",
            "Number of blank spaces are:\n",
            "50\n"
          ],
          "name": "stdout"
        }
      ]
    },
    {
      "cell_type": "markdown",
      "metadata": {
        "id": "ajDllQ6LOuCH",
        "colab_type": "text"
      },
      "source": [
        "#Python Program to read a file and capitalize the first letter of every word in the file and copy the every word capitalized content  into another file and read it ."
      ]
    },
    {
      "cell_type": "code",
      "metadata": {
        "id": "ta2PUVUcOysx",
        "colab_type": "code",
        "colab": {
          "base_uri": "https://localhost:8080/",
          "height": 170
        },
        "outputId": "49d6efe4-5dd7-40c9-d1b6-6ea877760c86"
      },
      "source": [
        "fname = input(\"Enter file name: \")\n",
        "f1=open(\"d.txt\",\"w\")\n",
        "ccount=0\n",
        "with open(fname, 'r') as f:\n",
        "  for line in f:\n",
        "    l= line.title()\n",
        "    f1.write(l)\n",
        "f1.close()\n",
        "with open(\"d.txt\", 'r') as f1:\n",
        "  for line in f1:\n",
        "    print(line)\n"
      ],
      "execution_count": 30,
      "outputs": [
        {
          "output_type": "stream",
          "text": [
            "Enter file name: example.txt\n",
            "Hello\n",
            "\n",
            "Im Kavya\n",
            "\n",
            "How Are You\n",
            "\n",
            "1234 12345 1234567\n",
            "\n"
          ],
          "name": "stdout"
        }
      ]
    }
  ]
}