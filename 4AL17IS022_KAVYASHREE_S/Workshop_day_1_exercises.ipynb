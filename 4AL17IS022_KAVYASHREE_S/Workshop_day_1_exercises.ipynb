{
  "nbformat": 4,
  "nbformat_minor": 0,
  "metadata": {
    "colab": {
      "name": "Workshop day 1 exercises.ipynb",
      "provenance": [],
      "collapsed_sections": [],
      "authorship_tag": "ABX9TyO6rOg9iXL/HrOrtuhv+oxI",
      "include_colab_link": true
    },
    "kernelspec": {
      "name": "python3",
      "display_name": "Python 3"
    }
  },
  "cells": [
    {
      "cell_type": "markdown",
      "metadata": {
        "id": "view-in-github",
        "colab_type": "text"
      },
      "source": [
        "<a href=\"https://colab.research.google.com/github/alvas-education-foundation/ISE_3rd_Year_Coding_challenge/blob/master/4AL17IS022_KAVYASHREE_S/Workshop_day_1_exercises.ipynb\" target=\"_parent\"><img src=\"https://colab.research.google.com/assets/colab-badge.svg\" alt=\"Open In Colab\"/></a>"
      ]
    },
    {
      "cell_type": "markdown",
      "metadata": {
        "id": "ev80IB0w7_U-",
        "colab_type": "text"
      },
      "source": [
        "#**SESSION 1**"
      ]
    },
    {
      "cell_type": "markdown",
      "metadata": {
        "id": "l3TY1aVY8UKC",
        "colab_type": "text"
      },
      "source": [
        "#1.\tFind the compound interest for the given p,n,r  (formula : p(1+n*r/100)n )"
      ]
    },
    {
      "cell_type": "code",
      "metadata": {
        "id": "IwYbzl8b45Ve",
        "colab_type": "code",
        "colab": {
          "base_uri": "https://localhost:8080/",
          "height": 85
        },
        "outputId": "70ba2010-64a5-4ab0-c63b-beea7bdd1f74"
      },
      "source": [
        "import cmath\n",
        "p=int(input('Enter p: '))\n",
        "n=int(input('Enter n: '))\n",
        "r=int(input('Enter r: '))\n",
        "CI=(p*(1+n*r/100))**n\n",
        "print('The Compound Interest is {0}'.format(CI))"
      ],
      "execution_count": 1,
      "outputs": [
        {
          "output_type": "stream",
          "text": [
            "Enter p: 100\n",
            "Enter n: 5\n",
            "Enter r: 2\n",
            "The Compound Interest is 16105100000.00001\n"
          ],
          "name": "stdout"
        }
      ]
    },
    {
      "cell_type": "markdown",
      "metadata": {
        "id": "ylRt8k1s8uBA",
        "colab_type": "text"
      },
      "source": [
        "#2.\tConvert centegrade to farenheit  ( f= 9/5*c+32)"
      ]
    },
    {
      "cell_type": "code",
      "metadata": {
        "id": "lGNnNFuK8yg-",
        "colab_type": "code",
        "colab": {
          "base_uri": "https://localhost:8080/",
          "height": 51
        },
        "outputId": "617a12d8-78b5-496a-c2c7-84124f8b5384"
      },
      "source": [
        "import cmath\n",
        "c = int(input(\"Enter c\"))\n",
        "f = (9/5)*c+32\n",
        "print(\"farhenheit value of {0} is {1}\".format(c,f))\n"
      ],
      "execution_count": 2,
      "outputs": [
        {
          "output_type": "stream",
          "text": [
            "Enter c98\n",
            "farhenheit value of 98 is 208.4\n"
          ],
          "name": "stdout"
        }
      ]
    },
    {
      "cell_type": "markdown",
      "metadata": {
        "id": "iZMP1a539GGX",
        "colab_type": "text"
      },
      "source": [
        "#3.\tFind the greater of two nos "
      ]
    },
    {
      "cell_type": "code",
      "metadata": {
        "id": "uIunuk2f9LED",
        "colab_type": "code",
        "colab": {
          "base_uri": "https://localhost:8080/",
          "height": 68
        },
        "outputId": "58d1edec-d9fc-4128-e36a-26267764bf4e"
      },
      "source": [
        "a = int(input(\"Enter a\"))\n",
        "b = int(input(\"Enter b\"))\n",
        "if a>b:\n",
        "    print('a is greater')\n",
        "else:\n",
        "    print ('b is greater')\n"
      ],
      "execution_count": 3,
      "outputs": [
        {
          "output_type": "stream",
          "text": [
            "Enter a10\n",
            "Enter b20\n",
            "b is greater\n"
          ],
          "name": "stdout"
        }
      ]
    },
    {
      "cell_type": "markdown",
      "metadata": {
        "id": "ZLeIDIPZ9aoj",
        "colab_type": "text"
      },
      "source": [
        "#4.\tWrite a program for finding surface areas of cylinder and cone (2*PI*r*r*h, 1/3*PI*r*r*h) using function"
      ]
    },
    {
      "cell_type": "code",
      "metadata": {
        "id": "CrzqZkIr9eEG",
        "colab_type": "code",
        "colab": {
          "base_uri": "https://localhost:8080/",
          "height": 68
        },
        "outputId": "772bc554-3e81-44a5-cf3e-7a043eedca9c"
      },
      "source": [
        "import cmath\n",
        "r = int(input(\"Enter r: \"))\n",
        "h = int(input(\"Enter h: \"))\n",
        "PI = 3.142\n",
        "cyl = 2*PI*r*h\n",
        "cone = (1/3)*PI*r*r*h\n",
        "print(\"surface area of cylinder:%0.3f and cone:%0.3f\"%(cyl,cone))\n"
      ],
      "execution_count": 4,
      "outputs": [
        {
          "output_type": "stream",
          "text": [
            "Enter r: 5\n",
            "Enter h: 10\n",
            "surface area of cylinder:314.200 and cone:261.833\n"
          ],
          "name": "stdout"
        }
      ]
    },
    {
      "cell_type": "markdown",
      "metadata": {
        "id": "xP55jXro9vVh",
        "colab_type": "text"
      },
      "source": [
        "#5.\tFind the greatest of four nos ( using ‘and’ operator)   using function"
      ]
    },
    {
      "cell_type": "code",
      "metadata": {
        "id": "JD87LRVR9zl-",
        "colab_type": "code",
        "colab": {
          "base_uri": "https://localhost:8080/",
          "height": 102
        },
        "outputId": "66a5be96-4e5e-4ef0-bda8-6f57d8b9b2e1"
      },
      "source": [
        "a = int(input(\"Enter a\"))\n",
        "b = int(input(\"Enter b\"))\n",
        "c = int(input(\"Enter c\"))\n",
        "d = int(input(\"Enter d\"))\n",
        "def grt(a,b,c,d):\n",
        "    if a>b and a>c and a>d:\n",
        "        print (\"a is greater\")\n",
        "    elif b>a and b>c and b>d:\n",
        "        print (\"b is greater\")\n",
        "    elif c>a and c>b and c>d:\n",
        "        print (\"c is greater\")\n",
        "    else:\n",
        "        print (\"d is greater\")\n",
        "grt(a,b,c,d);\n"
      ],
      "execution_count": 5,
      "outputs": [
        {
          "output_type": "stream",
          "text": [
            "Enter a15\n",
            "Enter b10\n",
            "Enter c20\n",
            "Enter d32\n",
            "d is greater\n"
          ],
          "name": "stdout"
        }
      ]
    },
    {
      "cell_type": "markdown",
      "metadata": {
        "id": "Z6vcSnIP-Cbo",
        "colab_type": "text"
      },
      "source": [
        "#6.\tWrite a  menu program to perform the operations ( ODDorEven, Factorial, ODDNoUptoN, PrimeUptoN ) using functions for two nos with  menu choice"
      ]
    },
    {
      "cell_type": "code",
      "metadata": {
        "id": "kvuTDzzb-GQ6",
        "colab_type": "code",
        "colab": {
          "base_uri": "https://localhost:8080/",
          "height": 867
        },
        "outputId": "59e3facb-e48d-47a9-fbb3-7b73e39b57c8"
      },
      "source": [
        "def fact(n):\n",
        "    factorial = 1\n",
        "    if n < 0:\n",
        "        print(\"Invalid number\")\n",
        "    elif n == 0:\n",
        "        print(\"1\")\n",
        "    \n",
        "    else:\n",
        "        for i in range(1,n + 1):\n",
        "            factorial = factorial*i\n",
        "        print(\"The factorial of \",n,\" is \",factorial)\n",
        "\n",
        "def odd_even(n):\n",
        "    if (n%2==0):\n",
        "        print(\"Even\")\n",
        "    else:\n",
        "        print(\"Odd\")    \n",
        "def odd_upto(n):\n",
        "    for i in range(n):\n",
        "        if i % 2 != 0:\n",
        "            print(i)\n",
        "\n",
        "def prime_upto(n):\n",
        "  for num in range(2, n + 1):\n",
        "   # all prime numbers are greater than 1\n",
        "    if num > 1:\n",
        "        for i in range(2, num):\n",
        "            if (num % i) == 0:\n",
        "                break\n",
        "        else:\n",
        "            print(num)\n",
        "\n",
        "loop = 1\n",
        "while loop == 1:\n",
        "    print(\"MENU \" )\n",
        "    print(\"1. Factorial\")\n",
        "    print(\"2. Odd or Even\")\n",
        "    print(\"3. Odd no Up to\")\n",
        "    print(\"4. Prime no Up to\")\n",
        "    print(\"5. Exit\\n\")\n",
        "    try:\n",
        "        choice = int(input(\"Choose your option: \"))\n",
        "    except:\n",
        "            print('please enter a valid number ')\n",
        "    print(\" \")\n",
        "\n",
        "    if choice == 1:\n",
        "        x = int(input(\"Enter The Number: \"))\n",
        "        fact(x)\n",
        "\n",
        "    if choice == 2:\n",
        "        x = int(input(\"Enter The Number: \"))\n",
        "        odd_even(x)\n",
        "\n",
        "    if choice == 3:\n",
        "        x = int(input(\"Enter The Number: \"))\n",
        "        print(\"The number up to \",odd_upto(x))\n",
        "\n",
        "    if choice == 4:\n",
        "        x = int(input(\"Enter The Number: \"))\n",
        "        print(\"The number upto \",prime_upto(x))\n",
        "\n",
        "    elif choice == 5:\n",
        "            loop = 0\n",
        "        \n",
        "    else:\n",
        "        print(\"please choice a valid option from 1 to 5\")\n",
        "        choice=0"
      ],
      "execution_count": 1,
      "outputs": [
        {
          "output_type": "stream",
          "text": [
            "MENU \n",
            "1. Factorial\n",
            "2. Odd or Even\n",
            "3. Odd no Up to\n",
            "4. Prime no Up to\n",
            "5. Exit\n",
            "\n",
            "Choose your option: 1\n",
            " \n",
            "Enter The Number: 5\n",
            "The factorial of  5  is  120\n",
            "please choice a valid option from 1 to 5\n",
            "MENU \n",
            "1. Factorial\n",
            "2. Odd or Even\n",
            "3. Odd no Up to\n",
            "4. Prime no Up to\n",
            "5. Exit\n",
            "\n",
            "Choose your option: 2\n",
            " \n",
            "Enter The Number: 5\n",
            "Odd\n",
            "please choice a valid option from 1 to 5\n",
            "MENU \n",
            "1. Factorial\n",
            "2. Odd or Even\n",
            "3. Odd no Up to\n",
            "4. Prime no Up to\n",
            "5. Exit\n",
            "\n",
            "Choose your option: 4\n",
            " \n",
            "Enter The Number: 15\n",
            "2\n",
            "3\n",
            "5\n",
            "7\n",
            "11\n",
            "13\n",
            "The number upto  None\n",
            "MENU \n",
            "1. Factorial\n",
            "2. Odd or Even\n",
            "3. Odd no Up to\n",
            "4. Prime no Up to\n",
            "5. Exit\n",
            "\n",
            "Choose your option: 5\n",
            " \n"
          ],
          "name": "stdout"
        }
      ]
    },
    {
      "cell_type": "markdown",
      "metadata": {
        "id": "WvJFr3x7A5BW",
        "colab_type": "text"
      },
      "source": [
        "#**SESSION 2**"
      ]
    },
    {
      "cell_type": "markdown",
      "metadata": {
        "id": "8yLohKeJBia-",
        "colab_type": "text"
      },
      "source": [
        "#1 Write a program to print the triangle \n",
        "#i/p  4\n",
        "\n",
        "#1\n",
        "#2    3\n",
        "#3    4   5\n",
        "#4    5   6   7\n"
      ]
    },
    {
      "cell_type": "code",
      "metadata": {
        "id": "r3lWJHZAMel_",
        "colab_type": "code",
        "colab": {
          "base_uri": "https://localhost:8080/",
          "height": 119
        },
        "outputId": "4d61d070-a823-4fcf-b2ae-bbeb10ea7ac1"
      },
      "source": [
        "n=int(input(\"Enter number \"))\n",
        "r=1\n",
        "for i in range(n+1):\n",
        "  for j in range(i):\n",
        "    print(r,end=\" \")\n",
        "    r=r+1\n",
        "  print('')"
      ],
      "execution_count": 48,
      "outputs": [
        {
          "output_type": "stream",
          "text": [
            "Enter number 4\n",
            "\n",
            "1 \n",
            "2 3 \n",
            "4 5 6 \n",
            "7 8 9 10 \n"
          ],
          "name": "stdout"
        }
      ]
    },
    {
      "cell_type": "markdown",
      "metadata": {
        "id": "9VhnfEe5R8oO",
        "colab_type": "text"
      },
      "source": [
        "#2 Enter number 4\n",
        "#*\n",
        "#* *\n",
        "#* * *\n",
        "#* * * *\n"
      ]
    },
    {
      "cell_type": "code",
      "metadata": {
        "id": "2aPkFZSISaMO",
        "colab_type": "code",
        "colab": {
          "base_uri": "https://localhost:8080/",
          "height": 119
        },
        "outputId": "ad01d2df-9de4-44d3-d203-22cb9ee95267"
      },
      "source": [
        "n=int(input(\"Enter number \"))\n",
        "for i in range(n+1):\n",
        "  for j in range(i):\n",
        "    print('*',end=\" \")\n",
        "  print(' ')"
      ],
      "execution_count": 47,
      "outputs": [
        {
          "output_type": "stream",
          "text": [
            "Enter number 4\n",
            " \n",
            "*  \n",
            "* *  \n",
            "* * *  \n",
            "* * * *  \n"
          ],
          "name": "stdout"
        }
      ]
    },
    {
      "cell_type": "markdown",
      "metadata": {
        "id": "DaiuoaBmSV_I",
        "colab_type": "text"
      },
      "source": [
        "#3 Enter number 5\n",
        "\n",
        "#5\n",
        "#4 5\n",
        "#3 4 5\n",
        "#2 3 4 5\n",
        "#1 2 3 4 5\n"
      ]
    },
    {
      "cell_type": "code",
      "metadata": {
        "id": "wSu9pSZDS1sE",
        "colab_type": "code",
        "colab": {
          "base_uri": "https://localhost:8080/",
          "height": 119
        },
        "outputId": "fd55fc3a-9344-4863-975c-14949d26a694"
      },
      "source": [
        "n=int(input(\"Enter number \"))\n",
        "for i in range(n,0,-1):\n",
        "  for j in range(i-1,5,1):\n",
        "     print(j+1,end=\" \")\n",
        "  print(' ')"
      ],
      "execution_count": 46,
      "outputs": [
        {
          "output_type": "stream",
          "text": [
            "Enter number 5\n",
            "5  \n",
            "4 5  \n",
            "3 4 5  \n",
            "2 3 4 5  \n",
            "1 2 3 4 5  \n"
          ],
          "name": "stdout"
        }
      ]
    },
    {
      "cell_type": "markdown",
      "metadata": {
        "id": "uGmszKpmTGjQ",
        "colab_type": "text"
      },
      "source": [
        "#4  Enter number 5\n",
        "\n",
        "#5 4 3 2 1\n",
        "#4 3 2 1\n",
        "#3 2 1\n",
        "#2 1\n",
        "#1\n",
        "\n"
      ]
    },
    {
      "cell_type": "code",
      "metadata": {
        "id": "FFSgKJV-TRLW",
        "colab_type": "code",
        "colab": {
          "base_uri": "https://localhost:8080/",
          "height": 119
        },
        "outputId": "61fb246e-4baf-49dc-8400-abfe758431fb"
      },
      "source": [
        "n=int(input(\"Enter number \"))\n",
        "for i in range(n,0,-1):\n",
        "  for j in range(i,0,-1):\n",
        "    print(j,end=\" \")\n",
        "  print(' ')"
      ],
      "execution_count": 45,
      "outputs": [
        {
          "output_type": "stream",
          "text": [
            "Enter number 5\n",
            "5 4 3 2 1  \n",
            "4 3 2 1  \n",
            "3 2 1  \n",
            "2 1  \n",
            "1  \n"
          ],
          "name": "stdout"
        }
      ]
    },
    {
      "cell_type": "markdown",
      "metadata": {
        "id": "0UWkSFtHXXvg",
        "colab_type": "text"
      },
      "source": [
        "#6 Find the length of a string without using len functions"
      ]
    },
    {
      "cell_type": "code",
      "metadata": {
        "id": "gkS4a8Q4XdOv",
        "colab_type": "code",
        "colab": {
          "base_uri": "https://localhost:8080/",
          "height": 51
        },
        "outputId": "064f940b-96b8-4c59-8ef7-3f95af550aed"
      },
      "source": [
        "string=input(\"Enter string:\")\n",
        "count=0\n",
        "for i in string:\n",
        "  count=count+1\n",
        "print(\"Length of the string is:\"+str(count))\n"
      ],
      "execution_count": 52,
      "outputs": [
        {
          "output_type": "stream",
          "text": [
            "Enter string:hello world\n",
            "Length of the string is:11\n"
          ],
          "name": "stdout"
        }
      ]
    },
    {
      "cell_type": "markdown",
      "metadata": {
        "id": "h0o0gd4nXu9W",
        "colab_type": "text"
      },
      "source": [
        "#7 Find the no of words and characters in a string"
      ]
    },
    {
      "cell_type": "code",
      "metadata": {
        "id": "kuyES8szX3WZ",
        "colab_type": "code",
        "colab": {
          "base_uri": "https://localhost:8080/",
          "height": 102
        },
        "outputId": "deeccd28-a2a1-4de7-ecf8-46681892fc13"
      },
      "source": [
        "string=input(\"Enter string:\")\n",
        "char=0\n",
        "word=1\n",
        "for i in string:\n",
        "  char=char+1\n",
        "  if(i==' '):\n",
        "    word=word+1\n",
        "print(\"Number of words in the string:\")\n",
        "print(word)\n",
        "print(\"Number of characters in the string:\")\n",
        "print(char)\n"
      ],
      "execution_count": 54,
      "outputs": [
        {
          "output_type": "stream",
          "text": [
            "Enter string:hello world\n",
            "Number of words in the string:\n",
            "2\n",
            "Number of characters in the string:\n",
            "11\n"
          ],
          "name": "stdout"
        }
      ]
    },
    {
      "cell_type": "markdown",
      "metadata": {
        "id": "ZJoN16_pYIo9",
        "colab_type": "text"
      },
      "source": [
        "#8 Find the no of occurrences of a word in a string"
      ]
    },
    {
      "cell_type": "code",
      "metadata": {
        "id": "deAoNRMCYMzY",
        "colab_type": "code",
        "colab": {
          "base_uri": "https://localhost:8080/",
          "height": 85
        },
        "outputId": "91908e0a-9395-4aed-cba4-f9c9d56401ef"
      },
      "source": [
        "string=input(\"Enter string:\")\n",
        "word=input(\"Enter word:\")\n",
        "a=[]\n",
        "count=0\n",
        "a=string.split(\" \")\n",
        "for i in range(0,len(a)):\n",
        "  if(word==a[i]):\n",
        "    count=count+1\n",
        "print(\"Count of the word is:\")\n",
        "print(count)\n"
      ],
      "execution_count": 58,
      "outputs": [
        {
          "output_type": "stream",
          "text": [
            "Enter string:hello hi how are you hi hi\n",
            "Enter word:hi\n",
            "Count of the word is:\n",
            "3\n"
          ],
          "name": "stdout"
        }
      ]
    }
  ]
}