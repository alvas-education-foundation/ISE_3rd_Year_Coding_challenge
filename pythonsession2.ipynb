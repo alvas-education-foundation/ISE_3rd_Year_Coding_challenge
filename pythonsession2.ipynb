{
  "nbformat": 4,
  "nbformat_minor": 0,
  "metadata": {
    "colab": {
      "name": "pythonsession2.ipynb",
      "provenance": [],
      "authorship_tag": "ABX9TyMIguESwXPERjund77AAMxO",
      "include_colab_link": true
    },
    "kernelspec": {
      "name": "python3",
      "display_name": "Python 3"
    }
  },
  "cells": [
    {
      "cell_type": "markdown",
      "metadata": {
        "id": "view-in-github",
        "colab_type": "text"
      },
      "source": [
        "<a href=\"https://colab.research.google.com/github/alvas-education-foundation/ISE_3rd_Year_Coding_challenge/blob/master/pythonsession2.ipynb\" target=\"_parent\"><img src=\"https://colab.research.google.com/assets/colab-badge.svg\" alt=\"Open In Colab\"/></a>"
      ]
    },
    {
      "cell_type": "code",
      "metadata": {
        "id": "-tx1zyw-viPy",
        "colab_type": "code",
        "colab": {}
      },
      "source": [
        "#Python Program to find the factorial of a number using loop. \n",
        "n=int(input(\"Enter number:\"))\n",
        "fact=1\n",
        "\n",
        "while(n>0):\n",
        "  fact=fact*n\n",
        "n=n-1\n",
        "print(\"Factorial of the number is: \")\n",
        "print(fact)"
      ],
      "execution_count": 0,
      "outputs": []
    },
    {
      "cell_type": "code",
      "metadata": {
        "id": "dvUK9G4AvxPK",
        "colab_type": "code",
        "colab": {}
      },
      "source": [
        "#Python Program to reverse a number using loop \n",
        "r=0\n",
        "n=int(input(\"Enter a number: \"))\n",
        "while(n>0):\n",
        "dig=n%10\n",
        "r=r*10+dig\n",
        "n=n//10\n",
        "print(\"The reversed no  is:\")\n",
        "print(r)\n"
      ],
      "execution_count": 0,
      "outputs": []
    },
    {
      "cell_type": "code",
      "metadata": {
        "id": "1-Q5eNt5vzjv",
        "colab_type": "code",
        "colab": {}
      },
      "source": [
        "#Write a Python program to construct the following pattern, using a nested for loop.\n",
        "n=5;\n",
        "for i in range(n):\n",
        "for j in range(i):\n",
        "print ('* ', end=\"\")\n",
        "print('')\n",
        "\n",
        "for i in range(n,0,-1):\n",
        "for j in range(i):\n",
        "print('* ', end=\"\")\n",
        "print('')\n"
      ],
      "execution_count": 0,
      "outputs": []
    },
    {
      "cell_type": "code",
      "metadata": {
        "id": "SMUlPAHOwTa8",
        "colab_type": "code",
        "colab": {}
      },
      "source": [
        "#Python Program to replace all occurrences of ‘a’ with ‘$’ in a string. \n",
        "string=input(\"Enter string:\")\n",
        "string=string.replace('a','$')\n",
        "string=string.replace('A','$')\n",
        "print(\"Modified string:\")\n",
        "print(string)\n"
      ],
      "execution_count": 0,
      "outputs": []
    },
    {
      "cell_type": "code",
      "metadata": {
        "id": "7mJP-TdEweNR",
        "colab_type": "code",
        "colab": {}
      },
      "source": [
        "#Program for ValueError error detection\n",
        "\n",
        "while True:\n",
        "try:\n",
        "x = int(input(\"Please enter a number: \"))\n",
        "print(\" That was valid number. Thank you\")\n",
        "break\n",
        "except ValueError:\n",
        "print(\"Oops!  That was no valid number.  Try again...\")"
      ],
      "execution_count": 0,
      "outputs": []
    },
    {
      "cell_type": "code",
      "metadata": {
        "id": "6fk8ZUUawnGD",
        "colab_type": "code",
        "colab": {}
      },
      "source": [
        "#Program for Divide by zero error detection\n",
        "flag = True\n",
        "\n",
        "def div(a, b):  \n",
        "try:\n",
        "print(\"Finally the division of %d/%d is %f\" % (a, b,a/b))\n",
        "global flag\n",
        "flag=False\n",
        "except ZeroDivisionError:\n",
        "print(\"Zero Division Error detected\")\n",
        "else:\n",
        "print(\"Division is successful\") \n",
        "finally:\n",
        "if flag is True:\n",
        "print(\"Try again\")     \n",
        "else:\n",
        "print(\"Thank you\")\n",
        "\n",
        "#global flag\n",
        "\n",
        "while flag is True:\n",
        "div(int(input(\"Enter numerator\")),int(input(\"Enter denominator\")))"
      ],
      "execution_count": 0,
      "outputs": []
    },
    {
      "cell_type": "code",
      "metadata": {
        "id": "DEW713huwpBJ",
        "colab_type": "code",
        "colab": {}
      },
      "source": [
        "#Python Program to  count number of vowels from a non-empty string. \n",
        "string=input(\"Enter string:\")\n",
        "vowels=0\n",
        "for i in string:\n",
        "if(i=='a' or i=='e' or i=='i' or i=='o' or i=='u' or i=='A' or i=='E' or i=='I' or i=='O' or i=='U'):\n",
        "vowels=vowels+1\n",
        "print(\"Number of vowels are:\")\n",
        "print(vowels)"
      ],
      "execution_count": 0,
      "outputs": []
    },
    {
      "cell_type": "code",
      "metadata": {
        "id": "UTQGFWxBwxKX",
        "colab_type": "code",
        "colab": {}
      },
      "source": [
        "#Python Program to form a string where the first character and the last character have been exchanged. \n",
        "def change(string):\n",
        "return string[-1:] + string[1:-1] + string[:1]\n",
        "string=input(\"Enter string:\")\n",
        "print(\"Modified string:\")\n",
        "print(change(string))\n"
      ],
      "execution_count": 0,
      "outputs": []
    },
    {
      "cell_type": "code",
      "metadata": {
        "id": "VkWqMzDSw2Nt",
        "colab_type": "code",
        "colab": {}
      },
      "source": [
        "#Python Program to remove the nth index character from a non-empty string. \n",
        "def remove(string, n):  \n",
        "first = string[:n]   \n",
        "last = string[n+1:]  \n",
        "return first + last\n",
        "string=input(\"Enter the sring:\")\n",
        "n=int(input(\"Enter the index of the character to remove:\"))\n",
        "print(\"Modified string:\")\n",
        "print(remove(string, n))\n"
      ],
      "execution_count": 0,
      "outputs": []
    }
  ]
}