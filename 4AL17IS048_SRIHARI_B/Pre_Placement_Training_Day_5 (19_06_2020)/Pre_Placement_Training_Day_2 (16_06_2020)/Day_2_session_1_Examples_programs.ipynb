{
  "nbformat": 4,
  "nbformat_minor": 0,
  "metadata": {
    "colab": {
      "name": "Day 2 session 1 Examples programs.ipynb",
      "provenance": [],
      "collapsed_sections": []
    },
    "kernelspec": {
      "name": "python3",
      "display_name": "Python 3"
    }
  },
  "cells": [
    {
      "cell_type": "markdown",
      "metadata": {
        "id": "_ua4AUMb_h1f",
        "colab_type": "text"
      },
      "source": [
        "1. "
      ]
    },
    {
      "cell_type": "code",
      "metadata": {
        "id": "jniHKvLr_Zm6",
        "colab_type": "code",
        "colab": {}
      },
      "source": [
        "#Program to find the largest number in a list.\n",
        "a=[]\n",
        "n=int(input(\"Enter number of elements:\"))\n",
        "for i in range(1,n+1):\n",
        "b=int(input(\"Enter element:\"))\n",
        "a.append(b)\n",
        "a.sort()\n",
        "print(\"Largest element is:\",a[n-1])\n",
        "l=[int(input(x))  for range(input(‘Enter n’))]"
      ],
      "execution_count": 0,
      "outputs": []
    },
    {
      "cell_type": "markdown",
      "metadata": {
        "id": "9LxYme1p_pVP",
        "colab_type": "text"
      },
      "source": [
        "2."
      ]
    },
    {
      "cell_type": "code",
      "metadata": {
        "id": "bPJkr4mY_qCt",
        "colab_type": "code",
        "colab": {}
      },
      "source": [
        "#Python Program to put the even and odd elements in a list into two different lists. \n",
        "a=[]\n",
        "n=int(input(\"Enter number of elements:\"))\n",
        "for i in range(1,n+1):\n",
        "b=int(input(\"Enter element:\"))\n",
        "a.append(b)\n",
        "even=[]\n",
        "odd=[]\n",
        "for j in a:\n",
        "if(j%2==0):\n",
        "even.append(j)\n",
        "else:\n",
        "odd.append(j)\n",
        "print(\"The even list\",even)\n",
        "print(\"The odd list\",odd)"
      ],
      "execution_count": 0,
      "outputs": []
    },
    {
      "cell_type": "markdown",
      "metadata": {
        "id": "Ey9xs1_C_qY_",
        "colab_type": "text"
      },
      "source": [
        "3."
      ]
    },
    {
      "cell_type": "code",
      "metadata": {
        "id": "7IRf3veV_rSY",
        "colab_type": "code",
        "colab": {}
      },
      "source": [
        "#Python Program to merge two lists and sort it.\n",
        "a=[]\n",
        "c=[]\n",
        "n1=int(input(\"Enter number of elements:\"))\n",
        "for i in range(1,n1+1):\n",
        "b=int(input(\"Enter element:\"))\n",
        "a.append(b)\n",
        "n2=int(input(\"Enter number of elements:\"))\n",
        "for i in range(1,n2+1):\n",
        "d=int(input(\"Enter element:\"))\n",
        "c.append(d)\n",
        "new=a+c\n",
        "new.sort()\n",
        "print(\"Sorted list is:\",new)"
      ],
      "execution_count": 0,
      "outputs": []
    },
    {
      "cell_type": "markdown",
      "metadata": {
        "id": "jXtFLoC5_rjl",
        "colab_type": "text"
      },
      "source": [
        "4."
      ]
    },
    {
      "cell_type": "code",
      "metadata": {
        "id": "Fb1P0Dhz_r_D",
        "colab_type": "code",
        "colab": {}
      },
      "source": [
        "a=[['A',34],['B',21],['C',26],['E',29]]\n",
        "for i in range(0,len(a)):\n",
        "for j in range(i+1,len(a)):\n",
        "if(a[i][1]>a[j][1]):\n",
        "temp=a[j]\n",
        "a[j]=a[i]\n",
        "a[i]=temp\n",
        "\n",
        "print(a)"
      ],
      "execution_count": 0,
      "outputs": []
    },
    {
      "cell_type": "markdown",
      "metadata": {
        "id": "gXaaALcv_3pG",
        "colab_type": "text"
      },
      "source": [
        "5."
      ]
    },
    {
      "cell_type": "code",
      "metadata": {
        "id": "1GcEnjPf_4Fi",
        "colab_type": "code",
        "colab": {}
      },
      "source": [
        "#Python Program to find the second largest number in a list using bubble sort. \n",
        "a=[]\n",
        "n=int(input(\"Enter number of elements:\"))\n",
        "for i in range(1,n+1):\n",
        "b=int(input(\"Enter element:\"))\n",
        "a.append(b)\n",
        "for i in range(0,len(a)):\n",
        "for j in range(0,len(a)-i-1):\n",
        "if(a[j]>a[j+1]):\n",
        "temp=a[j]\n",
        "a[j]=a[j+1]\n",
        "a[j+1]=temp \n",
        "print('Second largest number is:',a[n-2])"
      ],
      "execution_count": 0,
      "outputs": []
    },
    {
      "cell_type": "markdown",
      "metadata": {
        "id": "PYcfgh2o_6rD",
        "colab_type": "text"
      },
      "source": [
        "6."
      ]
    },
    {
      "cell_type": "code",
      "metadata": {
        "id": "0QA78cTe_6R3",
        "colab_type": "code",
        "colab": {}
      },
      "source": [
        "#Program to create a list of tuples with the first element as the number and the second element as the square of the number. \n",
        "l_range=int(input(\"Enter the lower range:\"))\n",
        "u_range=int(input(\"Enter the upper range:\"))\n",
        "a=[(x,x**2) for x in range(l_range,u_range+1)]\n",
        "print(a)"
      ],
      "execution_count": 0,
      "outputs": []
    },
    {
      "cell_type": "markdown",
      "metadata": {
        "id": "0MgdtopHAJHT",
        "colab_type": "text"
      },
      "source": [
        "OUTPUT:\n",
        "\n",
        "Enter the lower range:10\n",
        "Enter the upper range:50\n",
        "[(10, 100), (11, 121), (12, 144), (13, 169), (14, 196), (15, 225), (16, 256), (17, 289), (18, 324), (19, 361), (20, 400), (21, 441), (22, 484), (23, 529), (24, 576), (25, 625), (26, 676), (27, 729), (28, 784), (29, 841), (30, 900), (31, 961), (32, 1024), (33, 1089), (34, 1156), (35, 1225), (36, 1296), (37, 1369), (38, 1444), (39, 1521), (40, 1600), (41, 1681), (42, 1764), (43, 1849), (44, 1936), (45, 2025), (46, 2116), (47, 2209), (48, 2304), (49, 2401), (50, 2500)]"
      ]
    },
    {
      "cell_type": "markdown",
      "metadata": {
        "id": "TqyjcuON__PF",
        "colab_type": "text"
      },
      "source": [
        "7."
      ]
    },
    {
      "cell_type": "code",
      "metadata": {
        "id": "GDC2XySVAAVq",
        "colab_type": "code",
        "colab": {}
      },
      "source": [
        "#Python Program to generate random numbers from 1 to 20 and append them to the list.\n",
        "\n",
        "import random\n",
        "a=[]\n",
        "n=int(input(\"Enter number of elements:\"))\n",
        "for j in range(n):\n",
        "a.append(random.randint(1,20))\n",
        "print('Randomised list is: ',a)"
      ],
      "execution_count": 0,
      "outputs": []
    }
  ]
}