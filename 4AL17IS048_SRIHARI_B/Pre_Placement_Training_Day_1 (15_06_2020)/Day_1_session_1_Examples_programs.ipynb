{
  "nbformat": 4,
  "nbformat_minor": 0,
  "metadata": {
    "colab": {
      "name": "Day 1 session 1 Examples programs.ipynb",
      "provenance": [],
      "collapsed_sections": []
    },
    "kernelspec": {
      "name": "python3",
      "display_name": "Python 3"
    }
  },
  "cells": [
    {
      "cell_type": "markdown",
      "metadata": {
        "id": "KQLQEOL2Kis-",
        "colab_type": "text"
      },
      "source": [
        "1. Compound Interest"
      ]
    },
    {
      "cell_type": "code",
      "metadata": {
        "id": "sVaXeslGKQA-",
        "colab_type": "code",
        "colab": {}
      },
      "source": [
        "def compound_interest(principle, rate, time):\n",
        "    result = principle * (pow((1 + rate / 100), time))\n",
        "    return result\n",
        "\n",
        "\n",
        "p = float(input(\"Enter the principal amount: \"))\n",
        "r = float(input(\"Enter the interest rate: \"))\n",
        "t = float(input(\"Enter the time in years: \"))\n",
        "\n",
        "amount = compound_interest(p, r, t)\n",
        "interest = amount - p\n",
        "print(\"Compound amount is %.2f\" % amount)\n",
        "print(\"Compound interest is %.2f\" % interest)"
      ],
      "execution_count": 0,
      "outputs": []
    },
    {
      "cell_type": "markdown",
      "metadata": {
        "id": "dLFsqotmKqSn",
        "colab_type": "text"
      },
      "source": [
        "2. Centegrade to farenheit  "
      ]
    },
    {
      "cell_type": "code",
      "metadata": {
        "id": "9Uy0bunsK7ZE",
        "colab_type": "code",
        "colab": {}
      },
      "source": [
        "#Enter Celsius\n",
        "celsius = 37.5\n",
        "\n",
        "# calculate fahrenheit\n",
        "fahrenheit = (celsius * 1.8) + 32\n",
        "print('%0.1f degree Celsius is equal to %0.1f degree Fahrenheit' %(celsius,fahrenheit))"
      ],
      "execution_count": 0,
      "outputs": []
    },
    {
      "cell_type": "markdown",
      "metadata": {
        "id": "AHXRBLGOVlCV",
        "colab_type": "text"
      },
      "source": [
        "3. Greater of two nos "
      ]
    },
    {
      "cell_type": "code",
      "metadata": {
        "id": "egtfTY5DVmfN",
        "colab_type": "code",
        "colab": {}
      },
      "source": [
        "# Python program to find the greatest of two numbers using the built-in function\n",
        "num1 = int(input(\"Enter the first number: \"))\n",
        "num2 = int(input(\"Enter the second number: \"))\n",
        "print(max(num1, num2), \"is greater\")"
      ],
      "execution_count": 0,
      "outputs": []
    },
    {
      "cell_type": "markdown",
      "metadata": {
        "id": "ooubc-PvLOJP",
        "colab_type": "text"
      },
      "source": [
        "4. Surface areas of cylinder and cone "
      ]
    },
    {
      "cell_type": "code",
      "metadata": {
        "id": "7KGpcVThVZsH",
        "colab_type": "code",
        "colab": {}
      },
      "source": [
        "pi=22/7\n",
        "height = float(input('Height of cylinder: '))\n",
        "radian = float(input('Radius of cylinder: '))\n",
        "volume = pi * radian * radian * height\n",
        "sur_area = ((2*pi*radian) * height) + ((pi*radian**2)*2)\n",
        "print(\"Volume is: \", volume)\n",
        "print(\"Surface Area is: \", sur_area)"
      ],
      "execution_count": 0,
      "outputs": []
    },
    {
      "cell_type": "markdown",
      "metadata": {
        "id": "vHgRRRWqVabt",
        "colab_type": "text"
      },
      "source": [
        "5. Greatest of four nos ( using ‘and’ operator)   "
      ]
    },
    {
      "cell_type": "code",
      "metadata": {
        "id": "1E2wlkfFVxR9",
        "colab_type": "code",
        "colab": {}
      },
      "source": [
        "num1 = 10\n",
        "num2 = 14\n",
        "num3 = 12\n",
        "\n",
        "if (num1 >= num2) and (num1 >= num3):\n",
        "   largest = num1\n",
        "elif (num2 >= num1) and (num2 >= num3):\n",
        "   largest = num2\n",
        "else:\n",
        "   largest = num3\n",
        "\n",
        "print(\"The largest number is\", largest)"
      ],
      "execution_count": 0,
      "outputs": []
    }
  ]
}