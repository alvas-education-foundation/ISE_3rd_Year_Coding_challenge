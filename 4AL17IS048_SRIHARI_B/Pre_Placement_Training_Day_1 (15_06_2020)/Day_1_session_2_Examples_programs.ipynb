{
  "nbformat": 4,
  "nbformat_minor": 0,
  "metadata": {
    "colab": {
      "name": "Day 1 session 2 Examples programs.ipynb",
      "provenance": [],
      "collapsed_sections": []
    },
    "kernelspec": {
      "name": "python3",
      "display_name": "Python 3"
    }
  },
  "cells": [
    {
      "cell_type": "markdown",
      "metadata": {
        "id": "T2gwz0G2Yvvd",
        "colab_type": "text"
      },
      "source": [
        "1. Write a program to print the triangle "
      ]
    },
    {
      "cell_type": "code",
      "metadata": {
        "id": "NkWoUJjaYxKb",
        "colab_type": "code",
        "colab": {}
      },
      "source": [
        "rows = 6\n",
        "for num in range(rows):\n",
        "    for i in range(num):\n",
        "        print(num, end=\" \")  # print number\n",
        "    # line after each row to display pattern correctly\n",
        "    print(\" \")"
      ],
      "execution_count": 0,
      "outputs": []
    },
    {
      "cell_type": "markdown",
      "metadata": {
        "id": "s2oZcpcFY--a",
        "colab_type": "text"
      },
      "source": [
        "2. Find the length of a string without using len functions"
      ]
    },
    {
      "cell_type": "code",
      "metadata": {
        "id": "GiN5VRSvY1Cq",
        "colab_type": "code",
        "colab": {}
      },
      "source": [
        "str = input(\"Enter a string: \")\n",
        "\n",
        "counter = 0\n",
        "for s in str:\n",
        "      counter = counter+1\n",
        "print(\"Length of the input string is:\", counter)"
      ],
      "execution_count": 0,
      "outputs": []
    },
    {
      "cell_type": "markdown",
      "metadata": {
        "id": "E-Ps5QkNZBT6",
        "colab_type": "text"
      },
      "source": [
        "3. Find the no of words and characters in a string"
      ]
    },
    {
      "cell_type": "code",
      "metadata": {
        "id": "l6GE1Pv-ZJXu",
        "colab_type": "code",
        "colab": {}
      },
      "source": [
        "string=raw_input(\"Enter string:\")\n",
        "char=0\n",
        "word=1\n",
        "for i in string:\n",
        "      char=char+1\n",
        "      if(i==' '):\n",
        "            word=word+1\n",
        "print(\"Number of words in the string:\")\n",
        "print(word)\n",
        "print(\"Number of characters in the string:\")\n",
        "print(char)"
      ],
      "execution_count": 0,
      "outputs": []
    },
    {
      "cell_type": "markdown",
      "metadata": {
        "id": "wPqMexJSZJtJ",
        "colab_type": "text"
      },
      "source": [
        "4. Find the no of occurrences of a word in a string"
      ]
    },
    {
      "cell_type": "code",
      "metadata": {
        "id": "tEnrAldbZKdh",
        "colab_type": "code",
        "colab": {}
      },
      "source": [
        "string = \"Python is awesome, isn't it?\"\n",
        "substring = \"is\"\n",
        "\n",
        "count = string.count(substring)\n",
        "\n",
        "print(\"The count is:\", count)"
      ],
      "execution_count": 0,
      "outputs": []
    }
  ]
}