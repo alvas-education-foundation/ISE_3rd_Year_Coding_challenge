{
  "nbformat": 4,
  "nbformat_minor": 0,
  "metadata": {
    "colab": {
      "name": "Day1.ipynb",
      "provenance": [],
      "collapsed_sections": [],
      "authorship_tag": "ABX9TyMF0ysGOXpvdGsb8qfMMZ7/",
      "include_colab_link": true
    },
    "kernelspec": {
      "name": "python3",
      "display_name": "Python 3"
    }
  },
  "cells": [
    {
      "cell_type": "markdown",
      "metadata": {
        "id": "view-in-github",
        "colab_type": "text"
      },
      "source": [
        "<a href=\"https://colab.research.google.com/github/alvas-education-foundation/ISE_3rd_Year_Coding_challenge/blob/master/WorkShop__Excersie_Day_1%20.ipynb\" target=\"_parent\"><img src=\"https://colab.research.google.com/assets/colab-badge.svg\" alt=\"Open In Colab\"/></a>"
      ]
    },
    {
      "cell_type": "code",
      "metadata": {
        "id": "3pZQIx8kKERp",
        "colab_type": "code",
        "colab": {
          "base_uri": "https://localhost:8080/",
          "height": 89
        },
        "outputId": "17b0867d-b679-4062-83fe-28813c1dc017"
      },
      "source": [
        "# 1. Find the compound interest for the given p,n,r  (formula : p(1+n*r/100)n )\n",
        "n = int(input(\"Enter n :\"))\n",
        "p = int(input(\"Enter p :\"))\n",
        "r = int(input(\"Enter r : \"))\n",
        "res = p*(1+n*r/100)\n",
        "res1 = res**n\n",
        "print(\"C.I is : \",res)"
      ],
      "execution_count": 7,
      "outputs": [
        {
          "output_type": "stream",
          "text": [
            "Enter n :10\n",
            "Enter p :10\n",
            "Enter r : 20\n",
            "C.I is :  30.0\n"
          ],
          "name": "stdout"
        }
      ]
    },
    {
      "cell_type": "code",
      "metadata": {
        "id": "3vUZCXiRRL0Z",
        "colab_type": "code",
        "colab": {
          "base_uri": "https://localhost:8080/",
          "height": 53
        },
        "outputId": "22cc614a-c19e-418c-8e8d-3b1e66df686f"
      },
      "source": [
        "# 2. Convert centegrade to farenheit  ( f= 9/5*c+32)\n",
        "c = int(input(\"Enter Centigrade :\"))\n",
        "f = 9/5*c+32\n",
        "print(f)\n",
        "\n"
      ],
      "execution_count": 12,
      "outputs": [
        {
          "output_type": "stream",
          "text": [
            "Enter Centigrade :32\n",
            "89.6\n"
          ],
          "name": "stdout"
        }
      ]
    },
    {
      "cell_type": "code",
      "metadata": {
        "id": "4V6YKhHgRQGz",
        "colab_type": "code",
        "colab": {
          "base_uri": "https://localhost:8080/",
          "height": 71
        },
        "outputId": "bf20fade-0015-47e0-a2c0-0fb8b1400e33"
      },
      "source": [
        "#3. Find the greater of two nos\n",
        "a = int(input(\"Enter a :\"))\n",
        "b = int(input(\"Enter b :\"))\n",
        "if a > b:\n",
        "  print(a)\n",
        "else:\n",
        "  print(b)  "
      ],
      "execution_count": 13,
      "outputs": [
        {
          "output_type": "stream",
          "text": [
            "Enter a :5\n",
            "Enter b :6\n",
            "6\n"
          ],
          "name": "stdout"
        }
      ]
    },
    {
      "cell_type": "code",
      "metadata": {
        "id": "LKV2TzeXRdL-",
        "colab_type": "code",
        "colab": {
          "base_uri": "https://localhost:8080/",
          "height": 89
        },
        "outputId": "f230a103-16b8-4922-e10b-cd3275714a63"
      },
      "source": [
        "#4. Write a program for finding surface areas of cylinder and cone (2*PI*r*r*h, 1/3*PI*r*r*h) using function.\n",
        "h = int(input(\"Enter h :\"))\n",
        "r = int(input(\"Enter r :\"))\n",
        "PI = 3.14\n",
        "cy = 2*PI*r*r*h\n",
        "co = 1*PI*r*r*h/3\n",
        "print(\"Cone :\",co)\n",
        "print(\"Cylinder: \",cy)\n"
      ],
      "execution_count": 14,
      "outputs": [
        {
          "output_type": "stream",
          "text": [
            "Enter h :5\n",
            "Enter r :5\n",
            "Cone : 130.83333333333334\n",
            "Cylinder:  785.0\n"
          ],
          "name": "stdout"
        }
      ]
    },
    {
      "cell_type": "code",
      "metadata": {
        "id": "XfxG0n4banpK",
        "colab_type": "code",
        "colab": {
          "base_uri": "https://localhost:8080/",
          "height": 107
        },
        "outputId": "d3e230c5-4dc1-46fe-da37-d3dcb94486ed"
      },
      "source": [
        "def find_great(a,b,c,d):\n",
        "  if a>b and a>c and a>d:\n",
        "    print(a)\n",
        "  elif b>a and b>c and b>d:\n",
        "    print(b)\n",
        "  elif c>a and c>b and c>d:\n",
        "    print(c)\n",
        "  else:\n",
        "    print(d)\n",
        "\n",
        "a = int(input(\"Enter a :\"))\n",
        "b = int(input(\"Enter b :\"))\n",
        "c = int(input(\"Enter c :\"))\n",
        "d = int(input(\"Enter d :\"))\n",
        "find_great(a,b,c,d)\n"
      ],
      "execution_count": 15,
      "outputs": [
        {
          "output_type": "stream",
          "text": [
            "Enter a :5\n",
            "Enter b :4\n",
            "Enter c :3\n",
            "Enter d :2\n",
            "5\n"
          ],
          "name": "stdout"
        }
      ]
    },
    {
      "cell_type": "code",
      "metadata": {
        "id": "5TbC8UxWbMo8",
        "colab_type": "code",
        "colab": {
          "base_uri": "https://localhost:8080/",
          "height": 488
        },
        "outputId": "09ac55dd-c52b-4478-c846-29e6768e2da4"
      },
      "source": [
        "def fact(n):\n",
        "    factorial = 1\n",
        "    if n < 0:\n",
        "        print(\"Invalid number\")\n",
        "    elif n == 0:\n",
        "        print(\"1\")\n",
        "    \n",
        "    else:\n",
        "        for i in range(1,n + 1):\n",
        "            factorial = factorial*i\n",
        "        print(\"The factorial of\",n,\"is\",factorial)\n",
        "\n",
        "def odd_even(n):\n",
        "    if (n%2==0):\n",
        "        print(\"Even\")\n",
        "    else:\n",
        "        print(\"Odd\")    \n",
        "def odd_upto(n):\n",
        "    for i in range(n):\n",
        "        if i % 2 != 0:\n",
        "            print(i)\n",
        "\n",
        "def prime_upto(n):\n",
        "  for num in range(2, n + 1):\n",
        "   # all prime numbers are greater than 1\n",
        "    if num > 1:\n",
        "        for i in range(2, num):\n",
        "            if (num % i) == 0:\n",
        "                break\n",
        "        else:\n",
        "            print(num)\n",
        "\n",
        "loop = 1\n",
        "while loop == 1:\n",
        "    print(\"Your options are:\" )\n",
        "    print(\"1. Factorial\")\n",
        "    print(\"2. Odd or Even\")\n",
        "    print(\"3. Odd no Up to\")\n",
        "    print(\"4. Prime Up to\")\n",
        "    print(\"5. To Exit\\n\")\n",
        "    try:\n",
        "        choice = int(input(\"Choose your option: \"))\n",
        "    except:\n",
        "            print('please enter a valid number for option')\n",
        "    print(\" \")\n",
        "\n",
        "    if choice == 1:\n",
        "        x = int(input(\"Enter The Number: \"))\n",
        "        fact(x)\n",
        "\n",
        "    if choice == 2:\n",
        "        x = int(input(\"Enter The Number: \"))\n",
        "        odd_even(x)\n",
        "\n",
        "    if choice == 3:\n",
        "        x = int(input(\"Enter The Number: \"))\n",
        "        print(\"The number up to \",odd_upto(x))\n",
        "\n",
        "    if choice == 4:\n",
        "        x = int(input(\"Enter The Number: \"))\n",
        "        print(\"The number upto\",prime_upto(x))\n",
        "\n",
        "    elif choice == 5:\n",
        "            loop = 0\n",
        "        \n",
        "    else:\n",
        "        print(\"please choice a valid option from 1 to 5\")\n",
        "        choice=0\n"
      ],
      "execution_count": 0,
      "outputs": [
        {
          "output_type": "stream",
          "text": [
            "Your options are:\n",
            "1. Factorial\n",
            "2. Odd or Even\n",
            "3. Odd no Up to\n",
            "4. Prime Up to\n",
            "\n",
            "5. To Exit\n",
            "\n",
            "Choose your option: 4\n",
            " \n",
            "Enter The Number: 10\n",
            "2\n",
            "3\n",
            "5\n",
            "7\n",
            "The number upto None\n",
            "Your options are:\n",
            "1. Factorial\n",
            "2. Odd or Even\n",
            "3. Odd no Up to\n",
            "4. Prime Up to\n",
            "\n",
            "5. To Exit\n",
            "\n"
          ],
          "name": "stdout"
        }
      ]
    }
  ]
}