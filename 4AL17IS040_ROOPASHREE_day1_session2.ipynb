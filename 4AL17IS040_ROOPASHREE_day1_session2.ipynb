{
  "nbformat": 4,
  "nbformat_minor": 0,
  "metadata": {
    "colab": {
      "name": "day1_session2",
      "provenance": [],
      "authorship_tag": "ABX9TyNFxOb2ECiuV+WzKne9uEgP",
      "include_colab_link": true
    },
    "kernelspec": {
      "name": "python3",
      "display_name": "Python 3"
    }
  },
  "cells": [
    {
      "cell_type": "markdown",
      "metadata": {
        "id": "view-in-github",
        "colab_type": "text"
      },
      "source": [
        "<a href=\"https://colab.research.google.com/github/alvas-education-foundation/ISE_3rd_Year_Coding_challenge/blob/master/4AL17IS040_ROOPASHREE_day1_session2.ipynb\" target=\"_parent\"><img src=\"https://colab.research.google.com/assets/colab-badge.svg\" alt=\"Open In Colab\"/></a>"
      ]
    },
    {
      "cell_type": "markdown",
      "metadata": {
        "id": "U7tOaZ1mKmCz",
        "colab_type": "text"
      },
      "source": [
        "Write a program to print the triangle"
      ]
    },
    {
      "cell_type": "code",
      "metadata": {
        "id": "pbu7z9lOKA4p",
        "colab_type": "code",
        "colab": {
          "base_uri": "https://localhost:8080/",
          "height": 118
        },
        "outputId": "76264d78-60f1-41ca-fe77-0c8c070307b3"
      },
      "source": [
        "k=1\n",
        "n=int(input(\"enter n value: \"))\n",
        "for i in range(0,n):\n",
        "  if(i>=2):\n",
        "    k=i+1\n",
        "  for j in range(0,i+1):\n",
        "    print(k,end=\" \")\n",
        "    k=k+1\n",
        "  print()"
      ],
      "execution_count": null,
      "outputs": [
        {
          "output_type": "stream",
          "text": [
            "enter n value: 5\n",
            "1 \n",
            "2 3 \n",
            "3 4 5 \n",
            "4 5 6 7 \n",
            "5 6 7 8 9 \n"
          ],
          "name": "stdout"
        }
      ]
    },
    {
      "cell_type": "markdown",
      "metadata": {
        "id": "84czUCR6KwBh",
        "colab_type": "text"
      },
      "source": [
        "\n",
        "python program to print pattern"
      ]
    },
    {
      "cell_type": "code",
      "metadata": {
        "id": "bUhW30NyKpGk",
        "colab_type": "code",
        "colab": {
          "base_uri": "https://localhost:8080/",
          "height": 134
        },
        "outputId": "4a2b8f74-bddc-4d44-f4a3-a4657ce9429b"
      },
      "source": [
        "\n",
        "rows =int(input(\"enter num: \"))\n",
        "for i in range(0, rows):\n",
        "    for j in range(0, i + 1):\n",
        "        print(\"*\", end=' ')\n",
        "\n",
        "    print(\"\\r\")"
      ],
      "execution_count": null,
      "outputs": [
        {
          "output_type": "stream",
          "text": [
            "enter num: 6\n",
            "* \n",
            "* * \n",
            "* * * \n",
            "* * * * \n",
            "* * * * * \n",
            "* * * * * * \n"
          ],
          "name": "stdout"
        }
      ]
    },
    {
      "cell_type": "markdown",
      "metadata": {
        "id": "Apagm5v3K25R",
        "colab_type": "text"
      },
      "source": [
        "\n",
        "pattren program"
      ]
    },
    {
      "cell_type": "code",
      "metadata": {
        "id": "0esoMr72Ky0_",
        "colab_type": "code",
        "colab": {
          "base_uri": "https://localhost:8080/",
          "height": 134
        },
        "outputId": "9b4aa345-6553-4593-8e3f-7829aad38f27"
      },
      "source": [
        "k=4\n",
        "n=int(input(\"enter n value: \"))\n",
        "for i in range(n+1,0,-1):\n",
        "  for j in range(i,n+1):\n",
        "    print(j,end=\" \")\n",
        "    \n",
        "    \n",
        "  print()"
      ],
      "execution_count": null,
      "outputs": [
        {
          "output_type": "stream",
          "text": [
            "enter n value: 5\n",
            "\n",
            "5 \n",
            "4 5 \n",
            "3 4 5 \n",
            "2 3 4 5 \n",
            "1 2 3 4 5 \n"
          ],
          "name": "stdout"
        }
      ]
    },
    {
      "cell_type": "markdown",
      "metadata": {
        "id": "rWN4cMMZLEWN",
        "colab_type": "text"
      },
      "source": [
        "pattren program"
      ]
    },
    {
      "cell_type": "code",
      "metadata": {
        "id": "GxBTDGlzK7kV",
        "colab_type": "code",
        "colab": {
          "base_uri": "https://localhost:8080/",
          "height": 151
        },
        "outputId": "127036f7-7078-4006-c952-f9d34b21151b"
      },
      "source": [
        "rows = int(input(\"enter num : \"))\n",
        "for i in range(0, rows + 1):\n",
        "    for j in range(rows - i, 0, -1):\n",
        "        print(j, end=' ')\n",
        "    print()"
      ],
      "execution_count": null,
      "outputs": [
        {
          "output_type": "stream",
          "text": [
            "enter num : 6\n",
            "6 5 4 3 2 1 \n",
            "5 4 3 2 1 \n",
            "4 3 2 1 \n",
            "3 2 1 \n",
            "2 1 \n",
            "1 \n",
            "\n"
          ],
          "name": "stdout"
        }
      ]
    },
    {
      "cell_type": "markdown",
      "metadata": {
        "id": "tpb19DCZLL40",
        "colab_type": "text"
      },
      "source": [
        "\n",
        "pattern program"
      ]
    },
    {
      "cell_type": "code",
      "metadata": {
        "id": "NszEFxJTLF2o",
        "colab_type": "code",
        "colab": {
          "base_uri": "https://localhost:8080/",
          "height": 151
        },
        "outputId": "18aadc0f-f5d0-47f2-b691-925881fcf1a6"
      },
      "source": [
        "rows = 5\n",
        "n=rows-1\n",
        "for i in range(1, rows-1):\n",
        "    for j in range(i,rows):\n",
        "        print(j,end=\" \")\n",
        "    print()\n",
        "for i in range(n+1,0,-1):\n",
        "  for j in range(i,n+1):\n",
        "    print(j,end=\" \")\n",
        "  print()"
      ],
      "execution_count": null,
      "outputs": [
        {
          "output_type": "stream",
          "text": [
            "1 2 3 4 \n",
            "2 3 4 \n",
            "3 4 \n",
            "\n",
            "4 \n",
            "3 4 \n",
            "2 3 4 \n",
            "1 2 3 4 \n"
          ],
          "name": "stdout"
        }
      ]
    },
    {
      "cell_type": "markdown",
      "metadata": {
        "id": "8kZ3ejLALTqa",
        "colab_type": "text"
      },
      "source": [
        "\n",
        "Find the length of a string without using len functions"
      ]
    },
    {
      "cell_type": "code",
      "metadata": {
        "id": "nnRPn9SQLNVB",
        "colab_type": "code",
        "colab": {
          "base_uri": "https://localhost:8080/",
          "height": 50
        },
        "outputId": "1ecc205e-26aa-42a4-9d94-d65ca69d2af4"
      },
      "source": [
        "str = input(\"Enter a string: \")\n",
        "counter = 0\n",
        "for s in str:\n",
        "      counter = counter+1\n",
        "print(\"Length of the input string is:\", counter)"
      ],
      "execution_count": null,
      "outputs": [
        {
          "output_type": "stream",
          "text": [
            "Enter a string: 4\n",
            "Length of the input string is: 1\n"
          ],
          "name": "stdout"
        }
      ]
    },
    {
      "cell_type": "markdown",
      "metadata": {
        "id": "bnOWNNoqLb2W",
        "colab_type": "text"
      },
      "source": [
        "\n",
        "Find the no of words and characters in a string"
      ]
    },
    {
      "cell_type": "code",
      "metadata": {
        "id": "-Cuqgw13LWHK",
        "colab_type": "code",
        "colab": {
          "base_uri": "https://localhost:8080/",
          "height": 101
        },
        "outputId": "e7f76559-3c3e-41fb-fe8e-222b3b2b7d44"
      },
      "source": [
        "string=input(\"Enter string:\")\n",
        "char=0\n",
        "word=1\n",
        "for i in string:\n",
        "      char=char+1\n",
        "      if(i==' '):\n",
        "            word=word+1\n",
        "print(\"Number of words in the string:\")\n",
        "print(word)\n",
        "print(\"Number of characters in the string:\")\n",
        "print(char)"
      ],
      "execution_count": null,
      "outputs": [
        {
          "output_type": "stream",
          "text": [
            "Enter string:8\n",
            "Number of words in the string:\n",
            "1\n",
            "Number of characters in the string:\n",
            "1\n"
          ],
          "name": "stdout"
        }
      ]
    },
    {
      "cell_type": "markdown",
      "metadata": {
        "id": "TRfH9HRfLlx6",
        "colab_type": "text"
      },
      "source": [
        "\n",
        "Find the no of occurrences of each word in a string"
      ]
    },
    {
      "cell_type": "code",
      "metadata": {
        "id": "QbSdt8jlLe--",
        "colab_type": "code",
        "colab": {
          "base_uri": "https://localhost:8080/",
          "height": 34
        },
        "outputId": "0a5c540c-e0ea-4936-802b-10e858c0343c"
      },
      "source": [
        "def word_count(str):\n",
        "    counts = dict()\n",
        "    words = str.split()\n",
        "\n",
        "    for word in words:\n",
        "        if word in counts:\n",
        "            counts[word] += 1\n",
        "        else:\n",
        "            counts[word] = 1\n",
        "\n",
        "    return counts\n",
        "\n",
        "print( word_count('the quick brown fox jumps over the lazy dog.'))"
      ],
      "execution_count": null,
      "outputs": [
        {
          "output_type": "stream",
          "text": [
            "{'the': 2, 'quick': 1, 'brown': 1, 'fox': 1, 'jumps': 1, 'over': 1, 'lazy': 1, 'dog.': 1}\n"
          ],
          "name": "stdout"
        }
      ]
    }
  ]
}