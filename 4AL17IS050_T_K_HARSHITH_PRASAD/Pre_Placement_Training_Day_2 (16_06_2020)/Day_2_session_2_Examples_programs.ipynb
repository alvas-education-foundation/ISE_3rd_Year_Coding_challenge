{
  "nbformat": 4,
  "nbformat_minor": 0,
  "metadata": {
    "colab": {
      "name": "Day 2 session 2 Examples programs.ipynb",
      "provenance": [],
      "collapsed_sections": []
    },
    "kernelspec": {
      "name": "python3",
      "display_name": "Python 3"
    }
  },
  "cells": [
    {
      "cell_type": "markdown",
      "metadata": {
        "id": "pMLog7YFAbpE",
        "colab_type": "text"
      },
      "source": [
        "1."
      ]
    },
    {
      "cell_type": "code",
      "metadata": {
        "id": "4_CJbQBYAT_b",
        "colab_type": "code",
        "colab": {}
      },
      "source": [
        "#dict.clear()\n",
        "#Removes all elements of dictionary dict\n",
        "\n",
        "dict = {'Name': 'Zara', 'Age': 7};\n",
        "print(\"Start Len : %d\" %  len(dict))\n",
        "dict.clear()\n",
        "print(\"End Len : %d\" %  len(dict))"
      ],
      "execution_count": 0,
      "outputs": []
    },
    {
      "cell_type": "markdown",
      "metadata": {
        "id": "ZeY7gtcHA11a",
        "colab_type": "text"
      },
      "source": [
        "OUTPUT:\n",
        "Start Len : 2\n",
        "End Len : 0"
      ]
    },
    {
      "cell_type": "markdown",
      "metadata": {
        "id": "6Ws-uxGpAXTi",
        "colab_type": "text"
      },
      "source": [
        "2."
      ]
    },
    {
      "cell_type": "code",
      "metadata": {
        "id": "BqZhIp4CAXmK",
        "colab_type": "code",
        "colab": {}
      },
      "source": [
        "#dict.items()\n",
        "#Returns a list of dict's (key, value) tuple pairs\n",
        "\n",
        "dict = {'Name': 'Zara', 'Age': 7}\n",
        "print (\"Value : %s\" %  dict.items())"
      ],
      "execution_count": 0,
      "outputs": []
    },
    {
      "cell_type": "markdown",
      "metadata": {
        "id": "SktCzLAKA-qq",
        "colab_type": "text"
      },
      "source": [
        "OUTPUT:\n",
        "Value : dict_items([('Name', 'Zara'), ('Age', 7)])"
      ]
    },
    {
      "cell_type": "markdown",
      "metadata": {
        "id": "e9Ar1ieFAX91",
        "colab_type": "text"
      },
      "source": [
        "3."
      ]
    },
    {
      "cell_type": "code",
      "metadata": {
        "id": "Gceu_s_AAYNb",
        "colab_type": "code",
        "colab": {}
      },
      "source": [
        "# dict.copy()\n",
        "#Returns a copy of dictionary dict\n",
        "\n",
        "dict1 = {'Name': 'Zara', 'Age': 7};\n",
        "dict2 = dict1.copy()\n",
        "print (\"New Dictinary : %s\" %  str(dict2))"
      ],
      "execution_count": 0,
      "outputs": []
    },
    {
      "cell_type": "markdown",
      "metadata": {
        "id": "SywizdMDBDvp",
        "colab_type": "text"
      },
      "source": [
        "OUTPUT:\n",
        "New Dictinary : {'Name': 'Zara', 'Age': 7}"
      ]
    },
    {
      "cell_type": "markdown",
      "metadata": {
        "id": "qO920A0uAYpA",
        "colab_type": "text"
      },
      "source": [
        "4."
      ]
    },
    {
      "cell_type": "code",
      "metadata": {
        "id": "Uym0QKMYAY3r",
        "colab_type": "code",
        "colab": {}
      },
      "source": [
        "#Python Program to Generate a Dictionary that Contains Numbers (between 1 and n) in the Form (x,x*x). \n",
        "n=int(input(\"Enter a number:\"))\n",
        "d={x:x*x for x in range(1,n+1)}\n",
        "print(d)"
      ],
      "execution_count": 0,
      "outputs": []
    },
    {
      "cell_type": "markdown",
      "metadata": {
        "id": "j8ZMX_PmBIKe",
        "colab_type": "text"
      },
      "source": [
        "OUTPUT:\n",
        "Enter a number:4\n",
        "{1: 1, 2: 4, 3: 9, 4: 16}"
      ]
    },
    {
      "cell_type": "markdown",
      "metadata": {
        "id": "zVc0bsoFAZVK",
        "colab_type": "text"
      },
      "source": [
        "5."
      ]
    },
    {
      "cell_type": "code",
      "metadata": {
        "id": "VgFeqBivAZnW",
        "colab_type": "code",
        "colab": {}
      },
      "source": [
        "#Python Program to Sum All the Items in a Dictionary \n",
        "d={'A':100,'B':540,'C':239}\n",
        "print(\"Total sum of values in the dictionary:\")\n",
        "print(sum(d.values()))"
      ],
      "execution_count": 0,
      "outputs": []
    },
    {
      "cell_type": "markdown",
      "metadata": {
        "id": "vQCSUTAbBOE2",
        "colab_type": "text"
      },
      "source": [
        "OUTPUT:\n",
        "Total sum of values in the dictionary:\n",
        "879"
      ]
    },
    {
      "cell_type": "markdown",
      "metadata": {
        "id": "ny37V6T3AnbH",
        "colab_type": "text"
      },
      "source": [
        "6."
      ]
    },
    {
      "cell_type": "code",
      "metadata": {
        "id": "g6SE2ueNAn0a",
        "colab_type": "code",
        "colab": {}
      },
      "source": [
        "#Python Program to Remove the Given Key from a Dictionary \n",
        "d = {'a':1,'b':2,'c':3,'d':4}\n",
        "print(\"Initial dictionary\")\n",
        "print(d)\t\n",
        "key=input(\"Enter the key to delete(a-d):\")\n",
        "if key in d: \n",
        "del d[key]\n",
        "else:\n",
        "print(\"Key not found!\")\n",
        "exit(0)\n",
        "print(\"Updated dictionary\")\n",
        "print(d)"
      ],
      "execution_count": 0,
      "outputs": []
    },
    {
      "cell_type": "markdown",
      "metadata": {
        "id": "obiWbsKqAoKK",
        "colab_type": "text"
      },
      "source": [
        "7."
      ]
    },
    {
      "cell_type": "code",
      "metadata": {
        "id": "KJoIpVApAofr",
        "colab_type": "code",
        "colab": {}
      },
      "source": [
        "#Python Program to add name and mark as key->value pair in  a Dictionary and print it.\n",
        "n=int(input(\"Enter no of records\"))\n",
        "d={}\n",
        "for i in range(1,n+1):\n",
        "name= input(\"Enter name %d\"%(i))\n",
        "mark=int(input(\"Enter mark %d\"%(i)))\n",
        "d[name]=mark\n",
        "print (d)\n",
        "\n",
        "# Keys and Values example\n",
        "d={}\n",
        "print (\" The dictionary elements are\")\n",
        "for i in range(1,21):\n",
        "d[i]=i**2\n",
        "print (d)\n",
        "# To print key and values\n",
        "print (\" Key==> Value are\")\n",
        "for (k,v) in d.items():\t\n",
        "print(k,\"==>\",v)\n",
        "# To print key only\n",
        "print (\"\\nTo print key only\")\n",
        "for k in d.keys():\t\n",
        "print(k, end=\"\")\n",
        "#To print value only\n",
        "print (\"\\nTo print values only\")\n",
        "for v in d.values():\t\n",
        "print(v, end=\"\")"
      ],
      "execution_count": 0,
      "outputs": []
    },
    {
      "cell_type": "markdown",
      "metadata": {
        "id": "g4rZVLNCAoyh",
        "colab_type": "text"
      },
      "source": [
        "8."
      ]
    },
    {
      "cell_type": "code",
      "metadata": {
        "id": "1BjVDGtDApJS",
        "colab_type": "code",
        "colab": {}
      },
      "source": [
        "#Python program to convert 2 digit number   into words\n",
        "\n",
        "d={0:'',1:'one',2:'two',3:'three',4:'four',5:'five',6:'six',7:'seven',8:'eight',9:'nine',\\\n",
        "10:'ten',11:'eleven',12:'twelve',13:'thirteen',14:'fourteen',15:'fifteen',16:'sixteen',\\\n",
        "17:'seventeen',18:'eightteen',19:'nineteen',20:'twenty',30:'thirty',40:'fourty',50:'fifty',\\\n",
        "60:'sixty',70:'seventy',80:'eighty',90:'ninty'}\n",
        "\n",
        "num=int(input(\"Enter the integer between 1 to 99:\"))\n",
        "if (num<=20):\n",
        "print(d[num])\n",
        "if(num>20 and num<100):\n",
        "if num%10==0:       \n",
        "print(d[num])\n",
        "else:\n",
        "print(d[num//10*10]+\"\"+d[num%10])"
      ],
      "execution_count": 0,
      "outputs": []
    },
    {
      "cell_type": "markdown",
      "metadata": {
        "id": "X-zCRsdGBaC1",
        "colab_type": "text"
      },
      "source": [
        "9."
      ]
    },
    {
      "cell_type": "code",
      "metadata": {
        "id": "fX_Ww-p5Ba_O",
        "colab_type": "code",
        "colab": {}
      },
      "source": [
        "#How to sort a dictionary by values in Python\n",
        "\n",
        "d = {\"Pierre\": 42, \"Anne\": 33, \"Zoe\": 24}\n",
        "#Use the sorted function and operator module\n",
        "import operator\n",
        "sorted_d = sorted(d.items(), key=operator.itemgetter(1))\n",
        "print(sorted_d)\n",
        "sorted_a= sorted(d.items(), key=operator.itemgetter(1),reverse=True)\n",
        "print(sorted_a)"
      ],
      "execution_count": 0,
      "outputs": []
    },
    {
      "cell_type": "markdown",
      "metadata": {
        "id": "_4ruUU1PBbuO",
        "colab_type": "text"
      },
      "source": [
        "OUTPUT:\n",
        "[('Zoe', 24), ('Anne', 33), ('Pierre', 42)]\n",
        "[('Pierre', 42), ('Anne', 33), ('Zoe', 24)]"
      ]
    }
  ]
}