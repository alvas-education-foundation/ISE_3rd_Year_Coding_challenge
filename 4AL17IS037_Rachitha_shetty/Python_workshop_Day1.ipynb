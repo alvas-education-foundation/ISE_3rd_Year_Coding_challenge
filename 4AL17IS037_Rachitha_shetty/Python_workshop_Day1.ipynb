{
  "nbformat": 4,
  "nbformat_minor": 0,
  "metadata": {
    "colab": {
      "name": "Python_workshop_Day1.ipynb",
      "provenance": [],
      "collapsed_sections": [],
      "authorship_tag": "ABX9TyMuWrESMfbRmioGQhtbw9ye",
      "include_colab_link": true
    },
    "kernelspec": {
      "name": "python3",
      "display_name": "Python 3"
    }
  },
  "cells": [
    {
      "cell_type": "markdown",
      "metadata": {
        "id": "view-in-github",
        "colab_type": "text"
      },
      "source": [
        "<a href=\"https://colab.research.google.com/github/alvas-education-foundation/ISE_3rd_Year_Coding_challenge/blob/master/4AL17IS037_Rachitha_shetty/Python_workshop_Day1.ipynb\" target=\"_parent\"><img src=\"https://colab.research.google.com/assets/colab-badge.svg\" alt=\"Open In Colab\"/></a>"
      ]
    },
    {
      "cell_type": "markdown",
      "metadata": {
        "id": "LZqqo5F2w7IH",
        "colab_type": "text"
      },
      "source": [
        "#Python Program to Add Two Numbers getting through key board"
      ]
    },
    {
      "cell_type": "code",
      "metadata": {
        "id": "TPcOP_tkxAI4",
        "colab_type": "code",
        "outputId": "98c3fde4-25f7-42fd-fd3f-af143cf9dd27",
        "colab": {
          "base_uri": "https://localhost:8080/",
          "height": 68
        }
      },
      "source": [
        "# sum of two nos\n",
        "num1 = int(input(\"Enter first no\"))\n",
        "num2 = int(input(\"Enter second no\"))\n",
        "\n",
        "# Adding the two numbers\n",
        "sum = num1 + num2\n",
        "\n",
        "# Display the sum\n",
        "print('The sum of {0} and {1} is {2}'.format(num1, num2, sum))\n",
        "\n"
      ],
      "execution_count": 0,
      "outputs": [
        {
          "output_type": "stream",
          "text": [
            "Enter first no4\n",
            "Enter second no3\n",
            "The sum of 4 and 3 is 7\n"
          ],
          "name": "stdout"
        }
      ]
    },
    {
      "cell_type": "markdown",
      "metadata": {
        "id": "AI1aCOwlxPHh",
        "colab_type": "text"
      },
      "source": [
        "#Python program to check if the input year is a leap year or not"
      ]
    },
    {
      "cell_type": "code",
      "metadata": {
        "id": "9q8I1qJfxXuK",
        "colab_type": "code",
        "outputId": "8843fab2-08da-4e23-cbc5-0a3afc3d0a5b",
        "colab": {
          "base_uri": "https://localhost:8080/",
          "height": 51
        }
      },
      "source": [
        "# To get year (integer input) from the user\n",
        "year = int(input(\"Enter a year: \"))\n",
        "\n",
        "if ((year % 4) == 0 and (year % 100)  != 0) or ((year % 400) == 0):\n",
        "  print(\"{0} is a leap year\".format(year))\n",
        "else:\n",
        "  print(\"{0} is not a leap year\".format(year))\n"
      ],
      "execution_count": 0,
      "outputs": [
        {
          "output_type": "stream",
          "text": [
            "Enter a year: 2020\n",
            "2020 is a leap year\n"
          ],
          "name": "stdout"
        }
      ]
    },
    {
      "cell_type": "markdown",
      "metadata": {
        "id": "-7uTiurNxqoR",
        "colab_type": "text"
      },
      "source": [
        "#Python Program to Generate a Random Number "
      ]
    },
    {
      "cell_type": "code",
      "metadata": {
        "id": "tei9KMjSyGvS",
        "colab_type": "code",
        "outputId": "3530c900-9ec9-4e35-d0c3-4c7ca3e8e7e3",
        "colab": {
          "base_uri": "https://localhost:8080/",
          "height": 34
        }
      },
      "source": [
        "# Program to generate a random number between 0 and 9\n",
        "# import the random module\n",
        "\n",
        "import random\n",
        "\n",
        "print(random.randint(0,9))"
      ],
      "execution_count": 0,
      "outputs": [
        {
          "output_type": "stream",
          "text": [
            "6\n"
          ],
          "name": "stdout"
        }
      ]
    },
    {
      "cell_type": "markdown",
      "metadata": {
        "id": "76nuL34FyVnL",
        "colab_type": "text"
      },
      "source": [
        "#Python Program to Convert Kilometers to Miles "
      ]
    },
    {
      "cell_type": "code",
      "metadata": {
        "id": "1RUvadWHyZGh",
        "colab_type": "code",
        "outputId": "c2082e52-9332-40be-dcba-c850a7c9121f",
        "colab": {
          "base_uri": "https://localhost:8080/",
          "height": 51
        }
      },
      "source": [
        "kilometers = int(input(\"Enter value in kilometers\"))\n",
        "\n",
        "# conversion factor\n",
        "conv_fac = 0.621371\n",
        "\n",
        "# calculate miles\n",
        "miles = kilometers * conv_fac\n",
        "print('%0.3f kilometers is equal to %0.3f miles' %(kilometers,miles)) "
      ],
      "execution_count": 0,
      "outputs": [
        {
          "output_type": "stream",
          "text": [
            "Enter value in kilometers100\n",
            "100.000 kilometers is equal to 62.137 miles\n"
          ],
          "name": "stdout"
        }
      ]
    },
    {
      "cell_type": "markdown",
      "metadata": {
        "id": "jipj2EZ5zBXg",
        "colab_type": "text"
      },
      "source": [
        "#Python Program to Solve Quadratic Equation "
      ]
    },
    {
      "cell_type": "code",
      "metadata": {
        "id": "m6nmvnSczFkh",
        "colab_type": "code",
        "outputId": "d6d94559-1a79-4590-b8cb-cf7b6f40a952",
        "colab": {
          "base_uri": "https://localhost:8080/",
          "height": 85
        }
      },
      "source": [
        "# Solve the quadratic equation ax**2 + bx + c = 0\n",
        "# importing  complex math module\n",
        "import cmath\n",
        "\n",
        "# To take coefficient input from the users\n",
        "a = float(input('Enter a: '))\n",
        "b = float(input('Enter b: '))\n",
        "c = float(input('Enter c: '))\n",
        "\n",
        "# calculate the discriminant\n",
        "d = (b**2) - (4*a*c)\n",
        "\n",
        "# find two solutions\n",
        "sol1 = (-b-cmath.sqrt(d))/(2*a)\n",
        "sol2 = (-b+cmath.sqrt(d))/(2*a)\n",
        "print('The solution are {0} and {1}'.format(sol1,sol2))\n"
      ],
      "execution_count": 0,
      "outputs": [
        {
          "output_type": "stream",
          "text": [
            "Enter a: 2\n",
            "Enter b: 3\n",
            "Enter c: 4\n",
            "The solution are (-0.75-1.1989578808281798j) and (-0.75+1.1989578808281798j)\n"
          ],
          "name": "stdout"
        }
      ]
    },
    {
      "cell_type": "markdown",
      "metadata": {
        "id": "yKxuc1czzgw6",
        "colab_type": "text"
      },
      "source": [
        "#Python Program to find prime or not using function "
      ]
    },
    {
      "cell_type": "code",
      "metadata": {
        "id": "zFQgbUqKzpkz",
        "colab_type": "code",
        "outputId": "f5f51c0c-4be3-433d-91d9-754076b03369",
        "colab": {
          "base_uri": "https://localhost:8080/",
          "height": 51
        }
      },
      "source": [
        "def test_prime(n):\n",
        "  if n==1:\n",
        "    return False\n",
        "  elif (n==2):\n",
        "    return True\n",
        "  else:\n",
        "    for x in range(2,n):\n",
        "      if(n % x==0):\n",
        "        return False\n",
        "        return True\n",
        "no=int(input(\"Enter the number\"))\n",
        "if (test_prime(no)) is True :\n",
        "  print(\" {0} is a prime no\".format(no))\n",
        "else:\n",
        "  print(\" {0} is not a prime no\".format(no))\n",
        "\n",
        "\n"
      ],
      "execution_count": 0,
      "outputs": [
        {
          "output_type": "stream",
          "text": [
            "Enter the number8\n",
            " 8 is not a prime no\n"
          ],
          "name": "stdout"
        }
      ]
    },
    {
      "cell_type": "markdown",
      "metadata": {
        "id": "wqS01N_E41JR",
        "colab_type": "text"
      },
      "source": [
        "#Python Menu Program to  perform arithmetic operations using function "
      ]
    },
    {
      "cell_type": "code",
      "metadata": {
        "id": "VapC_hOo44cv",
        "colab_type": "code",
        "outputId": "e5dd6219-2aa4-431f-d7a3-1a9b55274dfd",
        "colab": {
          "base_uri": "https://localhost:8080/",
          "height": 646
        }
      },
      "source": [
        "\"\"\"Calculator program\"\"\"\n",
        "\n",
        "loop = 1 # 1 means loop; anything else means don't loop.\n",
        "choice = 0 # This variable holds the user's choice in the menu\n",
        "\n",
        "def add(add1,add2):\n",
        "  return add1 + add2 \n",
        "def sub(sub1,sub2):\n",
        "  return sub1 - sub2\n",
        "def mul(mul1,mul2):\n",
        "  return mul1 * mul2\n",
        "def div(div1,div2):\n",
        "  return div1 / div2 \n",
        "\n",
        "while loop == 1:\n",
        "  print(\"Welcome to calculator.py\")\n",
        "  print(\"your options are:\")\n",
        "  print(\"\")\n",
        "  print(\"1) Addition\")\n",
        "  print(\"2) Subtraction\")\n",
        "  print(\"3) Multiplication\")\n",
        "  print(\"4) Division\")\n",
        "  print(\"5) Quit calculator.py\")\n",
        "  print(\"\")\n",
        "  choice = int(input(\"Choose your option: \"))\n",
        "\n",
        "  if choice == 1:\n",
        "    add1 = int(input(\"Add this: \"))\n",
        "    add2 = int(input(\"to this: \"))\n",
        "    print (add(add1,add2))\n",
        "  elif choice == 2:\n",
        "    sub2 = int(input(\"Subtract this: \"))\n",
        "    sub1 = int(input(\"from this: \"))\n",
        "    print (sub(sub1,sub2))\n",
        "  elif choice == 3:\n",
        "    mul1 = int(input(\"Multiply this: \"))\n",
        "    mul2 = int(input(\"with this: \"))\n",
        "    print (mul(mul1,mul2))\n",
        "  elif choice == 4:\n",
        "    div1 = int(input(\"Divide this: \"))\n",
        "    div2 = int(input(\"by this: \"))\n",
        "    print (div(div1,div2))\n",
        "  elif choice == 5:\n",
        "    loop = 0\n",
        "    print(\"Thank-you for using calculator.py!\")"
      ],
      "execution_count": 0,
      "outputs": [
        {
          "output_type": "stream",
          "text": [
            "Welcome to calculator.py\n",
            "your options are:\n",
            "\n",
            "1) Addition\n",
            "2) Subtraction\n",
            "3) Multiplication\n",
            "4) Division\n",
            "5) Quit calculator.py\n",
            "\n",
            "Choose your option: 1\n",
            "Add this: 3\n",
            "to this: 5\n",
            "8\n",
            "Welcome to calculator.py\n",
            "your options are:\n",
            "\n",
            "1) Addition\n",
            "2) Subtraction\n",
            "3) Multiplication\n",
            "4) Division\n",
            "5) Quit calculator.py\n",
            "\n",
            "Choose your option: 3\n",
            "Multiply this: 10\n",
            "with this: 10\n",
            "100\n",
            "Welcome to calculator.py\n",
            "your options are:\n",
            "\n",
            "1) Addition\n",
            "2) Subtraction\n",
            "3) Multiplication\n",
            "4) Division\n",
            "5) Quit calculator.py\n",
            "\n",
            "Choose your option: 5\n",
            "Thank-you for using calculator.py!\n"
          ],
          "name": "stdout"
        }
      ]
    },
    {
      "cell_type": "markdown",
      "metadata": {
        "id": "97XjrDhnicbH",
        "colab_type": "text"
      },
      "source": [
        "#Python Program to find the factorial of a number using loop."
      ]
    },
    {
      "cell_type": "code",
      "metadata": {
        "id": "4SAEX0wCipIZ",
        "colab_type": "code",
        "outputId": "355a76a5-cde8-45b5-88d0-5749e82e82f5",
        "colab": {
          "base_uri": "https://localhost:8080/",
          "height": 68
        }
      },
      "source": [
        "n=int(input(\"Enter number:\"))\n",
        "fact=1\n",
        "\n",
        "while(n>0):\n",
        "  fact=fact*n\n",
        "  n=n-1\n",
        "print(\"Factorial of the number is: \")\n",
        "print(fact)"
      ],
      "execution_count": 0,
      "outputs": [
        {
          "output_type": "stream",
          "text": [
            "Enter number:3\n",
            "Factorial of the number is: \n",
            "6\n"
          ],
          "name": "stdout"
        }
      ]
    },
    {
      "cell_type": "markdown",
      "metadata": {
        "id": "hjsU-Xuilzs7",
        "colab_type": "text"
      },
      "source": [
        "#Python Program to reverse a number using loop "
      ]
    },
    {
      "cell_type": "code",
      "metadata": {
        "id": "hpPEP4pDiwW3",
        "colab_type": "code",
        "outputId": "4edd046a-ecf0-48b6-cff6-7e9891329ee5",
        "colab": {
          "base_uri": "https://localhost:8080/",
          "height": 68
        }
      },
      "source": [
        "r=0\n",
        "n=int(input(\"Enter a number: \"))\n",
        "while(n>0):\n",
        "  dig=n%10\n",
        "  r=r*10+dig\n",
        "  n=n//10\n",
        "print(\"The reversed no  is:\")\n",
        "print(r)"
      ],
      "execution_count": 0,
      "outputs": [
        {
          "output_type": "stream",
          "text": [
            "Enter a number: 2005\n",
            "The reversed no  is:\n",
            "5002\n"
          ],
          "name": "stdout"
        }
      ]
    },
    {
      "cell_type": "markdown",
      "metadata": {
        "id": "4k2UED2impGe",
        "colab_type": "text"
      },
      "source": [
        "#Write a Python program to construct the following pattern, using a nested for loop."
      ]
    },
    {
      "cell_type": "code",
      "metadata": {
        "id": "LtSQ6f2JmwZC",
        "colab_type": "code",
        "outputId": "bf26f0cb-5806-4f13-f31a-7a37f3f73d46",
        "colab": {
          "base_uri": "https://localhost:8080/",
          "height": 187
        }
      },
      "source": [
        "n=5;\n",
        "for i in range(n):\n",
        "  for j in range(i):\n",
        "    print ('* ', end=\"\")\n",
        "  print('')\n",
        "\n",
        "for i in range(n,0,-1):\n",
        "  for j in range(i):\n",
        "    print('* ', end=\"\")\n",
        "  print('')"
      ],
      "execution_count": 0,
      "outputs": [
        {
          "output_type": "stream",
          "text": [
            "\n",
            "* \n",
            "* * \n",
            "* * * \n",
            "* * * * \n",
            "* * * * * \n",
            "* * * * \n",
            "* * * \n",
            "* * \n",
            "* \n"
          ],
          "name": "stdout"
        }
      ]
    },
    {
      "cell_type": "markdown",
      "metadata": {
        "id": "h3SYo6AXowng",
        "colab_type": "text"
      },
      "source": [
        "#Python Program to replace all occurrences of ‘a’ with ‘$’ in a string. "
      ]
    },
    {
      "cell_type": "code",
      "metadata": {
        "id": "QIAoHCVlm2Rl",
        "colab_type": "code",
        "outputId": "39df19b5-5dbb-4226-f06e-d037f5ca0adc",
        "colab": {
          "base_uri": "https://localhost:8080/",
          "height": 68
        }
      },
      "source": [
        "string=input(\"Enter string:\")\n",
        "string=string.replace('a','$')\n",
        "string=string.replace('A','$')\n",
        "print(\"Modified string:\")\n",
        "print(string)"
      ],
      "execution_count": 0,
      "outputs": [
        {
          "output_type": "stream",
          "text": [
            "Enter string:animal\n",
            "Modified string:\n",
            "$nim$l\n"
          ],
          "name": "stdout"
        }
      ]
    },
    {
      "cell_type": "markdown",
      "metadata": {
        "id": "dKCU55dtsG2q",
        "colab_type": "text"
      },
      "source": [
        "#Python Program to remove the nth index character from a non-empty string. "
      ]
    },
    {
      "cell_type": "code",
      "metadata": {
        "id": "SSjeNz3ErZzF",
        "colab_type": "code",
        "outputId": "51587acd-7c65-4966-8ff8-e1cbeed25b16",
        "colab": {
          "base_uri": "https://localhost:8080/",
          "height": 85
        }
      },
      "source": [
        "def remove(string, n):  \n",
        "  first = string[:n]   \n",
        "  last = string[n+1:]  \n",
        "  return first + last\n",
        "string=input(\"Enter the sring:\")\n",
        "n=int(input(\"Enter the index of the character to remove:\"))\n",
        "print(\"Modified string:\")\n",
        "print(remove(string, n))"
      ],
      "execution_count": 0,
      "outputs": [
        {
          "output_type": "stream",
          "text": [
            "Enter the sring:hello\n",
            "Enter the index of the character to remove:2\n",
            "Modified string:\n",
            "helo\n"
          ],
          "name": "stdout"
        }
      ]
    },
    {
      "cell_type": "markdown",
      "metadata": {
        "id": "cAFDbghwsXxJ",
        "colab_type": "text"
      },
      "source": [
        "#Python Program to detect if two strings are anagrams"
      ]
    },
    {
      "cell_type": "code",
      "metadata": {
        "id": "5csNnAMnsh-y",
        "colab_type": "code",
        "outputId": "b33deecc-bbc1-4bb2-950e-883b9ff474cd",
        "colab": {
          "base_uri": "https://localhost:8080/",
          "height": 68
        }
      },
      "source": [
        "s1=input(\"Enter first string:\")\n",
        "s2=input(\"Enter second string:\")\n",
        "if(sorted(s1)==sorted(s2)):\n",
        "  print(\"The strings are anagrams.\")\n",
        "else:\n",
        "  print(\"The strings aren't anagrams.\")"
      ],
      "execution_count": 0,
      "outputs": [
        {
          "output_type": "stream",
          "text": [
            "Enter first string:akash\n",
            "Enter second string:akhil\n",
            "The strings aren't anagrams.\n"
          ],
          "name": "stdout"
        }
      ]
    },
    {
      "cell_type": "markdown",
      "metadata": {
        "id": "Cr6CP4VnuZ7F",
        "colab_type": "text"
      },
      "source": [
        "#Python Program to form a string where the first character and the last character have been exchanged. "
      ]
    },
    {
      "cell_type": "code",
      "metadata": {
        "id": "zFg_fIMxsMgc",
        "colab_type": "code",
        "outputId": "d4ee801d-ef67-4edb-8094-5ac0647a0083",
        "colab": {
          "base_uri": "https://localhost:8080/",
          "height": 68
        }
      },
      "source": [
        "def change(string):\n",
        "  return string[-1:] + string[1:-1] + string[:1]\n",
        "string=input(\"Enter string:\")\n",
        "print(\"Modified string:\")\n",
        "print(change(string))"
      ],
      "execution_count": 0,
      "outputs": [
        {
          "output_type": "stream",
          "text": [
            "Enter string:tree\n",
            "Modified string:\n",
            "eret\n"
          ],
          "name": "stdout"
        }
      ]
    },
    {
      "cell_type": "markdown",
      "metadata": {
        "id": "5XZw56oZusGG",
        "colab_type": "text"
      },
      "source": [
        "#Python Program to  count number of vowels from a non-empty string"
      ]
    },
    {
      "cell_type": "code",
      "metadata": {
        "id": "OsuwCkyBug5-",
        "colab_type": "code",
        "outputId": "f11c2e2c-95c2-4814-9c8f-e543e621b4dc",
        "colab": {
          "base_uri": "https://localhost:8080/",
          "height": 68
        }
      },
      "source": [
        "string=input(\"Enter string:\")\n",
        "vowels=0\n",
        "for i in string:\n",
        "  if(i=='a' or i=='e' or i=='i' or i=='o' or i=='u' or i=='A' or i=='E' or i=='I' or i=='O' or i=='U'):\n",
        "    vowels=vowels+1\n",
        "print(\"Number of vowels are:\")\n",
        "print(vowels)"
      ],
      "execution_count": 0,
      "outputs": [
        {
          "output_type": "stream",
          "text": [
            "Enter string:morning\n",
            "Number of vowels are:\n",
            "2\n"
          ],
          "name": "stdout"
        }
      ]
    },
    {
      "cell_type": "markdown",
      "metadata": {
        "id": "CJmAJB8Au17k",
        "colab_type": "text"
      },
      "source": [
        "#Program for Divide by zero error detection"
      ]
    },
    {
      "cell_type": "code",
      "metadata": {
        "id": "grO94TmHuxsf",
        "colab_type": "code",
        "outputId": "0418ae27-6ca0-43b0-99b2-f8bd4a58ee48",
        "colab": {
          "base_uri": "https://localhost:8080/",
          "height": 170
        }
      },
      "source": [
        "flag = True\n",
        "\n",
        "def div(a, b):  \n",
        "  try:\n",
        "    print(\"Finally the division of %d/%d is %f\" % (a, b,a/b))\n",
        "    global flag\n",
        "    flag=False\n",
        "  except ZeroDivisionError:\n",
        "    print(\"Zero Division Error detected\")\n",
        "  else:\n",
        "    print(\"Division is successful\") \n",
        "  finally:\n",
        "    if flag is True:\n",
        "      print(\"Try again\")     \n",
        "    else:\n",
        "      print(\"Thank you\")\n",
        "\n",
        "#global flag\n",
        "\n",
        "while flag is True:\n",
        "  div(int(input(\"Enter numerator\")),int(input(\"Enter denominator\")))"
      ],
      "execution_count": 0,
      "outputs": [
        {
          "output_type": "stream",
          "text": [
            "Enter numerator5\n",
            "Enter denominator0\n",
            "Zero Division Error detected\n",
            "Try again\n",
            "Enter numerator6\n",
            "Enter denominator6\n",
            "Finally the division of 6/6 is 1.000000\n",
            "Division is successful\n",
            "Thank you\n"
          ],
          "name": "stdout"
        }
      ]
    },
    {
      "cell_type": "markdown",
      "metadata": {
        "id": "8xYDGDAcvJ4u",
        "colab_type": "text"
      },
      "source": [
        "#Program for ValueError error detection"
      ]
    },
    {
      "cell_type": "code",
      "metadata": {
        "id": "MJl3ClBxu9aK",
        "colab_type": "code",
        "outputId": "2b667aba-8e31-4565-9185-762611ddbd05",
        "colab": {
          "base_uri": "https://localhost:8080/",
          "height": 51
        }
      },
      "source": [
        "while True:\n",
        "  try:\n",
        "    x = int(input(\"Please enter a number: \"))\n",
        "    print(\" That was valid number. Thank you\")\n",
        "    break\n",
        "  except ValueError:\n",
        "    print(\"Oops!  That was no valid number.  Try again...\")"
      ],
      "execution_count": 0,
      "outputs": [
        {
          "output_type": "stream",
          "text": [
            "Please enter a number: 23\n",
            " That was valid number. Thank you\n"
          ],
          "name": "stdout"
        }
      ]
    }
  ]
}