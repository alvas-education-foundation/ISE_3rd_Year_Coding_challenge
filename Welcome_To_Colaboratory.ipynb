{
  "nbformat": 4,
  "nbformat_minor": 0,
  "metadata": {
    "colab": {
      "name": "Welcome To Colaboratory",
      "provenance": [],
      "collapsed_sections": [],
      "toc_visible": true,
      "include_colab_link": true
    },
    "kernelspec": {
      "display_name": "Python 3",
      "name": "python3"
    }
  },
  "cells": [
    {
      "cell_type": "markdown",
      "metadata": {
        "id": "view-in-github",
        "colab_type": "text"
      },
      "source": [
        "<a href=\"https://colab.research.google.com/github/alvas-education-foundation/ISE_3rd_Year_Coding_challenge/blob/master/Welcome_To_Colaboratory.ipynb\" target=\"_parent\"><img src=\"https://colab.research.google.com/assets/colab-badge.svg\" alt=\"Open In Colab\"/></a>"
      ]
    },
    {
      "cell_type": "markdown",
      "metadata": {
        "id": "78rW1t8vwVcd",
        "colab_type": "text"
      },
      "source": [
        "**Session-1 Program**"
      ]
    },
    {
      "cell_type": "markdown",
      "metadata": {
        "id": "QgI-GMALwFXk",
        "colab_type": "text"
      },
      "source": [
        "Program to find the largest number in a list."
      ]
    },
    {
      "cell_type": "code",
      "metadata": {
        "id": "y1HjMLhazkIh",
        "colab_type": "code",
        "colab": {
          "base_uri": "https://localhost:8080/",
          "height": 101
        },
        "outputId": "7f802fab-a076-4da1-b532-3a938acac0d6"
      },
      "source": [
        "a=[]\n",
        "n=int(input(\"Enter number of elements:\"))\n",
        "for i in range(1,n+1):\n",
        "  b=int(input(\"Enter element:\"))\n",
        "  a.append(b)\n",
        "  a.sort()\n",
        "print(\"Largest element is:\",a[n-1])"
      ],
      "execution_count": 9,
      "outputs": [
        {
          "output_type": "stream",
          "text": [
            "Enter number of elements:3\n",
            "Enter element:2\n",
            "Enter element:4\n",
            "Enter element:1\n",
            "Largest element is: 4\n"
          ],
          "name": "stdout"
        }
      ]
    },
    {
      "cell_type": "markdown",
      "metadata": {
        "id": "Rhf4ixZPw7Ez",
        "colab_type": "text"
      },
      "source": [
        "Python Program to put the even and odd elements in a list into two different lists."
      ]
    },
    {
      "cell_type": "code",
      "metadata": {
        "id": "yIcL4SmSv3I5",
        "colab_type": "code",
        "colab": {
          "base_uri": "https://localhost:8080/",
          "height": 151
        },
        "outputId": "873237e1-4982-4df4-a6a4-bdb9d9d8c2a4"
      },
      "source": [
        "a=[]\n",
        "n=int(input(\"Enter number of elements:\"))\n",
        "for i in range(1,n+1):\n",
        "  b=int(input(\"Enter element:\"))\n",
        "  a.append(b)\n",
        "  even=[]\n",
        "  odd=[]\n",
        "for j in a:\n",
        "  if(j%2==0):\n",
        "    even.append(j)\n",
        "  else:\n",
        "    odd.append(j)\n",
        "print(\"The even list\",even)\n",
        "print(\"The odd list\",odd)"
      ],
      "execution_count": 3,
      "outputs": [
        {
          "output_type": "stream",
          "text": [
            "Enter number of elements:5\n",
            "Enter element:7\n",
            "Enter element:9\n",
            "Enter element:8\n",
            "Enter element:4\n",
            "Enter element:1\n",
            "The even list [8, 4]\n",
            "The odd list [7, 9, 1]\n"
          ],
          "name": "stdout"
        }
      ]
    },
    {
      "cell_type": "markdown",
      "metadata": {
        "id": "WP5cbf7ixHj8",
        "colab_type": "text"
      },
      "source": [
        "Python Program to merge two lists and sort it."
      ]
    },
    {
      "cell_type": "code",
      "metadata": {
        "id": "OkDG_SvwxMxi",
        "colab_type": "code",
        "colab": {
          "base_uri": "https://localhost:8080/",
          "height": 235
        },
        "outputId": "e2f638d0-1e45-44d1-c5f6-912dfe0d609c"
      },
      "source": [
        "a=[]\n",
        "c=[]\n",
        "n1=int(input(\"Enter number of elements:\"))\n",
        "for i in range(1,n1+1):\n",
        "  b=int(input(\"Enter element:\"))\n",
        "  a.append(b)\n",
        "n2=int(input(\"Enter number of elements:\"))\n",
        "for i in range(1,n2+1):\n",
        "  d=int(input(\"Enter element:\"))\n",
        "  c.append(d)\n",
        "  new=a+c\n",
        "  new.sort()\n",
        "print(\"Sorted list is:\",new)"
      ],
      "execution_count": 4,
      "outputs": [
        {
          "output_type": "stream",
          "text": [
            "Enter number of elements:5\n",
            "Enter element:4\n",
            "Enter element:2\n",
            "Enter element:6\n",
            "Enter element:1\n",
            "Enter element:8\n",
            "Enter number of elements:5\n",
            "Enter element:1\n",
            "Enter element:5\n",
            "Enter element:3\n",
            "Enter element:9\n",
            "Enter element:0\n",
            "Sorted list is: [0, 1, 1, 2, 3, 4, 5, 6, 8, 9]\n"
          ],
          "name": "stdout"
        }
      ]
    },
    {
      "cell_type": "markdown",
      "metadata": {
        "id": "IPZZ_pRZxfxg",
        "colab_type": "text"
      },
      "source": [
        "Python Program to sort the list according to the second element in the sublist."
      ]
    },
    {
      "cell_type": "code",
      "metadata": {
        "id": "WdtOeSILxgFj",
        "colab_type": "code",
        "colab": {
          "base_uri": "https://localhost:8080/",
          "height": 34
        },
        "outputId": "2e6eb3c4-524e-4917-a229-974c85b5b8fe"
      },
      "source": [
        "a=[['A',34],['B',21],['C',26],['E',29]]\n",
        "for i in range(0,len(a)):\n",
        "  for j in range(i+1,len(a)):\n",
        "    if(a[i][1]>a[j][1]):\n",
        "      temp=a[j]\n",
        "      a[j]=a[i]\n",
        "      a[i]=temp\n",
        "print(a)"
      ],
      "execution_count": 5,
      "outputs": [
        {
          "output_type": "stream",
          "text": [
            "[['B', 21], ['C', 26], ['E', 29], ['A', 34]]\n"
          ],
          "name": "stdout"
        }
      ]
    },
    {
      "cell_type": "markdown",
      "metadata": {
        "id": "d6PcHEVPxsMT",
        "colab_type": "text"
      },
      "source": [
        "Python Program to find the second largest number in a list using bubble sort."
      ]
    },
    {
      "cell_type": "code",
      "metadata": {
        "id": "vSczYRmGxyeY",
        "colab_type": "code",
        "colab": {
          "base_uri": "https://localhost:8080/",
          "height": 101
        },
        "outputId": "e3ad5562-eb62-473a-8437-bb8502b0b8ab"
      },
      "source": [
        "a=[]\n",
        "n=int(input(\"Enter number of elements:\"))\n",
        "for i in range(1,n+1):\n",
        "  b=int(input(\"Enter element:\"))\n",
        "  a.append(b)\n",
        "for i in range(0,len(a)):\n",
        "  for j in range(0,len(a)-i-1):\n",
        "    if(a[j]>a[j+1]):\n",
        "      temp=a[j]\n",
        "      a[j]=a[j+1]\n",
        "      a[j+1]=temp \n",
        "print('Second largest number is:',a[n-2])"
      ],
      "execution_count": 6,
      "outputs": [
        {
          "output_type": "stream",
          "text": [
            "Enter number of elements:3\n",
            "Enter element:2\n",
            "Enter element:8\n",
            "Enter element:9\n",
            "Second largest number is: 8\n"
          ],
          "name": "stdout"
        }
      ]
    },
    {
      "cell_type": "code",
      "metadata": {
        "id": "jSDutLs1tKKw",
        "colab_type": "code",
        "colab": {
          "base_uri": "https://localhost:8080/",
          "height": 101
        },
        "outputId": "5973759d-4206-4af6-e344-a3b94f33581e"
      },
      "source": [
        "a=[]\n",
        "n=int(input(\"Enter number of elements:\"))\n",
        "for i in range(1,n+1):\n",
        "  b=int(input(\"Enter element:\"))\n",
        "  a.append(b)\n",
        "  a.sort()\n",
        "print(\"Largest element is:\",a[n-1])"
      ],
      "execution_count": 2,
      "outputs": [
        {
          "output_type": "stream",
          "text": [
            "Enter number of elements:3\n",
            "Enter element:1\n",
            "Enter element:2\n",
            "Enter element:3\n",
            "Largest element is: 3\n"
          ],
          "name": "stdout"
        }
      ]
    },
    {
      "cell_type": "markdown",
      "metadata": {
        "id": "bNW_RoEWx760",
        "colab_type": "text"
      },
      "source": [
        "Program to create a list of tuples with the first element as the number and the second element as the square of the number."
      ]
    },
    {
      "cell_type": "code",
      "metadata": {
        "id": "6SshkRXzx_Sb",
        "colab_type": "code",
        "colab": {
          "base_uri": "https://localhost:8080/",
          "height": 67
        },
        "outputId": "5de502bf-933c-488a-d131-56d26c3d8c29"
      },
      "source": [
        "l_range=int(input(\"Enter the lower range:\"))\n",
        "u_range=int(input(\"Enter the upper range:\"))\n",
        "a=[(x,x**2) for x in range(l_range,u_range+1)]\n",
        "print(a)"
      ],
      "execution_count": 7,
      "outputs": [
        {
          "output_type": "stream",
          "text": [
            "Enter the lower range:4\n",
            "Enter the upper range:8\n",
            "[(4, 16), (5, 25), (6, 36), (7, 49), (8, 64)]\n"
          ],
          "name": "stdout"
        }
      ]
    },
    {
      "cell_type": "markdown",
      "metadata": {
        "id": "weILyJSxyHxV",
        "colab_type": "text"
      },
      "source": [
        "Python Program to generate random numbers from 1 to 20 and append them to the list."
      ]
    },
    {
      "cell_type": "code",
      "metadata": {
        "id": "9-JG4kDuyI3p",
        "colab_type": "code",
        "colab": {
          "base_uri": "https://localhost:8080/",
          "height": 50
        },
        "outputId": "ffd46e23-ec80-4761-bb0d-2baac4e253ac"
      },
      "source": [
        "import random\n",
        "a=[]\n",
        "n=int(input(\"Enter number of elements:\"))\n",
        "for j in range(n):\n",
        "  a.append(random.randint(1,20))\n",
        "print('Randomised list is: ',a)"
      ],
      "execution_count": 8,
      "outputs": [
        {
          "output_type": "stream",
          "text": [
            "Enter number of elements:5\n",
            "Randomised list is:  [11, 19, 5, 11, 10]\n"
          ],
          "name": "stdout"
        }
      ]
    },
    {
      "cell_type": "markdown",
      "metadata": {
        "id": "1u99qSRr0D7b",
        "colab_type": "text"
      },
      "source": [
        "**Session-2 Program**"
      ]
    },
    {
      "cell_type": "markdown",
      "metadata": {
        "id": "Bz7wt-r22psK",
        "colab_type": "text"
      },
      "source": [
        "Add rollno and marks {name:mark} for n number of students through keyboard in a dictionary and print the marks in descending order with respective name."
      ]
    },
    {
      "cell_type": "code",
      "metadata": {
        "id": "tCNirELu2wly",
        "colab_type": "code",
        "colab": {
          "base_uri": "https://localhost:8080/",
          "height": 151
        },
        "outputId": "7386b165-e106-4180-ee15-4ae70fb40dad"
      },
      "source": [
        "import operator\n",
        "d={}\n",
        "n=int(input(\"Enter n: \"))\n",
        "for i in range(1,n+1):\n",
        "    name= input(\"Enter name %d: \"%(i))\n",
        "    mark=int(input(\"Enter mark %d: \"%(i)))\n",
        "    d[name]=mark\n",
        "sort_d= sorted(d.items(), key=operator.itemgetter(1),reverse=True)\n",
        "print (sort_d)"
      ],
      "execution_count": 10,
      "outputs": [
        {
          "output_type": "stream",
          "text": [
            "Enter n: 3\n",
            "Enter name 1: avin\n",
            "Enter mark 1: 50\n",
            "Enter name 2: seela\n",
            "Enter mark 2: 54\n",
            "Enter name 3: roshith\n",
            "Enter mark 3: 45\n",
            "[('seela', 54), ('avin', 50), ('roshith', 45)]\n"
          ],
          "name": "stdout"
        }
      ]
    },
    {
      "cell_type": "markdown",
      "metadata": {
        "id": "DpvK9w3X3UsS",
        "colab_type": "text"
      },
      "source": [
        "Add name and salary {name:salary} for n number of employees through keyboard in a dictionary and print them in name alphabetical order with salary\n",
        "\n"
      ]
    },
    {
      "cell_type": "code",
      "metadata": {
        "id": "nScwHUUR3bPS",
        "colab_type": "code",
        "colab": {
          "base_uri": "https://localhost:8080/",
          "height": 151
        },
        "outputId": "f11a7a0c-14d1-4ab4-a90b-1d77b6954d51"
      },
      "source": [
        "import operator\n",
        "d={}\n",
        "n=int(input(\"Enter n: \"))\n",
        "for i in range(1,n+1):\n",
        "    name= input(\"Enter name %d: \"%(i))\n",
        "    sal=int(input(\"Enter salary %d: \"%(i)))\n",
        "    d[name]=sal\n",
        "sort_d= sorted(d.items())\n",
        "print (sort_d)"
      ],
      "execution_count": 11,
      "outputs": [
        {
          "output_type": "stream",
          "text": [
            "Enter n: 3\n",
            "Enter name 1: navin\n",
            "Enter salary 1: 50000\n",
            "Enter name 2: rahul\n",
            "Enter salary 2: 55000\n",
            "Enter name 3: praveen\n",
            "Enter salary 3: 45000\n",
            "[('navin', 50000), ('praveen', 45000), ('rahul', 55000)]\n"
          ],
          "name": "stdout"
        }
      ]
    }
  ]
}