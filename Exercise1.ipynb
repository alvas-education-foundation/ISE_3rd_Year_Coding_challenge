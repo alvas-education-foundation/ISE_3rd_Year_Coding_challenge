{
  "nbformat": 4,
  "nbformat_minor": 0,
  "metadata": {
    "colab": {
      "name": "Exercise1.ipynb",
      "provenance": [],
      "collapsed_sections": [],
      "authorship_tag": "ABX9TyNzc3EXsYIdqq9Dd0Ozg9dQ",
      "include_colab_link": true
    },
    "kernelspec": {
      "name": "python3",
      "display_name": "Python 3"
    }
  },
  "cells": [
    {
      "cell_type": "markdown",
      "metadata": {
        "id": "view-in-github",
        "colab_type": "text"
      },
      "source": [
        "<a href=\"https://colab.research.google.com/github/alvas-education-foundation/ISE_3rd_Year_Coding_challenge/blob/ipy/Exercise1.ipynb\" target=\"_parent\"><img src=\"https://colab.research.google.com/assets/colab-badge.svg\" alt=\"Open In Colab\"/></a>"
      ]
    },
    {
      "cell_type": "markdown",
      "metadata": {
        "id": "CU_6XDOxIitM",
        "colab_type": "text"
      },
      "source": [
        "1.Find the compound interest for the given p,n,r  (formula : p(1+n*r/100)n )"
      ]
    },
    {
      "cell_type": "code",
      "metadata": {
        "id": "oMS0Nq_4InwJ",
        "colab_type": "code",
        "colab": {
          "base_uri": "https://localhost:8080/",
          "height": 84
        },
        "outputId": "35f8dd53-f989-45a1-f5a5-08fcafe5cb23"
      },
      "source": [
        "p=int(input())\n",
        "n=int(input())\n",
        "r=int(input())\n",
        "comp_in=p*(1+n*r/100)*n\n",
        "print(comp_in)"
      ],
      "execution_count": null,
      "outputs": [
        {
          "output_type": "stream",
          "text": [
            "10\n",
            "10\n",
            "10\n",
            "200.0\n"
          ],
          "name": "stdout"
        }
      ]
    },
    {
      "cell_type": "markdown",
      "metadata": {
        "id": "HH0lNLr0JjdP",
        "colab_type": "text"
      },
      "source": [
        "2.Convert centegrade to farenheit  ( f= 9/5*c+32)"
      ]
    },
    {
      "cell_type": "code",
      "metadata": {
        "id": "ng6Esl-vJnzg",
        "colab_type": "code",
        "colab": {
          "base_uri": "https://localhost:8080/",
          "height": 50
        },
        "outputId": "428ee34c-bd8a-455a-a1fd-141507d86efa"
      },
      "source": [
        "c=int(input())\n",
        "far=9/5*c+32\n",
        "print(far)"
      ],
      "execution_count": null,
      "outputs": [
        {
          "output_type": "stream",
          "text": [
            "32\n",
            "89.6\n"
          ],
          "name": "stdout"
        }
      ]
    },
    {
      "cell_type": "markdown",
      "metadata": {
        "id": "7zzaYh-FKAV5",
        "colab_type": "text"
      },
      "source": [
        "3.Find the greater of two nos "
      ]
    },
    {
      "cell_type": "code",
      "metadata": {
        "id": "Bfv3eFuIKBaw",
        "colab_type": "code",
        "colab": {
          "base_uri": "https://localhost:8080/",
          "height": 67
        },
        "outputId": "1de53dfa-db64-4544-9faf-9f5963a44484"
      },
      "source": [
        "in1=int(input())\n",
        "in2=int(input())\n",
        "if(in1>in2):\n",
        "  print(in1)\n",
        "else:\n",
        "  print(\"Greater is\",in2)"
      ],
      "execution_count": null,
      "outputs": [
        {
          "output_type": "stream",
          "text": [
            "10\n",
            "20\n",
            "Greater is 20\n"
          ],
          "name": "stdout"
        }
      ]
    },
    {
      "cell_type": "markdown",
      "metadata": {
        "id": "78EeRfAWKavI",
        "colab_type": "text"
      },
      "source": [
        "Write a program for finding surface areas of cylinder and cone (2*PI*r*r*h, 1/3*PI*r*r*h) using function"
      ]
    },
    {
      "cell_type": "code",
      "metadata": {
        "id": "-goHf3LDKchS",
        "colab_type": "code",
        "colab": {
          "base_uri": "https://localhost:8080/",
          "height": 67
        },
        "outputId": "eaaa325d-e51b-4d73-c970-f9dd2a991f99"
      },
      "source": [
        "def sur_area(r,h):\n",
        "  cyl=2*3.14*r*h\n",
        "  cone=1/3*3.14*r*h\n",
        "  print(\"Cylinder=%.3f  Cone=%.3f\"%(cyl,cone))\n",
        "r=float(input())\n",
        "h=float(input())\n",
        "sur_area(r,h)"
      ],
      "execution_count": null,
      "outputs": [
        {
          "output_type": "stream",
          "text": [
            "5.2\n",
            "3.6\n",
            "Cylinder=117.562  Cone=19.594\n"
          ],
          "name": "stdout"
        }
      ]
    },
    {
      "cell_type": "markdown",
      "metadata": {
        "id": "V5hF3KdBMJRZ",
        "colab_type": "text"
      },
      "source": [
        "5.Find the greatest of four nos ( using ‘and’ operator)   using function."
      ]
    },
    {
      "cell_type": "code",
      "metadata": {
        "id": "78jwBE2ZML75",
        "colab_type": "code",
        "colab": {
          "base_uri": "https://localhost:8080/",
          "height": 101
        },
        "outputId": "16012e26-ca63-41d4-fe15-2256fc28cb09"
      },
      "source": [
        "def greater(a,b,c,d):\n",
        "  if(a>b and a>c and a>d):\n",
        "    return a\n",
        "  elif(b>c and b>d):\n",
        "    return b\n",
        "  elif(c>d):\n",
        "    return c\n",
        "  else:\n",
        "    return d\n",
        "a=int(input())\n",
        "b=int(input())\n",
        "c=int(input())\n",
        "d=int(input())\n",
        "g=greater(a,b,c,d)\n",
        "print(g,\"is greatest\")"
      ],
      "execution_count": null,
      "outputs": [
        {
          "output_type": "stream",
          "text": [
            "5\n",
            "7\n",
            "2\n",
            "6\n",
            "7 is greatest\n"
          ],
          "name": "stdout"
        }
      ]
    },
    {
      "cell_type": "markdown",
      "metadata": {
        "id": "HjCRGuf7NWst",
        "colab_type": "text"
      },
      "source": [
        "6.Write a  menu program to perform the operations ( ODDorEven, Factorial, ODDNoUptoN, PrimeUptoN ) using functions for two nos with  menu choice\n"
      ]
    },
    {
      "cell_type": "code",
      "metadata": {
        "id": "trA2L_mjNYBL",
        "colab_type": "code",
        "colab": {
          "base_uri": "https://localhost:8080/",
          "height": 84
        },
        "outputId": "d1618581-4537-492b-a345-3961b5f753b0"
      },
      "source": [
        "def oddev(n1):\n",
        "  if(n1%2==0):\n",
        "    print(\"even\")\n",
        "  else:\n",
        "    print(\"odd\")\n",
        "def fact(n1):\n",
        "  if(n1==0 or n1==1):\n",
        "    print(1)\n",
        "  else:\n",
        "    f=1\n",
        "    for i in range(2,n1+1):\n",
        "      f=f*i;\n",
        "    print(f ,\"fact is\")\n",
        "def oddn(n1):\n",
        "  if(n1%2==0):\n",
        "    for i in range(1,n1+1,2):\n",
        "      print(i)\n",
        "  else:\n",
        "    for i in range(1,n1+2,2):\n",
        "      print(i)\n",
        "def prime(n1):\n",
        "  for i in range(2,n1+1):\n",
        "    j=2\n",
        "    for j in range(2,i):\n",
        "      if(i%j==0):\n",
        "        j=i\n",
        "        break;\n",
        "    if(j!=i):\n",
        "      print(i,end=\" \")   \n",
        "print(\"MENU\\n1.oddoreven 2.factorial 3.oddn 4.prime\")\n",
        "inp=int(input())\n",
        "if(inp==1):\n",
        "  n1=int(input())\n",
        "  oddev(n1)\n",
        "if(inp==2):\n",
        "  n1=int(input())\n",
        "  fact(n1)\n",
        "if(inp==3):\n",
        "  n1=int(input())\n",
        "  oddn(n1)\n",
        "if(inp==4):\n",
        "  n1=int(input())\n",
        "  prime(n1)"
      ],
      "execution_count": null,
      "outputs": [
        {
          "output_type": "stream",
          "text": [
            "MENU\n",
            "1.oddoreven 2.factorial 3.oddn 4.prime\n",
            "4\n",
            "10\n"
          ],
          "name": "stdout"
        }
      ]
    }
  ]
}