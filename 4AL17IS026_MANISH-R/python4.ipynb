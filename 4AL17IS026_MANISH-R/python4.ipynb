{
  "nbformat": 4,
  "nbformat_minor": 0,
  "metadata": {
    "colab": {
      "name": "Welcome To Colaboratory",
      "provenance": [],
      "collapsed_sections": [],
      "toc_visible": true,
      "include_colab_link": true
    },
    "kernelspec": {
      "display_name": "Python 3",
      "name": "python3"
    }
  },
  "cells": [
    {
      "cell_type": "markdown",
      "metadata": {
        "id": "view-in-github",
        "colab_type": "text"
      },
      "source": [
        "<a href=\"https://colab.research.google.com/github/alvas-education-foundation/ISE_3rd_Year_Coding_challenge/blob/master/4AL17IS026_MANISH-R/python4.ipynb\" target=\"_parent\"><img src=\"https://colab.research.google.com/assets/colab-badge.svg\" alt=\"Open In Colab\"/></a>"
      ]
    },
    {
      "cell_type": "code",
      "metadata": {
        "id": "dcWDw4GY2gve",
        "colab_type": "code",
        "colab": {}
      },
      "source": [
        "#Case study 1\n",
        "#Data Cleaning \n",
        "#SESSION 1"
      ],
      "execution_count": null,
      "outputs": []
    },
    {
      "cell_type": "code",
      "metadata": {
        "id": "qZHa3kq32irE",
        "colab_type": "code",
        "colab": {}
      },
      "source": [
        "import pandas as pd\n",
        "import numpy as np"
      ],
      "execution_count": null,
      "outputs": []
    },
    {
      "cell_type": "code",
      "metadata": {
        "id": "rHgVnyRN2miO",
        "colab_type": "code",
        "colab": {
          "base_uri": "https://localhost:8080/",
          "height": 54
        },
        "outputId": "b4ee9871-a0fa-46eb-c4dc-40e71e76758c"
      },
      "source": [
        "#Coding for importing csv files in Google colab\n",
        "# Read csv file property_data.csv into a pandas dataframe  \n",
        "from google.colab import drive \n",
        "drive.mount('/content/gdrive')"
      ],
      "execution_count": null,
      "outputs": [
        {
          "output_type": "stream",
          "text": [
            "Drive already mounted at /content/gdrive; to attempt to forcibly remount, call drive.mount(\"/content/gdrive\", force_remount=True).\n"
          ],
          "name": "stdout"
        }
      ]
    },
    {
      "cell_type": "code",
      "metadata": {
        "id": "bNrFurut6Qec",
        "colab_type": "code",
        "colab": {}
      },
      "source": [
        "import pandas as pd \n",
        "df=pd.read_csv('/content/property_data.csv')"
      ],
      "execution_count": null,
      "outputs": []
    },
    {
      "cell_type": "code",
      "metadata": {
        "id": "ZFHz1tQJ_j_Z",
        "colab_type": "code",
        "colab": {
          "base_uri": "https://localhost:8080/",
          "height": 185
        },
        "outputId": "36571cd0-41b2-4f86-9d03-62f7c04b3de4"
      },
      "source": [
        "print(df)"
      ],
      "execution_count": null,
      "outputs": [
        {
          "output_type": "stream",
          "text": [
            "   ST_NUM    ST_NAME NUM_ROOMS OWN_OCCUPIED\n",
            "0   104.0     LEXTON         2            Y\n",
            "1   197.0   BERKELEY         3            N\n",
            "2     NaN  WASHINTON         3            Y\n",
            "3   201.0    TREMONT       NaN            N\n",
            "4   203.0    TREMONT        na           12\n",
            "5   205.0    TREMONT        --            Y\n",
            "6     NaN      BLAZE         4          NaN\n",
            "7   213.0      BLAZE         5            N\n",
            "8   214.0      BLAZE         6            N\n"
          ],
          "name": "stdout"
        }
      ]
    },
    {
      "cell_type": "code",
      "metadata": {
        "id": "IskyWohl_soP",
        "colab_type": "code",
        "colab": {
          "base_uri": "https://localhost:8080/",
          "height": 689
        },
        "outputId": "111c9b3c-899d-4981-aae0-3a20c6f61745"
      },
      "source": [
        "print(df['ST_NUM']) \n",
        "print(df['ST_NUM'].isnull()) \n",
        "print(df['NUM_ROOMS']) \n",
        "print(df['NUM_ROOMS'].isnull())"
      ],
      "execution_count": null,
      "outputs": [
        {
          "output_type": "stream",
          "text": [
            "0    104.0\n",
            "1    197.0\n",
            "2      NaN\n",
            "3    201.0\n",
            "4    203.0\n",
            "5    205.0\n",
            "6      NaN\n",
            "7    213.0\n",
            "8    214.0\n",
            "Name: ST_NUM, dtype: float64\n",
            "0    False\n",
            "1    False\n",
            "2     True\n",
            "3    False\n",
            "4    False\n",
            "5    False\n",
            "6     True\n",
            "7    False\n",
            "8    False\n",
            "Name: ST_NUM, dtype: bool\n",
            "0      2\n",
            "1      3\n",
            "2      3\n",
            "3    NaN\n",
            "4     na\n",
            "5     --\n",
            "6      4\n",
            "7      5\n",
            "8      6\n",
            "Name: NUM_ROOMS, dtype: object\n",
            "0    False\n",
            "1    False\n",
            "2    False\n",
            "3     True\n",
            "4    False\n",
            "5    False\n",
            "6    False\n",
            "7    False\n",
            "8    False\n",
            "Name: NUM_ROOMS, dtype: bool\n"
          ],
          "name": "stdout"
        }
      ]
    },
    {
      "cell_type": "code",
      "metadata": {
        "id": "GJIAq6A8NOvl",
        "colab_type": "code",
        "colab": {
          "base_uri": "https://localhost:8080/",
          "height": 353
        },
        "outputId": "23f82de3-0b38-41ac-c33f-9dbb6803e209"
      },
      "source": [
        "print(df['NUM_ROOMS'])\n",
        "print(df['NUM_ROOMS'].isnull())"
      ],
      "execution_count": null,
      "outputs": [
        {
          "output_type": "stream",
          "text": [
            "0      2\n",
            "1      3\n",
            "2      3\n",
            "3    NaN\n",
            "4     na\n",
            "5     --\n",
            "6      4\n",
            "7      5\n",
            "8      6\n",
            "Name: NUM_ROOMS, dtype: object\n",
            "0    False\n",
            "1    False\n",
            "2    False\n",
            "3     True\n",
            "4    False\n",
            "5    False\n",
            "6    False\n",
            "7    False\n",
            "8    False\n",
            "Name: NUM_ROOMS, dtype: bool\n"
          ],
          "name": "stdout"
        }
      ]
    },
    {
      "cell_type": "code",
      "metadata": {
        "id": "vE5zm3FC_4Pd",
        "colab_type": "code",
        "colab": {
          "base_uri": "https://localhost:8080/",
          "height": 353
        },
        "outputId": "7eaf8113-9135-4e97-ad76-4de3de3e20df"
      },
      "source": [
        "# Detecting numbers and replace it with NaN of numpy \n",
        "cnt=0 \n",
        "for row in df['OWN_OCCUPIED']:\n",
        "    try:         \n",
        "      int(row)\n",
        "      df.loc[cnt, 'OWN_OCCUPIED']=np.nan \n",
        "    except ValueError:         \n",
        "       pass\n",
        "    cnt+=1 \n",
        "print(df['OWN_OCCUPIED']) \n",
        "print(df['OWN_OCCUPIED'].isnull())"
      ],
      "execution_count": null,
      "outputs": [
        {
          "output_type": "stream",
          "text": [
            "0      Y\n",
            "1      N\n",
            "2      Y\n",
            "3      N\n",
            "4    NaN\n",
            "5      Y\n",
            "6    NaN\n",
            "7      N\n",
            "8      N\n",
            "Name: OWN_OCCUPIED, dtype: object\n",
            "0    False\n",
            "1    False\n",
            "2    False\n",
            "3    False\n",
            "4     True\n",
            "5    False\n",
            "6     True\n",
            "7    False\n",
            "8    False\n",
            "Name: OWN_OCCUPIED, dtype: bool\n"
          ],
          "name": "stdout"
        }
      ]
    },
    {
      "cell_type": "code",
      "metadata": {
        "id": "_9g6G9JA_5Nf",
        "colab_type": "code",
        "colab": {
          "base_uri": "https://localhost:8080/",
          "height": 67
        },
        "outputId": "82cc2878-e6e6-43d0-b5b4-0104417bdae3"
      },
      "source": [
        "# Total missing values for each feature print(df.isnull().sum())\n",
        "print(sum(df.isnull().sum())) \n",
        "print('Total missing values') \n",
        "print(sum(df.isnull().sum()))"
      ],
      "execution_count": null,
      "outputs": [
        {
          "output_type": "stream",
          "text": [
            "4\n",
            "Total missing values\n",
            "4\n"
          ],
          "name": "stdout"
        }
      ]
    },
    {
      "cell_type": "code",
      "metadata": {
        "id": "2JKVl2xq__-L",
        "colab_type": "code",
        "colab": {
          "base_uri": "https://localhost:8080/",
          "height": 101
        },
        "outputId": "511dc89f-698e-4182-8a53-689cb48d4c85"
      },
      "source": [
        "print(df['ST_NUM'].isnull().sum())\n",
        "print(df['NUM_ROOMS'].isnull().sum())\n",
        "print(df['OWN_OCCUPIED'].isnull().sum())\n",
        "print(df.isnull().sum().sum()) \n",
        "print(df['ST_NAME'].isnull().sum())"
      ],
      "execution_count": null,
      "outputs": [
        {
          "output_type": "stream",
          "text": [
            "2\n",
            "1\n",
            "1\n",
            "4\n",
            "0\n"
          ],
          "name": "stdout"
        }
      ]
    },
    {
      "cell_type": "code",
      "metadata": {
        "id": "o8tTj4cVADDq",
        "colab_type": "code",
        "colab": {
          "base_uri": "https://localhost:8080/",
          "height": 34
        },
        "outputId": "63db3026-b08e-46b0-c1f2-0849a9f31cb1"
      },
      "source": [
        "print(df['ST_NUM'].isnull().sum()/9.0)"
      ],
      "execution_count": null,
      "outputs": [
        {
          "output_type": "stream",
          "text": [
            "0.2222222222222222\n"
          ],
          "name": "stdout"
        }
      ]
    },
    {
      "cell_type": "code",
      "metadata": {
        "id": "CjIC1gcpAFz-",
        "colab_type": "code",
        "colab": {
          "base_uri": "https://localhost:8080/",
          "height": 34
        },
        "outputId": "6e42f6c2-3fad-42ad-9dd0-ecde4381091a"
      },
      "source": [
        "print(df['ST_NAME'].isnull().sum()/9.0)"
      ],
      "execution_count": null,
      "outputs": [
        {
          "output_type": "stream",
          "text": [
            "0.0\n"
          ],
          "name": "stdout"
        }
      ]
    },
    {
      "cell_type": "code",
      "metadata": {
        "id": "EBg_h7L_AImV",
        "colab_type": "code",
        "colab": {}
      },
      "source": [
        "# error percentages are greater than 10% \n",
        "# Replace missing values with a number \n",
        "df['ST_NUM'].fillna(125,inplace=True)"
      ],
      "execution_count": null,
      "outputs": []
    },
    {
      "cell_type": "code",
      "metadata": {
        "id": "tpY1W7h0AMMa",
        "colab_type": "code",
        "colab": {
          "base_uri": "https://localhost:8080/",
          "height": 34
        },
        "outputId": "1532264f-bacd-465f-9ec8-8ede8bf81f9a"
      },
      "source": [
        "print('ST_NUM')"
      ],
      "execution_count": null,
      "outputs": [
        {
          "output_type": "stream",
          "text": [
            "ST_NUM\n"
          ],
          "name": "stdout"
        }
      ]
    },
    {
      "cell_type": "code",
      "metadata": {
        "id": "dOI0GiHVAO70",
        "colab_type": "code",
        "colab": {
          "base_uri": "https://localhost:8080/",
          "height": 185
        },
        "outputId": "f6307783-695d-47f6-d7f8-27a088c029ee"
      },
      "source": [
        "print(df['ST_NUM'])"
      ],
      "execution_count": null,
      "outputs": [
        {
          "output_type": "stream",
          "text": [
            "0    104.0\n",
            "1    197.0\n",
            "2      NaN\n",
            "3    201.0\n",
            "4    203.0\n",
            "5    205.0\n",
            "6      NaN\n",
            "7    213.0\n",
            "8    214.0\n",
            "Name: ST_NUM, dtype: float64\n"
          ],
          "name": "stdout"
        }
      ]
    },
    {
      "cell_type": "code",
      "metadata": {
        "id": "pX2IaqTZAfLF",
        "colab_type": "code",
        "colab": {}
      },
      "source": [
        "# Replace using median  \n",
        "median=df['NUM_ROOMS'].median() \n",
        "df['NUM_ROOMS'].fillna(median,inplace=True) \n",
        "print(df['NUM_ROOMS'])"
      ],
      "execution_count": null,
      "outputs": []
    },
    {
      "cell_type": "code",
      "metadata": {
        "id": "Xzbp_59tAWk1",
        "colab_type": "code",
        "colab": {
          "base_uri": "https://localhost:8080/",
          "height": 185
        },
        "outputId": "63d0935f-bbde-4600-ed45-60e250ba5cba"
      },
      "source": [
        "print(df)"
      ],
      "execution_count": null,
      "outputs": [
        {
          "output_type": "stream",
          "text": [
            "   ST_NUM    ST_NAME NUM_ROOMS OWN_OCCUPIED\n",
            "0   104.0     LEXTON         2            Y\n",
            "1   197.0   BERKELEY         3            N\n",
            "2     NaN  WASHINTON         3            Y\n",
            "3   201.0    TREMONT       NaN            N\n",
            "4   203.0    TREMONT        na           12\n",
            "5   205.0    TREMONT        --            Y\n",
            "6     NaN      BLAZE         4          NaN\n",
            "7   213.0      BLAZE         5            N\n",
            "8   214.0      BLAZE         6            N\n"
          ],
          "name": "stdout"
        }
      ]
    },
    {
      "cell_type": "code",
      "metadata": {
        "id": "8XKSD_8dAi-U",
        "colab_type": "code",
        "colab": {
          "base_uri": "https://localhost:8080/",
          "height": 34
        },
        "outputId": "94198702-75dc-4e1c-c38b-44df0d10f066"
      },
      "source": [
        "df['OWN_OCCUPIED'].value_counts().idxmax()"
      ],
      "execution_count": null,
      "outputs": [
        {
          "output_type": "execute_result",
          "data": {
            "text/plain": [
              "'N'"
            ]
          },
          "metadata": {
            "tags": []
          },
          "execution_count": 17
        }
      ]
    },
    {
      "cell_type": "code",
      "metadata": {
        "id": "UR2fhmMmA9FJ",
        "colab_type": "code",
        "colab": {
          "base_uri": "https://localhost:8080/",
          "height": 314
        },
        "outputId": "3056b32c-059d-463a-b365-a74bd33bab0a"
      },
      "source": [
        "df"
      ],
      "execution_count": null,
      "outputs": [
        {
          "output_type": "execute_result",
          "data": {
            "text/html": [
              "<div>\n",
              "<style scoped>\n",
              "    .dataframe tbody tr th:only-of-type {\n",
              "        vertical-align: middle;\n",
              "    }\n",
              "\n",
              "    .dataframe tbody tr th {\n",
              "        vertical-align: top;\n",
              "    }\n",
              "\n",
              "    .dataframe thead th {\n",
              "        text-align: right;\n",
              "    }\n",
              "</style>\n",
              "<table border=\"1\" class=\"dataframe\">\n",
              "  <thead>\n",
              "    <tr style=\"text-align: right;\">\n",
              "      <th></th>\n",
              "      <th>ST_NUM</th>\n",
              "      <th>ST_NAME</th>\n",
              "      <th>NUM_ROOMS</th>\n",
              "      <th>OWN_OCCUPIED</th>\n",
              "    </tr>\n",
              "  </thead>\n",
              "  <tbody>\n",
              "    <tr>\n",
              "      <th>0</th>\n",
              "      <td>104.0</td>\n",
              "      <td>LEXTON</td>\n",
              "      <td>2</td>\n",
              "      <td>Y</td>\n",
              "    </tr>\n",
              "    <tr>\n",
              "      <th>1</th>\n",
              "      <td>197.0</td>\n",
              "      <td>BERKELEY</td>\n",
              "      <td>3</td>\n",
              "      <td>N</td>\n",
              "    </tr>\n",
              "    <tr>\n",
              "      <th>2</th>\n",
              "      <td>NaN</td>\n",
              "      <td>WASHINTON</td>\n",
              "      <td>3</td>\n",
              "      <td>Y</td>\n",
              "    </tr>\n",
              "    <tr>\n",
              "      <th>3</th>\n",
              "      <td>201.0</td>\n",
              "      <td>TREMONT</td>\n",
              "      <td>NaN</td>\n",
              "      <td>N</td>\n",
              "    </tr>\n",
              "    <tr>\n",
              "      <th>4</th>\n",
              "      <td>203.0</td>\n",
              "      <td>TREMONT</td>\n",
              "      <td>na</td>\n",
              "      <td>12</td>\n",
              "    </tr>\n",
              "    <tr>\n",
              "      <th>5</th>\n",
              "      <td>205.0</td>\n",
              "      <td>TREMONT</td>\n",
              "      <td>--</td>\n",
              "      <td>Y</td>\n",
              "    </tr>\n",
              "    <tr>\n",
              "      <th>6</th>\n",
              "      <td>NaN</td>\n",
              "      <td>BLAZE</td>\n",
              "      <td>4</td>\n",
              "      <td>NaN</td>\n",
              "    </tr>\n",
              "    <tr>\n",
              "      <th>7</th>\n",
              "      <td>213.0</td>\n",
              "      <td>BLAZE</td>\n",
              "      <td>5</td>\n",
              "      <td>N</td>\n",
              "    </tr>\n",
              "    <tr>\n",
              "      <th>8</th>\n",
              "      <td>214.0</td>\n",
              "      <td>BLAZE</td>\n",
              "      <td>6</td>\n",
              "      <td>N</td>\n",
              "    </tr>\n",
              "  </tbody>\n",
              "</table>\n",
              "</div>"
            ],
            "text/plain": [
              "   ST_NUM    ST_NAME NUM_ROOMS OWN_OCCUPIED\n",
              "0   104.0     LEXTON         2            Y\n",
              "1   197.0   BERKELEY         3            N\n",
              "2     NaN  WASHINTON         3            Y\n",
              "3   201.0    TREMONT       NaN            N\n",
              "4   203.0    TREMONT        na           12\n",
              "5   205.0    TREMONT        --            Y\n",
              "6     NaN      BLAZE         4          NaN\n",
              "7   213.0      BLAZE         5            N\n",
              "8   214.0      BLAZE         6            N"
            ]
          },
          "metadata": {
            "tags": []
          },
          "execution_count": 18
        }
      ]
    },
    {
      "cell_type": "code",
      "metadata": {
        "id": "RzYkHofYBTR_",
        "colab_type": "code",
        "colab": {
          "base_uri": "https://localhost:8080/",
          "height": 84
        },
        "outputId": "09308335-3f59-49f6-f9c1-fb5468056d2b"
      },
      "source": [
        "df['OWN_OCCUPIED'].value_counts()"
      ],
      "execution_count": null,
      "outputs": [
        {
          "output_type": "execute_result",
          "data": {
            "text/plain": [
              "N     4\n",
              "Y     3\n",
              "12    1\n",
              "Name: OWN_OCCUPIED, dtype: int64"
            ]
          },
          "metadata": {
            "tags": []
          },
          "execution_count": 19
        }
      ]
    },
    {
      "cell_type": "code",
      "metadata": {
        "id": "SRIczZA7BiKr",
        "colab_type": "code",
        "colab": {
          "base_uri": "https://localhost:8080/",
          "height": 185
        },
        "outputId": "94c5dd98-e78f-4c4c-e008-1345441528d9"
      },
      "source": [
        "df['ST_NUM'].fillna(125)"
      ],
      "execution_count": null,
      "outputs": [
        {
          "output_type": "execute_result",
          "data": {
            "text/plain": [
              "0    104.0\n",
              "1    197.0\n",
              "2    125.0\n",
              "3    201.0\n",
              "4    203.0\n",
              "5    205.0\n",
              "6    125.0\n",
              "7    213.0\n",
              "8    214.0\n",
              "Name: ST_NUM, dtype: float64"
            ]
          },
          "metadata": {
            "tags": []
          },
          "execution_count": 20
        }
      ]
    },
    {
      "cell_type": "code",
      "metadata": {
        "id": "f34Mz6fGBmFe",
        "colab_type": "code",
        "colab": {
          "base_uri": "https://localhost:8080/",
          "height": 314
        },
        "outputId": "0a8651f3-b8bd-48a1-e780-5577716fcefa"
      },
      "source": [
        "df"
      ],
      "execution_count": null,
      "outputs": [
        {
          "output_type": "execute_result",
          "data": {
            "text/html": [
              "<div>\n",
              "<style scoped>\n",
              "    .dataframe tbody tr th:only-of-type {\n",
              "        vertical-align: middle;\n",
              "    }\n",
              "\n",
              "    .dataframe tbody tr th {\n",
              "        vertical-align: top;\n",
              "    }\n",
              "\n",
              "    .dataframe thead th {\n",
              "        text-align: right;\n",
              "    }\n",
              "</style>\n",
              "<table border=\"1\" class=\"dataframe\">\n",
              "  <thead>\n",
              "    <tr style=\"text-align: right;\">\n",
              "      <th></th>\n",
              "      <th>ST_NUM</th>\n",
              "      <th>ST_NAME</th>\n",
              "      <th>NUM_ROOMS</th>\n",
              "      <th>OWN_OCCUPIED</th>\n",
              "    </tr>\n",
              "  </thead>\n",
              "  <tbody>\n",
              "    <tr>\n",
              "      <th>0</th>\n",
              "      <td>104.0</td>\n",
              "      <td>LEXTON</td>\n",
              "      <td>2</td>\n",
              "      <td>Y</td>\n",
              "    </tr>\n",
              "    <tr>\n",
              "      <th>1</th>\n",
              "      <td>197.0</td>\n",
              "      <td>BERKELEY</td>\n",
              "      <td>3</td>\n",
              "      <td>N</td>\n",
              "    </tr>\n",
              "    <tr>\n",
              "      <th>2</th>\n",
              "      <td>NaN</td>\n",
              "      <td>WASHINTON</td>\n",
              "      <td>3</td>\n",
              "      <td>Y</td>\n",
              "    </tr>\n",
              "    <tr>\n",
              "      <th>3</th>\n",
              "      <td>201.0</td>\n",
              "      <td>TREMONT</td>\n",
              "      <td>NaN</td>\n",
              "      <td>N</td>\n",
              "    </tr>\n",
              "    <tr>\n",
              "      <th>4</th>\n",
              "      <td>203.0</td>\n",
              "      <td>TREMONT</td>\n",
              "      <td>na</td>\n",
              "      <td>12</td>\n",
              "    </tr>\n",
              "    <tr>\n",
              "      <th>5</th>\n",
              "      <td>205.0</td>\n",
              "      <td>TREMONT</td>\n",
              "      <td>--</td>\n",
              "      <td>Y</td>\n",
              "    </tr>\n",
              "    <tr>\n",
              "      <th>6</th>\n",
              "      <td>NaN</td>\n",
              "      <td>BLAZE</td>\n",
              "      <td>4</td>\n",
              "      <td>NaN</td>\n",
              "    </tr>\n",
              "    <tr>\n",
              "      <th>7</th>\n",
              "      <td>213.0</td>\n",
              "      <td>BLAZE</td>\n",
              "      <td>5</td>\n",
              "      <td>N</td>\n",
              "    </tr>\n",
              "    <tr>\n",
              "      <th>8</th>\n",
              "      <td>214.0</td>\n",
              "      <td>BLAZE</td>\n",
              "      <td>6</td>\n",
              "      <td>N</td>\n",
              "    </tr>\n",
              "  </tbody>\n",
              "</table>\n",
              "</div>"
            ],
            "text/plain": [
              "   ST_NUM    ST_NAME NUM_ROOMS OWN_OCCUPIED\n",
              "0   104.0     LEXTON         2            Y\n",
              "1   197.0   BERKELEY         3            N\n",
              "2     NaN  WASHINTON         3            Y\n",
              "3   201.0    TREMONT       NaN            N\n",
              "4   203.0    TREMONT        na           12\n",
              "5   205.0    TREMONT        --            Y\n",
              "6     NaN      BLAZE         4          NaN\n",
              "7   213.0      BLAZE         5            N\n",
              "8   214.0      BLAZE         6            N"
            ]
          },
          "metadata": {
            "tags": []
          },
          "execution_count": 21
        }
      ]
    },
    {
      "cell_type": "code",
      "metadata": {
        "id": "fsWm1zuDB2H3",
        "colab_type": "code",
        "colab": {}
      },
      "source": [
        "#Data Munging, Manipulation, Exploratory analysis using Pandas\n",
        "#SESSION 2\n",
        "from google.colab import drive \n",
        "drive.mount('/content/gdrive')"
      ],
      "execution_count": null,
      "outputs": []
    },
    {
      "cell_type": "markdown",
      "metadata": {
        "id": "XcvtoLH5B-ou",
        "colab_type": "text"
      },
      "source": [
        "Drive already mounted at /content/gdrive; to attempt to forcibly remount, call drive.mount(\"/content/gdrive\", force_remount=True)."
      ]
    },
    {
      "cell_type": "code",
      "metadata": {
        "id": "njeCAKHJCBAo",
        "colab_type": "code",
        "colab": {}
      },
      "source": [
        "import pandas as pd \n",
        "df=pd.read_csv('/content/loan.csv')"
      ],
      "execution_count": null,
      "outputs": []
    },
    {
      "cell_type": "code",
      "metadata": {
        "id": "zar5sdrHColY",
        "colab_type": "code",
        "colab": {
          "base_uri": "https://localhost:8080/",
          "height": 252
        },
        "outputId": "3c33b89e-d320-4dfd-8c7f-177e1577289f"
      },
      "source": [
        "print(df)"
      ],
      "execution_count": null,
      "outputs": [
        {
          "output_type": "stream",
          "text": [
            "      Loan_ID Gender Married  ... Loan_Amount_Term Credit_History Property_Area\n",
            "0    LP001015   Male     Yes  ...            360.0            1.0         Urban\n",
            "1    LP001022   Male     Yes  ...            360.0            1.0         Urban\n",
            "2    LP001031   Male     Yes  ...            360.0            1.0         Urban\n",
            "3    LP001035   Male     Yes  ...            360.0            NaN         Urban\n",
            "4    LP001051   Male      No  ...            360.0            1.0         Urban\n",
            "..        ...    ...     ...  ...              ...            ...           ...\n",
            "362  LP002971   Male     Yes  ...            360.0            1.0         Urban\n",
            "363  LP002975   Male     Yes  ...            360.0            1.0         Urban\n",
            "364  LP002980   Male      No  ...            360.0            NaN     Semiurban\n",
            "365  LP002986   Male     Yes  ...            360.0            1.0         Rural\n",
            "366  LP002989   Male      No  ...            180.0            1.0         Rural\n",
            "\n",
            "[367 rows x 12 columns]\n"
          ],
          "name": "stdout"
        }
      ]
    },
    {
      "cell_type": "code",
      "metadata": {
        "id": "ac9nVOfHDJ3l",
        "colab_type": "code",
        "colab": {
          "base_uri": "https://localhost:8080/",
          "height": 447
        },
        "outputId": "0fb83788-2a09-41bc-e4df-823d244db5a3"
      },
      "source": [
        "df.head(10)"
      ],
      "execution_count": null,
      "outputs": [
        {
          "output_type": "execute_result",
          "data": {
            "text/html": [
              "<div>\n",
              "<style scoped>\n",
              "    .dataframe tbody tr th:only-of-type {\n",
              "        vertical-align: middle;\n",
              "    }\n",
              "\n",
              "    .dataframe tbody tr th {\n",
              "        vertical-align: top;\n",
              "    }\n",
              "\n",
              "    .dataframe thead th {\n",
              "        text-align: right;\n",
              "    }\n",
              "</style>\n",
              "<table border=\"1\" class=\"dataframe\">\n",
              "  <thead>\n",
              "    <tr style=\"text-align: right;\">\n",
              "      <th></th>\n",
              "      <th>Loan_ID</th>\n",
              "      <th>Gender</th>\n",
              "      <th>Married</th>\n",
              "      <th>Dependents</th>\n",
              "      <th>Education</th>\n",
              "      <th>Self_Employed</th>\n",
              "      <th>ApplicantIncome</th>\n",
              "      <th>CoapplicantIncome</th>\n",
              "      <th>LoanAmount</th>\n",
              "      <th>Loan_Amount_Term</th>\n",
              "      <th>Credit_History</th>\n",
              "      <th>Property_Area</th>\n",
              "    </tr>\n",
              "  </thead>\n",
              "  <tbody>\n",
              "    <tr>\n",
              "      <th>0</th>\n",
              "      <td>LP001015</td>\n",
              "      <td>Male</td>\n",
              "      <td>Yes</td>\n",
              "      <td>0</td>\n",
              "      <td>Graduate</td>\n",
              "      <td>No</td>\n",
              "      <td>5720</td>\n",
              "      <td>0</td>\n",
              "      <td>110.0</td>\n",
              "      <td>360.0</td>\n",
              "      <td>1.0</td>\n",
              "      <td>Urban</td>\n",
              "    </tr>\n",
              "    <tr>\n",
              "      <th>1</th>\n",
              "      <td>LP001022</td>\n",
              "      <td>Male</td>\n",
              "      <td>Yes</td>\n",
              "      <td>1</td>\n",
              "      <td>Graduate</td>\n",
              "      <td>No</td>\n",
              "      <td>3076</td>\n",
              "      <td>1500</td>\n",
              "      <td>126.0</td>\n",
              "      <td>360.0</td>\n",
              "      <td>1.0</td>\n",
              "      <td>Urban</td>\n",
              "    </tr>\n",
              "    <tr>\n",
              "      <th>2</th>\n",
              "      <td>LP001031</td>\n",
              "      <td>Male</td>\n",
              "      <td>Yes</td>\n",
              "      <td>2</td>\n",
              "      <td>Graduate</td>\n",
              "      <td>No</td>\n",
              "      <td>5000</td>\n",
              "      <td>1800</td>\n",
              "      <td>208.0</td>\n",
              "      <td>360.0</td>\n",
              "      <td>1.0</td>\n",
              "      <td>Urban</td>\n",
              "    </tr>\n",
              "    <tr>\n",
              "      <th>3</th>\n",
              "      <td>LP001035</td>\n",
              "      <td>Male</td>\n",
              "      <td>Yes</td>\n",
              "      <td>2</td>\n",
              "      <td>Graduate</td>\n",
              "      <td>No</td>\n",
              "      <td>2340</td>\n",
              "      <td>2546</td>\n",
              "      <td>100.0</td>\n",
              "      <td>360.0</td>\n",
              "      <td>NaN</td>\n",
              "      <td>Urban</td>\n",
              "    </tr>\n",
              "    <tr>\n",
              "      <th>4</th>\n",
              "      <td>LP001051</td>\n",
              "      <td>Male</td>\n",
              "      <td>No</td>\n",
              "      <td>0</td>\n",
              "      <td>Not Graduate</td>\n",
              "      <td>No</td>\n",
              "      <td>3276</td>\n",
              "      <td>0</td>\n",
              "      <td>78.0</td>\n",
              "      <td>360.0</td>\n",
              "      <td>1.0</td>\n",
              "      <td>Urban</td>\n",
              "    </tr>\n",
              "    <tr>\n",
              "      <th>5</th>\n",
              "      <td>LP001054</td>\n",
              "      <td>Male</td>\n",
              "      <td>Yes</td>\n",
              "      <td>0</td>\n",
              "      <td>Not Graduate</td>\n",
              "      <td>Yes</td>\n",
              "      <td>2165</td>\n",
              "      <td>3422</td>\n",
              "      <td>152.0</td>\n",
              "      <td>360.0</td>\n",
              "      <td>1.0</td>\n",
              "      <td>Urban</td>\n",
              "    </tr>\n",
              "    <tr>\n",
              "      <th>6</th>\n",
              "      <td>LP001055</td>\n",
              "      <td>Female</td>\n",
              "      <td>No</td>\n",
              "      <td>1</td>\n",
              "      <td>Not Graduate</td>\n",
              "      <td>No</td>\n",
              "      <td>2226</td>\n",
              "      <td>0</td>\n",
              "      <td>59.0</td>\n",
              "      <td>360.0</td>\n",
              "      <td>1.0</td>\n",
              "      <td>Semiurban</td>\n",
              "    </tr>\n",
              "    <tr>\n",
              "      <th>7</th>\n",
              "      <td>LP001056</td>\n",
              "      <td>Male</td>\n",
              "      <td>Yes</td>\n",
              "      <td>2</td>\n",
              "      <td>Not Graduate</td>\n",
              "      <td>No</td>\n",
              "      <td>3881</td>\n",
              "      <td>0</td>\n",
              "      <td>147.0</td>\n",
              "      <td>360.0</td>\n",
              "      <td>0.0</td>\n",
              "      <td>Rural</td>\n",
              "    </tr>\n",
              "    <tr>\n",
              "      <th>8</th>\n",
              "      <td>LP001059</td>\n",
              "      <td>Male</td>\n",
              "      <td>Yes</td>\n",
              "      <td>2</td>\n",
              "      <td>Graduate</td>\n",
              "      <td>NaN</td>\n",
              "      <td>13633</td>\n",
              "      <td>0</td>\n",
              "      <td>280.0</td>\n",
              "      <td>240.0</td>\n",
              "      <td>1.0</td>\n",
              "      <td>Urban</td>\n",
              "    </tr>\n",
              "    <tr>\n",
              "      <th>9</th>\n",
              "      <td>LP001067</td>\n",
              "      <td>Male</td>\n",
              "      <td>No</td>\n",
              "      <td>0</td>\n",
              "      <td>Not Graduate</td>\n",
              "      <td>No</td>\n",
              "      <td>2400</td>\n",
              "      <td>2400</td>\n",
              "      <td>123.0</td>\n",
              "      <td>360.0</td>\n",
              "      <td>1.0</td>\n",
              "      <td>Semiurban</td>\n",
              "    </tr>\n",
              "  </tbody>\n",
              "</table>\n",
              "</div>"
            ],
            "text/plain": [
              "    Loan_ID  Gender Married  ... Loan_Amount_Term Credit_History Property_Area\n",
              "0  LP001015    Male     Yes  ...            360.0            1.0         Urban\n",
              "1  LP001022    Male     Yes  ...            360.0            1.0         Urban\n",
              "2  LP001031    Male     Yes  ...            360.0            1.0         Urban\n",
              "3  LP001035    Male     Yes  ...            360.0            NaN         Urban\n",
              "4  LP001051    Male      No  ...            360.0            1.0         Urban\n",
              "5  LP001054    Male     Yes  ...            360.0            1.0         Urban\n",
              "6  LP001055  Female      No  ...            360.0            1.0     Semiurban\n",
              "7  LP001056    Male     Yes  ...            360.0            0.0         Rural\n",
              "8  LP001059    Male     Yes  ...            240.0            1.0         Urban\n",
              "9  LP001067    Male      No  ...            360.0            1.0     Semiurban\n",
              "\n",
              "[10 rows x 12 columns]"
            ]
          },
          "metadata": {
            "tags": []
          },
          "execution_count": 29
        }
      ]
    },
    {
      "cell_type": "code",
      "metadata": {
        "id": "QMSacXknDPLe",
        "colab_type": "code",
        "colab": {
          "base_uri": "https://localhost:8080/",
          "height": 304
        },
        "outputId": "1c03fc7b-a8fb-48b8-c0cf-c0c0e704d04b"
      },
      "source": [
        "df.describe()"
      ],
      "execution_count": null,
      "outputs": [
        {
          "output_type": "execute_result",
          "data": {
            "text/html": [
              "<div>\n",
              "<style scoped>\n",
              "    .dataframe tbody tr th:only-of-type {\n",
              "        vertical-align: middle;\n",
              "    }\n",
              "\n",
              "    .dataframe tbody tr th {\n",
              "        vertical-align: top;\n",
              "    }\n",
              "\n",
              "    .dataframe thead th {\n",
              "        text-align: right;\n",
              "    }\n",
              "</style>\n",
              "<table border=\"1\" class=\"dataframe\">\n",
              "  <thead>\n",
              "    <tr style=\"text-align: right;\">\n",
              "      <th></th>\n",
              "      <th>ApplicantIncome</th>\n",
              "      <th>CoapplicantIncome</th>\n",
              "      <th>LoanAmount</th>\n",
              "      <th>Loan_Amount_Term</th>\n",
              "      <th>Credit_History</th>\n",
              "    </tr>\n",
              "  </thead>\n",
              "  <tbody>\n",
              "    <tr>\n",
              "      <th>count</th>\n",
              "      <td>367.000000</td>\n",
              "      <td>367.000000</td>\n",
              "      <td>362.000000</td>\n",
              "      <td>361.000000</td>\n",
              "      <td>338.000000</td>\n",
              "    </tr>\n",
              "    <tr>\n",
              "      <th>mean</th>\n",
              "      <td>4805.599455</td>\n",
              "      <td>1569.577657</td>\n",
              "      <td>136.132597</td>\n",
              "      <td>342.537396</td>\n",
              "      <td>0.825444</td>\n",
              "    </tr>\n",
              "    <tr>\n",
              "      <th>std</th>\n",
              "      <td>4910.685399</td>\n",
              "      <td>2334.232099</td>\n",
              "      <td>61.366652</td>\n",
              "      <td>65.156643</td>\n",
              "      <td>0.380150</td>\n",
              "    </tr>\n",
              "    <tr>\n",
              "      <th>min</th>\n",
              "      <td>0.000000</td>\n",
              "      <td>0.000000</td>\n",
              "      <td>28.000000</td>\n",
              "      <td>6.000000</td>\n",
              "      <td>0.000000</td>\n",
              "    </tr>\n",
              "    <tr>\n",
              "      <th>25%</th>\n",
              "      <td>2864.000000</td>\n",
              "      <td>0.000000</td>\n",
              "      <td>100.250000</td>\n",
              "      <td>360.000000</td>\n",
              "      <td>1.000000</td>\n",
              "    </tr>\n",
              "    <tr>\n",
              "      <th>50%</th>\n",
              "      <td>3786.000000</td>\n",
              "      <td>1025.000000</td>\n",
              "      <td>125.000000</td>\n",
              "      <td>360.000000</td>\n",
              "      <td>1.000000</td>\n",
              "    </tr>\n",
              "    <tr>\n",
              "      <th>75%</th>\n",
              "      <td>5060.000000</td>\n",
              "      <td>2430.500000</td>\n",
              "      <td>158.000000</td>\n",
              "      <td>360.000000</td>\n",
              "      <td>1.000000</td>\n",
              "    </tr>\n",
              "    <tr>\n",
              "      <th>max</th>\n",
              "      <td>72529.000000</td>\n",
              "      <td>24000.000000</td>\n",
              "      <td>550.000000</td>\n",
              "      <td>480.000000</td>\n",
              "      <td>1.000000</td>\n",
              "    </tr>\n",
              "  </tbody>\n",
              "</table>\n",
              "</div>"
            ],
            "text/plain": [
              "       ApplicantIncome  CoapplicantIncome  ...  Loan_Amount_Term  Credit_History\n",
              "count       367.000000         367.000000  ...        361.000000      338.000000\n",
              "mean       4805.599455        1569.577657  ...        342.537396        0.825444\n",
              "std        4910.685399        2334.232099  ...         65.156643        0.380150\n",
              "min           0.000000           0.000000  ...          6.000000        0.000000\n",
              "25%        2864.000000           0.000000  ...        360.000000        1.000000\n",
              "50%        3786.000000        1025.000000  ...        360.000000        1.000000\n",
              "75%        5060.000000        2430.500000  ...        360.000000        1.000000\n",
              "max       72529.000000       24000.000000  ...        480.000000        1.000000\n",
              "\n",
              "[8 rows x 5 columns]"
            ]
          },
          "metadata": {
            "tags": []
          },
          "execution_count": 30
        }
      ]
    },
    {
      "cell_type": "code",
      "metadata": {
        "id": "ZYLe9uf-DT6T",
        "colab_type": "code",
        "colab": {
          "base_uri": "https://localhost:8080/",
          "height": 282
        },
        "outputId": "027dcf97-c4a1-47c6-c4a6-087db18b9f48"
      },
      "source": [
        "df['ApplicantIncome'].hist(bins=50)"
      ],
      "execution_count": null,
      "outputs": [
        {
          "output_type": "execute_result",
          "data": {
            "text/plain": [
              "<matplotlib.axes._subplots.AxesSubplot at 0x7f28b86da2b0>"
            ]
          },
          "metadata": {
            "tags": []
          },
          "execution_count": 31
        },
        {
          "output_type": "display_data",
          "data": {
            "image/png": "[encoded data removed]",
            "text/plain": [
              "<Figure size 432x288 with 1 Axes>"
            ]
          },
          "metadata": {
            "tags": [],
            "needs_background": "light"
          }
        }
      ]
    },
    {
      "cell_type": "code",
      "metadata": {
        "id": "JGuYUAs7DX_y",
        "colab_type": "code",
        "colab": {
          "base_uri": "https://localhost:8080/",
          "height": 282
        },
        "outputId": "a9e024bc-aaed-432f-96d3-20d2e2c12210"
      },
      "source": [
        "df.boxplot(column='ApplicantIncome')"
      ],
      "execution_count": null,
      "outputs": [
        {
          "output_type": "execute_result",
          "data": {
            "text/plain": [
              "<matplotlib.axes._subplots.AxesSubplot at 0x7f28b8705e10>"
            ]
          },
          "metadata": {
            "tags": []
          },
          "execution_count": 32
        },
        {
          "output_type": "display_data",
          "data": {
            "image/png": "[encoded data removed]",
            "text/plain": [
              "<Figure size 432x288 with 1 Axes>"
            ]
          },
          "metadata": {
            "tags": [],
            "needs_background": "light"
          }
        }
      ]
    },
    {
      "cell_type": "code",
      "metadata": {
        "id": "CdNjzQx1Dao-",
        "colab_type": "code",
        "colab": {
          "base_uri": "https://localhost:8080/",
          "height": 318
        },
        "outputId": "d0efdce6-7949-4696-e7c6-1306c83ce366"
      },
      "source": [
        "df.boxplot(column='ApplicantIncome',by='Gender')"
      ],
      "execution_count": null,
      "outputs": [
        {
          "output_type": "execute_result",
          "data": {
            "text/plain": [
              "<matplotlib.axes._subplots.AxesSubplot at 0x7f28b80b13c8>"
            ]
          },
          "metadata": {
            "tags": []
          },
          "execution_count": 33
        },
        {
          "output_type": "display_data",
          "data": {
            "image/png": "[encoded data removed]",
            "text/plain": [
              "<Figure size 432x288 with 1 Axes>"
            ]
          },
          "metadata": {
            "tags": [],
            "needs_background": "light"
          }
        }
      ]
    },
    {
      "cell_type": "code",
      "metadata": {
        "id": "bOBIaFdlDe-E",
        "colab_type": "code",
        "colab": {
          "base_uri": "https://localhost:8080/",
          "height": 318
        },
        "outputId": "232c87b1-4222-4d9f-b0ab-35be8d95c710"
      },
      "source": [
        "df.boxplot(column='ApplicantIncome',by='Education')"
      ],
      "execution_count": null,
      "outputs": [
        {
          "output_type": "execute_result",
          "data": {
            "text/plain": [
              "<matplotlib.axes._subplots.AxesSubplot at 0x7f28b8049470>"
            ]
          },
          "metadata": {
            "tags": []
          },
          "execution_count": 34
        },
        {
          "output_type": "display_data",
          "data": {
            "image/png": "[encoded data removed]",
            "text/plain": [
              "<Figure size 432x288 with 1 Axes>"
            ]
          },
          "metadata": {
            "tags": [],
            "needs_background": "light"
          }
        }
      ]
    },
    {
      "cell_type": "code",
      "metadata": {
        "id": "9_8Ub8VCDjd7",
        "colab_type": "code",
        "colab": {
          "base_uri": "https://localhost:8080/",
          "height": 282
        },
        "outputId": "102b19c8-4974-4ab8-d5c4-a42455459d0c"
      },
      "source": [
        "df['LoanAmount'].hist(bins=50)"
      ],
      "execution_count": null,
      "outputs": [
        {
          "output_type": "execute_result",
          "data": {
            "text/plain": [
              "<matplotlib.axes._subplots.AxesSubplot at 0x7f28b7fd22b0>"
            ]
          },
          "metadata": {
            "tags": []
          },
          "execution_count": 35
        },
        {
          "output_type": "display_data",
          "data": {
            "image/png": "[encoded data removed]",
            "text/plain": [
              "<Figure size 432x288 with 1 Axes>"
            ]
          },
          "metadata": {
            "tags": [],
            "needs_background": "light"
          }
        }
      ]
    },
    {
      "cell_type": "code",
      "metadata": {
        "id": "lftAJ9MjDmEQ",
        "colab_type": "code",
        "colab": {
          "base_uri": "https://localhost:8080/",
          "height": 286
        },
        "outputId": "d4f001e3-0869-4e65-92dd-a7bccfa2da27"
      },
      "source": [
        "df['Gender'].hist(bins=50)"
      ],
      "execution_count": null,
      "outputs": [
        {
          "output_type": "execute_result",
          "data": {
            "text/plain": [
              "<matplotlib.axes._subplots.AxesSubplot at 0x7f28b7ec6278>"
            ]
          },
          "metadata": {
            "tags": []
          },
          "execution_count": 36
        },
        {
          "output_type": "display_data",
          "data": {
            "image/png": "[encoded data removed]",
            "text/plain": [
              "<Figure size 432x288 with 1 Axes>"
            ]
          },
          "metadata": {
            "tags": [],
            "needs_background": "light"
          }
        }
      ]
    },
    {
      "cell_type": "code",
      "metadata": {
        "id": "q4cufJgzDpvc",
        "colab_type": "code",
        "colab": {
          "base_uri": "https://localhost:8080/",
          "height": 282
        },
        "outputId": "0021b16e-a5bc-4dca-e6cb-2ae26cdc2a0a"
      },
      "source": [
        "df.boxplot(column='LoanAmount')"
      ],
      "execution_count": null,
      "outputs": [
        {
          "output_type": "execute_result",
          "data": {
            "text/plain": [
              "<matplotlib.axes._subplots.AxesSubplot at 0x7f28b7df6908>"
            ]
          },
          "metadata": {
            "tags": []
          },
          "execution_count": 37
        },
        {
          "output_type": "display_data",
          "data": {
            "image/png": "[encoded data removed]",
            "text/plain": [
              "<Figure size 432x288 with 1 Axes>"
            ]
          },
          "metadata": {
            "tags": [],
            "needs_background": "light"
          }
        }
      ]
    },
    {
      "cell_type": "code",
      "metadata": {
        "id": "tCGLJ0GLTWt6",
        "colab_type": "code",
        "colab": {}
      },
      "source": [
        "import matplotlib as plt\n",
        "fig=plt.figure(fig size =(8,4))  \n",
        "ax1 = fig.add_subplot(121) \n",
        "ax1.set_xlabel('Credit_History') \n",
        "ax1.set_ylabel('Count of Applicants') \n",
        "ax1.set_title(\"Applicants by Credit_History\") \n",
        "temp1.plot(kind='bar')"
      ],
      "execution_count": null,
      "outputs": []
    },
    {
      "cell_type": "code",
      "metadata": {
        "id": "29JCOs0ODyyv",
        "colab_type": "code",
        "colab": {
          "base_uri": "https://localhost:8080/",
          "height": 455
        },
        "outputId": "8d8aee6f-00b6-4d02-8402-ce8178c01cb4"
      },
      "source": [
        "df"
      ],
      "execution_count": null,
      "outputs": [
        {
          "output_type": "execute_result",
          "data": {
            "text/html": [
              "<div>\n",
              "<style scoped>\n",
              "    .dataframe tbody tr th:only-of-type {\n",
              "        vertical-align: middle;\n",
              "    }\n",
              "\n",
              "    .dataframe tbody tr th {\n",
              "        vertical-align: top;\n",
              "    }\n",
              "\n",
              "    .dataframe thead th {\n",
              "        text-align: right;\n",
              "    }\n",
              "</style>\n",
              "<table border=\"1\" class=\"dataframe\">\n",
              "  <thead>\n",
              "    <tr style=\"text-align: right;\">\n",
              "      <th></th>\n",
              "      <th>Loan_ID</th>\n",
              "      <th>Gender</th>\n",
              "      <th>Married</th>\n",
              "      <th>Dependents</th>\n",
              "      <th>Education</th>\n",
              "      <th>Self_Employed</th>\n",
              "      <th>ApplicantIncome</th>\n",
              "      <th>CoapplicantIncome</th>\n",
              "      <th>LoanAmount</th>\n",
              "      <th>Loan_Amount_Term</th>\n",
              "      <th>Credit_History</th>\n",
              "      <th>Property_Area</th>\n",
              "    </tr>\n",
              "  </thead>\n",
              "  <tbody>\n",
              "    <tr>\n",
              "      <th>0</th>\n",
              "      <td>LP001015</td>\n",
              "      <td>Male</td>\n",
              "      <td>Yes</td>\n",
              "      <td>0</td>\n",
              "      <td>Graduate</td>\n",
              "      <td>No</td>\n",
              "      <td>5720</td>\n",
              "      <td>0</td>\n",
              "      <td>110.0</td>\n",
              "      <td>360.0</td>\n",
              "      <td>1.0</td>\n",
              "      <td>Urban</td>\n",
              "    </tr>\n",
              "    <tr>\n",
              "      <th>1</th>\n",
              "      <td>LP001022</td>\n",
              "      <td>Male</td>\n",
              "      <td>Yes</td>\n",
              "      <td>1</td>\n",
              "      <td>Graduate</td>\n",
              "      <td>No</td>\n",
              "      <td>3076</td>\n",
              "      <td>1500</td>\n",
              "      <td>126.0</td>\n",
              "      <td>360.0</td>\n",
              "      <td>1.0</td>\n",
              "      <td>Urban</td>\n",
              "    </tr>\n",
              "    <tr>\n",
              "      <th>2</th>\n",
              "      <td>LP001031</td>\n",
              "      <td>Male</td>\n",
              "      <td>Yes</td>\n",
              "      <td>2</td>\n",
              "      <td>Graduate</td>\n",
              "      <td>No</td>\n",
              "      <td>5000</td>\n",
              "      <td>1800</td>\n",
              "      <td>208.0</td>\n",
              "      <td>360.0</td>\n",
              "      <td>1.0</td>\n",
              "      <td>Urban</td>\n",
              "    </tr>\n",
              "    <tr>\n",
              "      <th>3</th>\n",
              "      <td>LP001035</td>\n",
              "      <td>Male</td>\n",
              "      <td>Yes</td>\n",
              "      <td>2</td>\n",
              "      <td>Graduate</td>\n",
              "      <td>No</td>\n",
              "      <td>2340</td>\n",
              "      <td>2546</td>\n",
              "      <td>100.0</td>\n",
              "      <td>360.0</td>\n",
              "      <td>NaN</td>\n",
              "      <td>Urban</td>\n",
              "    </tr>\n",
              "    <tr>\n",
              "      <th>4</th>\n",
              "      <td>LP001051</td>\n",
              "      <td>Male</td>\n",
              "      <td>No</td>\n",
              "      <td>0</td>\n",
              "      <td>Not Graduate</td>\n",
              "      <td>No</td>\n",
              "      <td>3276</td>\n",
              "      <td>0</td>\n",
              "      <td>78.0</td>\n",
              "      <td>360.0</td>\n",
              "      <td>1.0</td>\n",
              "      <td>Urban</td>\n",
              "    </tr>\n",
              "    <tr>\n",
              "      <th>...</th>\n",
              "      <td>...</td>\n",
              "      <td>...</td>\n",
              "      <td>...</td>\n",
              "      <td>...</td>\n",
              "      <td>...</td>\n",
              "      <td>...</td>\n",
              "      <td>...</td>\n",
              "      <td>...</td>\n",
              "      <td>...</td>\n",
              "      <td>...</td>\n",
              "      <td>...</td>\n",
              "      <td>...</td>\n",
              "    </tr>\n",
              "    <tr>\n",
              "      <th>362</th>\n",
              "      <td>LP002971</td>\n",
              "      <td>Male</td>\n",
              "      <td>Yes</td>\n",
              "      <td>3+</td>\n",
              "      <td>Not Graduate</td>\n",
              "      <td>Yes</td>\n",
              "      <td>4009</td>\n",
              "      <td>1777</td>\n",
              "      <td>113.0</td>\n",
              "      <td>360.0</td>\n",
              "      <td>1.0</td>\n",
              "      <td>Urban</td>\n",
              "    </tr>\n",
              "    <tr>\n",
              "      <th>363</th>\n",
              "      <td>LP002975</td>\n",
              "      <td>Male</td>\n",
              "      <td>Yes</td>\n",
              "      <td>0</td>\n",
              "      <td>Graduate</td>\n",
              "      <td>No</td>\n",
              "      <td>4158</td>\n",
              "      <td>709</td>\n",
              "      <td>115.0</td>\n",
              "      <td>360.0</td>\n",
              "      <td>1.0</td>\n",
              "      <td>Urban</td>\n",
              "    </tr>\n",
              "    <tr>\n",
              "      <th>364</th>\n",
              "      <td>LP002980</td>\n",
              "      <td>Male</td>\n",
              "      <td>No</td>\n",
              "      <td>0</td>\n",
              "      <td>Graduate</td>\n",
              "      <td>No</td>\n",
              "      <td>3250</td>\n",
              "      <td>1993</td>\n",
              "      <td>126.0</td>\n",
              "      <td>360.0</td>\n",
              "      <td>NaN</td>\n",
              "      <td>Semiurban</td>\n",
              "    </tr>\n",
              "    <tr>\n",
              "      <th>365</th>\n",
              "      <td>LP002986</td>\n",
              "      <td>Male</td>\n",
              "      <td>Yes</td>\n",
              "      <td>0</td>\n",
              "      <td>Graduate</td>\n",
              "      <td>No</td>\n",
              "      <td>5000</td>\n",
              "      <td>2393</td>\n",
              "      <td>158.0</td>\n",
              "      <td>360.0</td>\n",
              "      <td>1.0</td>\n",
              "      <td>Rural</td>\n",
              "    </tr>\n",
              "    <tr>\n",
              "      <th>366</th>\n",
              "      <td>LP002989</td>\n",
              "      <td>Male</td>\n",
              "      <td>No</td>\n",
              "      <td>0</td>\n",
              "      <td>Graduate</td>\n",
              "      <td>Yes</td>\n",
              "      <td>9200</td>\n",
              "      <td>0</td>\n",
              "      <td>98.0</td>\n",
              "      <td>180.0</td>\n",
              "      <td>1.0</td>\n",
              "      <td>Rural</td>\n",
              "    </tr>\n",
              "  </tbody>\n",
              "</table>\n",
              "<p>367 rows × 12 columns</p>\n",
              "</div>"
            ],
            "text/plain": [
              "      Loan_ID Gender Married  ... Loan_Amount_Term Credit_History Property_Area\n",
              "0    LP001015   Male     Yes  ...            360.0            1.0         Urban\n",
              "1    LP001022   Male     Yes  ...            360.0            1.0         Urban\n",
              "2    LP001031   Male     Yes  ...            360.0            1.0         Urban\n",
              "3    LP001035   Male     Yes  ...            360.0            NaN         Urban\n",
              "4    LP001051   Male      No  ...            360.0            1.0         Urban\n",
              "..        ...    ...     ...  ...              ...            ...           ...\n",
              "362  LP002971   Male     Yes  ...            360.0            1.0         Urban\n",
              "363  LP002975   Male     Yes  ...            360.0            1.0         Urban\n",
              "364  LP002980   Male      No  ...            360.0            NaN     Semiurban\n",
              "365  LP002986   Male     Yes  ...            360.0            1.0         Rural\n",
              "366  LP002989   Male      No  ...            180.0            1.0         Rural\n",
              "\n",
              "[367 rows x 12 columns]"
            ]
          },
          "metadata": {
            "tags": []
          },
          "execution_count": 39
        }
      ]
    },
    {
      "cell_type": "code",
      "metadata": {
        "id": "zxtR1fCDD36m",
        "colab_type": "code",
        "colab": {
          "base_uri": "https://localhost:8080/",
          "height": 235
        },
        "outputId": "d709da62-1e7a-4dad-bec8-57656d80f594"
      },
      "source": [
        "df.apply(lambda  x:sum(x.isnull()),axis=0)"
      ],
      "execution_count": null,
      "outputs": [
        {
          "output_type": "execute_result",
          "data": {
            "text/plain": [
              "Loan_ID               0\n",
              "Gender               11\n",
              "Married               0\n",
              "Dependents           10\n",
              "Education             0\n",
              "Self_Employed        23\n",
              "ApplicantIncome       0\n",
              "CoapplicantIncome     0\n",
              "LoanAmount            5\n",
              "Loan_Amount_Term      6\n",
              "Credit_History       29\n",
              "Property_Area         0\n",
              "dtype: int64"
            ]
          },
          "metadata": {
            "tags": []
          },
          "execution_count": 40
        }
      ]
    },
    {
      "cell_type": "code",
      "metadata": {
        "id": "jGPaX9FfD7Ct",
        "colab_type": "code",
        "colab": {
          "base_uri": "https://localhost:8080/",
          "height": 67
        },
        "outputId": "845ff1f2-d6be-49b7-cdf5-2718e33bb586"
      },
      "source": [
        "df['Self_Employed'].value_counts()"
      ],
      "execution_count": null,
      "outputs": [
        {
          "output_type": "execute_result",
          "data": {
            "text/plain": [
              "No     307\n",
              "Yes     37\n",
              "Name: Self_Employed, dtype: int64"
            ]
          },
          "metadata": {
            "tags": []
          },
          "execution_count": 41
        }
      ]
    },
    {
      "cell_type": "code",
      "metadata": {
        "id": "CXTaysYpD-5w",
        "colab_type": "code",
        "colab": {
          "base_uri": "https://localhost:8080/",
          "height": 67
        },
        "outputId": "09f28ac8-e3b1-437f-ce81-e3156a8dd24e"
      },
      "source": [
        "df['Self_Employed'].value_counts()"
      ],
      "execution_count": null,
      "outputs": [
        {
          "output_type": "execute_result",
          "data": {
            "text/plain": [
              "No     307\n",
              "Yes     37\n",
              "Name: Self_Employed, dtype: int64"
            ]
          },
          "metadata": {
            "tags": []
          },
          "execution_count": 42
        }
      ]
    },
    {
      "cell_type": "code",
      "metadata": {
        "id": "czlQTbJ2EDL-",
        "colab_type": "code",
        "colab": {}
      },
      "source": [
        "df['Dependents'].fillna('0',inplace=True)"
      ],
      "execution_count": null,
      "outputs": []
    },
    {
      "cell_type": "code",
      "metadata": {
        "id": "nYN9AVyVEGv8",
        "colab_type": "code",
        "colab": {
          "base_uri": "https://localhost:8080/",
          "height": 101
        },
        "outputId": "e646fb71-1fb0-4563-fd86-7ab4429acdaf"
      },
      "source": [
        "df['Dependents'].value_counts()"
      ],
      "execution_count": null,
      "outputs": [
        {
          "output_type": "execute_result",
          "data": {
            "text/plain": [
              "0     210\n",
              "2      59\n",
              "1      58\n",
              "3+     40\n",
              "Name: Dependents, dtype: int64"
            ]
          },
          "metadata": {
            "tags": []
          },
          "execution_count": 44
        }
      ]
    },
    {
      "cell_type": "code",
      "metadata": {
        "id": "Tp4tczfyEJ_B",
        "colab_type": "code",
        "colab": {}
      },
      "source": [
        "df['Dependents'].fillna('0',inplace=True)"
      ],
      "execution_count": null,
      "outputs": []
    },
    {
      "cell_type": "code",
      "metadata": {
        "id": "3YXdyAhKENBN",
        "colab_type": "code",
        "colab": {
          "base_uri": "https://localhost:8080/",
          "height": 101
        },
        "outputId": "be13548b-3756-4213-c79a-b56ae0ce4e9f"
      },
      "source": [
        "df['Dependents'].value_counts()"
      ],
      "execution_count": null,
      "outputs": [
        {
          "output_type": "execute_result",
          "data": {
            "text/plain": [
              "0     210\n",
              "2      59\n",
              "1      58\n",
              "3+     40\n",
              "Name: Dependents, dtype: int64"
            ]
          },
          "metadata": {
            "tags": []
          },
          "execution_count": 46
        }
      ]
    },
    {
      "cell_type": "code",
      "metadata": {
        "id": "AZSX422XEQd4",
        "colab_type": "code",
        "colab": {
          "base_uri": "https://localhost:8080/",
          "height": 235
        },
        "outputId": "b9ca02c5-9c0a-4f05-cac9-eb6f19dd1b12"
      },
      "source": [
        "df.apply(lambda  x:sum(x.isnull()),axis=0)"
      ],
      "execution_count": null,
      "outputs": [
        {
          "output_type": "execute_result",
          "data": {
            "text/plain": [
              "Loan_ID               0\n",
              "Gender               11\n",
              "Married               0\n",
              "Dependents            0\n",
              "Education             0\n",
              "Self_Employed        23\n",
              "ApplicantIncome       0\n",
              "CoapplicantIncome     0\n",
              "LoanAmount            5\n",
              "Loan_Amount_Term      6\n",
              "Credit_History       29\n",
              "Property_Area         0\n",
              "dtype: int64"
            ]
          },
          "metadata": {
            "tags": []
          },
          "execution_count": 47
        }
      ]
    },
    {
      "cell_type": "code",
      "metadata": {
        "id": "jfNOPdbMET5Y",
        "colab_type": "code",
        "colab": {
          "base_uri": "https://localhost:8080/",
          "height": 67
        },
        "outputId": "8125cde9-a029-42b6-f205-9162092d0c06"
      },
      "source": [
        "df['Gender'].value_counts()"
      ],
      "execution_count": null,
      "outputs": [
        {
          "output_type": "execute_result",
          "data": {
            "text/plain": [
              "Male      286\n",
              "Female     70\n",
              "Name: Gender, dtype: int64"
            ]
          },
          "metadata": {
            "tags": []
          },
          "execution_count": 48
        }
      ]
    },
    {
      "cell_type": "code",
      "metadata": {
        "id": "A8ofmNQjEWOS",
        "colab_type": "code",
        "colab": {
          "base_uri": "https://localhost:8080/",
          "height": 67
        },
        "outputId": "f43b1b21-c0cf-4b42-d0a1-02cecbc3a699"
      },
      "source": [
        "df['Gender'].value_counts()"
      ],
      "execution_count": null,
      "outputs": [
        {
          "output_type": "execute_result",
          "data": {
            "text/plain": [
              "Male      286\n",
              "Female     70\n",
              "Name: Gender, dtype: int64"
            ]
          },
          "metadata": {
            "tags": []
          },
          "execution_count": 49
        }
      ]
    },
    {
      "cell_type": "code",
      "metadata": {
        "id": "JSbAu0yTEYsJ",
        "colab_type": "code",
        "colab": {
          "base_uri": "https://localhost:8080/",
          "height": 235
        },
        "outputId": "4c59037a-4ac2-4b92-e6a0-aa45b5bfa3c6"
      },
      "source": [
        "df.apply(lambda  x:sum(x.isnull()),axis=0)"
      ],
      "execution_count": null,
      "outputs": [
        {
          "output_type": "execute_result",
          "data": {
            "text/plain": [
              "Loan_ID               0\n",
              "Gender               11\n",
              "Married               0\n",
              "Dependents            0\n",
              "Education             0\n",
              "Self_Employed        23\n",
              "ApplicantIncome       0\n",
              "CoapplicantIncome     0\n",
              "LoanAmount            5\n",
              "Loan_Amount_Term      6\n",
              "Credit_History       29\n",
              "Property_Area         0\n",
              "dtype: int64"
            ]
          },
          "metadata": {
            "tags": []
          },
          "execution_count": 50
        }
      ]
    },
    {
      "cell_type": "code",
      "metadata": {
        "id": "53rwteakEbmX",
        "colab_type": "code",
        "colab": {}
      },
      "source": [
        "df['Loan_Amount_Term'].fillna(360.0,inplace=True)"
      ],
      "execution_count": null,
      "outputs": []
    },
    {
      "cell_type": "code",
      "metadata": {
        "id": "dxD21i4TEeML",
        "colab_type": "code",
        "colab": {
          "base_uri": "https://localhost:8080/",
          "height": 235
        },
        "outputId": "94960b4e-a772-4426-93ed-725ec020a132"
      },
      "source": [
        "df['Loan_Amount_Term'].value_counts()"
      ],
      "execution_count": null,
      "outputs": [
        {
          "output_type": "execute_result",
          "data": {
            "text/plain": [
              "360.0    317\n",
              "180.0     22\n",
              "480.0      8\n",
              "300.0      7\n",
              "240.0      4\n",
              "84.0       3\n",
              "6.0        1\n",
              "120.0      1\n",
              "36.0       1\n",
              "350.0      1\n",
              "12.0       1\n",
              "60.0       1\n",
              "Name: Loan_Amount_Term, dtype: int64"
            ]
          },
          "metadata": {
            "tags": []
          },
          "execution_count": 52
        }
      ]
    },
    {
      "cell_type": "code",
      "metadata": {
        "id": "4yLwp8r6EhkT",
        "colab_type": "code",
        "colab": {
          "base_uri": "https://localhost:8080/",
          "height": 235
        },
        "outputId": "0c0a5913-784b-4059-ef1a-4c72944c9258"
      },
      "source": [
        "df.apply(lambda  x:sum(x.isnull()),axis=0)"
      ],
      "execution_count": null,
      "outputs": [
        {
          "output_type": "execute_result",
          "data": {
            "text/plain": [
              "Loan_ID               0\n",
              "Gender               11\n",
              "Married               0\n",
              "Dependents            0\n",
              "Education             0\n",
              "Self_Employed        23\n",
              "ApplicantIncome       0\n",
              "CoapplicantIncome     0\n",
              "LoanAmount            5\n",
              "Loan_Amount_Term      0\n",
              "Credit_History       29\n",
              "Property_Area         0\n",
              "dtype: int64"
            ]
          },
          "metadata": {
            "tags": []
          },
          "execution_count": 53
        }
      ]
    },
    {
      "cell_type": "code",
      "metadata": {
        "id": "nCvYMWjhEmbj",
        "colab_type": "code",
        "colab": {
          "base_uri": "https://localhost:8080/",
          "height": 67
        },
        "outputId": "abe393ec-4d09-4b77-a043-42f065a46661"
      },
      "source": [
        "df['Credit_History'].value_counts()"
      ],
      "execution_count": null,
      "outputs": [
        {
          "output_type": "execute_result",
          "data": {
            "text/plain": [
              "1.0    279\n",
              "0.0     59\n",
              "Name: Credit_History, dtype: int64"
            ]
          },
          "metadata": {
            "tags": []
          },
          "execution_count": 54
        }
      ]
    },
    {
      "cell_type": "code",
      "metadata": {
        "id": "fHBdVBT0Em8j",
        "colab_type": "code",
        "colab": {}
      },
      "source": [
        "df['Credit_History'].fillna(1.0,inplace=True)"
      ],
      "execution_count": null,
      "outputs": []
    },
    {
      "cell_type": "code",
      "metadata": {
        "id": "5-SXYg8FEsGk",
        "colab_type": "code",
        "colab": {
          "base_uri": "https://localhost:8080/",
          "height": 235
        },
        "outputId": "1b910cfc-52f7-4ff7-8a5d-ecd4c32ee5ec"
      },
      "source": [
        "df.apply(lambda  x:sum(x.isnull()),axis=0)"
      ],
      "execution_count": null,
      "outputs": [
        {
          "output_type": "execute_result",
          "data": {
            "text/plain": [
              "Loan_ID               0\n",
              "Gender               11\n",
              "Married               0\n",
              "Dependents            0\n",
              "Education             0\n",
              "Self_Employed        23\n",
              "ApplicantIncome       0\n",
              "CoapplicantIncome     0\n",
              "LoanAmount            5\n",
              "Loan_Amount_Term      0\n",
              "Credit_History        0\n",
              "Property_Area         0\n",
              "dtype: int64"
            ]
          },
          "metadata": {
            "tags": []
          },
          "execution_count": 56
        }
      ]
    },
    {
      "cell_type": "code",
      "metadata": {
        "id": "58_gHe3nEvxQ",
        "colab_type": "code",
        "colab": {
          "base_uri": "https://localhost:8080/",
          "height": 282
        },
        "outputId": "9175e2ef-60e4-4fea-d4ff-07a28ca2dd94"
      },
      "source": [
        "df['LoanAmount'].hist(bins=10)"
      ],
      "execution_count": null,
      "outputs": [
        {
          "output_type": "execute_result",
          "data": {
            "text/plain": [
              "<matplotlib.axes._subplots.AxesSubplot at 0x7f28b7dfcd68>"
            ]
          },
          "metadata": {
            "tags": []
          },
          "execution_count": 63
        },
        {
          "output_type": "display_data",
          "data": {
            "image/png": "[encoded data removed]",
            "text/plain": [
              "<Figure size 432x288 with 1 Axes>"
            ]
          },
          "metadata": {
            "tags": [],
            "needs_background": "light"
          }
        }
      ]
    },
    {
      "cell_type": "code",
      "metadata": {
        "id": "NIVK-IuySyNM",
        "colab_type": "code",
        "colab": {
          "base_uri": "https://localhost:8080/",
          "height": 282
        },
        "outputId": "c3ff8c3c-fb32-4b78-ceb5-f064aff6a082"
      },
      "source": [
        "df['LoanAmount_log']=np.log(df['LoanAmount']) \n",
        "df['LoanAmount_log'].hist(bins=20)"
      ],
      "execution_count": null,
      "outputs": [
        {
          "output_type": "execute_result",
          "data": {
            "text/plain": [
              "<matplotlib.axes._subplots.AxesSubplot at 0x7f28b7bdee80>"
            ]
          },
          "metadata": {
            "tags": []
          },
          "execution_count": 96
        },
        {
          "output_type": "display_data",
          "data": {
            "image/png": "[encoded data removed]",
            "text/plain": [
              "<Figure size 432x288 with 1 Axes>"
            ]
          },
          "metadata": {
            "tags": [],
            "needs_background": "light"
          }
        }
      ]
    },
    {
      "cell_type": "code",
      "metadata": {
        "id": "z59ZJL-dE1RS",
        "colab_type": "code",
        "colab": {
          "base_uri": "https://localhost:8080/",
          "height": 455
        },
        "outputId": "8bc2fe08-bf12-4cb6-fa1c-6848cac15d70"
      },
      "source": [
        "df"
      ],
      "execution_count": null,
      "outputs": [
        {
          "output_type": "execute_result",
          "data": {
            "text/html": [
              "<div>\n",
              "<style scoped>\n",
              "    .dataframe tbody tr th:only-of-type {\n",
              "        vertical-align: middle;\n",
              "    }\n",
              "\n",
              "    .dataframe tbody tr th {\n",
              "        vertical-align: top;\n",
              "    }\n",
              "\n",
              "    .dataframe thead th {\n",
              "        text-align: right;\n",
              "    }\n",
              "</style>\n",
              "<table border=\"1\" class=\"dataframe\">\n",
              "  <thead>\n",
              "    <tr style=\"text-align: right;\">\n",
              "      <th></th>\n",
              "      <th>Loan_ID</th>\n",
              "      <th>Gender</th>\n",
              "      <th>Married</th>\n",
              "      <th>Dependents</th>\n",
              "      <th>Education</th>\n",
              "      <th>Self_Employed</th>\n",
              "      <th>ApplicantIncome</th>\n",
              "      <th>CoapplicantIncome</th>\n",
              "      <th>LoanAmount</th>\n",
              "      <th>Loan_Amount_Term</th>\n",
              "      <th>Credit_History</th>\n",
              "      <th>Property_Area</th>\n",
              "    </tr>\n",
              "  </thead>\n",
              "  <tbody>\n",
              "    <tr>\n",
              "      <th>0</th>\n",
              "      <td>LP001015</td>\n",
              "      <td>Male</td>\n",
              "      <td>Yes</td>\n",
              "      <td>0</td>\n",
              "      <td>Graduate</td>\n",
              "      <td>No</td>\n",
              "      <td>5720</td>\n",
              "      <td>0</td>\n",
              "      <td>110.0</td>\n",
              "      <td>360.0</td>\n",
              "      <td>1.0</td>\n",
              "      <td>Urban</td>\n",
              "    </tr>\n",
              "    <tr>\n",
              "      <th>1</th>\n",
              "      <td>LP001022</td>\n",
              "      <td>Male</td>\n",
              "      <td>Yes</td>\n",
              "      <td>1</td>\n",
              "      <td>Graduate</td>\n",
              "      <td>No</td>\n",
              "      <td>3076</td>\n",
              "      <td>1500</td>\n",
              "      <td>126.0</td>\n",
              "      <td>360.0</td>\n",
              "      <td>1.0</td>\n",
              "      <td>Urban</td>\n",
              "    </tr>\n",
              "    <tr>\n",
              "      <th>2</th>\n",
              "      <td>LP001031</td>\n",
              "      <td>Male</td>\n",
              "      <td>Yes</td>\n",
              "      <td>2</td>\n",
              "      <td>Graduate</td>\n",
              "      <td>No</td>\n",
              "      <td>5000</td>\n",
              "      <td>1800</td>\n",
              "      <td>208.0</td>\n",
              "      <td>360.0</td>\n",
              "      <td>1.0</td>\n",
              "      <td>Urban</td>\n",
              "    </tr>\n",
              "    <tr>\n",
              "      <th>3</th>\n",
              "      <td>LP001035</td>\n",
              "      <td>Male</td>\n",
              "      <td>Yes</td>\n",
              "      <td>2</td>\n",
              "      <td>Graduate</td>\n",
              "      <td>No</td>\n",
              "      <td>2340</td>\n",
              "      <td>2546</td>\n",
              "      <td>100.0</td>\n",
              "      <td>360.0</td>\n",
              "      <td>1.0</td>\n",
              "      <td>Urban</td>\n",
              "    </tr>\n",
              "    <tr>\n",
              "      <th>4</th>\n",
              "      <td>LP001051</td>\n",
              "      <td>Male</td>\n",
              "      <td>No</td>\n",
              "      <td>0</td>\n",
              "      <td>Not Graduate</td>\n",
              "      <td>No</td>\n",
              "      <td>3276</td>\n",
              "      <td>0</td>\n",
              "      <td>78.0</td>\n",
              "      <td>360.0</td>\n",
              "      <td>1.0</td>\n",
              "      <td>Urban</td>\n",
              "    </tr>\n",
              "    <tr>\n",
              "      <th>...</th>\n",
              "      <td>...</td>\n",
              "      <td>...</td>\n",
              "      <td>...</td>\n",
              "      <td>...</td>\n",
              "      <td>...</td>\n",
              "      <td>...</td>\n",
              "      <td>...</td>\n",
              "      <td>...</td>\n",
              "      <td>...</td>\n",
              "      <td>...</td>\n",
              "      <td>...</td>\n",
              "      <td>...</td>\n",
              "    </tr>\n",
              "    <tr>\n",
              "      <th>362</th>\n",
              "      <td>LP002971</td>\n",
              "      <td>Male</td>\n",
              "      <td>Yes</td>\n",
              "      <td>3+</td>\n",
              "      <td>Not Graduate</td>\n",
              "      <td>Yes</td>\n",
              "      <td>4009</td>\n",
              "      <td>1777</td>\n",
              "      <td>113.0</td>\n",
              "      <td>360.0</td>\n",
              "      <td>1.0</td>\n",
              "      <td>Urban</td>\n",
              "    </tr>\n",
              "    <tr>\n",
              "      <th>363</th>\n",
              "      <td>LP002975</td>\n",
              "      <td>Male</td>\n",
              "      <td>Yes</td>\n",
              "      <td>0</td>\n",
              "      <td>Graduate</td>\n",
              "      <td>No</td>\n",
              "      <td>4158</td>\n",
              "      <td>709</td>\n",
              "      <td>115.0</td>\n",
              "      <td>360.0</td>\n",
              "      <td>1.0</td>\n",
              "      <td>Urban</td>\n",
              "    </tr>\n",
              "    <tr>\n",
              "      <th>364</th>\n",
              "      <td>LP002980</td>\n",
              "      <td>Male</td>\n",
              "      <td>No</td>\n",
              "      <td>0</td>\n",
              "      <td>Graduate</td>\n",
              "      <td>No</td>\n",
              "      <td>3250</td>\n",
              "      <td>1993</td>\n",
              "      <td>126.0</td>\n",
              "      <td>360.0</td>\n",
              "      <td>1.0</td>\n",
              "      <td>Semiurban</td>\n",
              "    </tr>\n",
              "    <tr>\n",
              "      <th>365</th>\n",
              "      <td>LP002986</td>\n",
              "      <td>Male</td>\n",
              "      <td>Yes</td>\n",
              "      <td>0</td>\n",
              "      <td>Graduate</td>\n",
              "      <td>No</td>\n",
              "      <td>5000</td>\n",
              "      <td>2393</td>\n",
              "      <td>158.0</td>\n",
              "      <td>360.0</td>\n",
              "      <td>1.0</td>\n",
              "      <td>Rural</td>\n",
              "    </tr>\n",
              "    <tr>\n",
              "      <th>366</th>\n",
              "      <td>LP002989</td>\n",
              "      <td>Male</td>\n",
              "      <td>No</td>\n",
              "      <td>0</td>\n",
              "      <td>Graduate</td>\n",
              "      <td>Yes</td>\n",
              "      <td>9200</td>\n",
              "      <td>0</td>\n",
              "      <td>98.0</td>\n",
              "      <td>180.0</td>\n",
              "      <td>1.0</td>\n",
              "      <td>Rural</td>\n",
              "    </tr>\n",
              "  </tbody>\n",
              "</table>\n",
              "<p>367 rows × 12 columns</p>\n",
              "</div>"
            ],
            "text/plain": [
              "      Loan_ID Gender Married  ... Loan_Amount_Term Credit_History Property_Area\n",
              "0    LP001015   Male     Yes  ...            360.0            1.0         Urban\n",
              "1    LP001022   Male     Yes  ...            360.0            1.0         Urban\n",
              "2    LP001031   Male     Yes  ...            360.0            1.0         Urban\n",
              "3    LP001035   Male     Yes  ...            360.0            1.0         Urban\n",
              "4    LP001051   Male      No  ...            360.0            1.0         Urban\n",
              "..        ...    ...     ...  ...              ...            ...           ...\n",
              "362  LP002971   Male     Yes  ...            360.0            1.0         Urban\n",
              "363  LP002975   Male     Yes  ...            360.0            1.0         Urban\n",
              "364  LP002980   Male      No  ...            360.0            1.0     Semiurban\n",
              "365  LP002986   Male     Yes  ...            360.0            1.0         Rural\n",
              "366  LP002989   Male      No  ...            180.0            1.0         Rural\n",
              "\n",
              "[367 rows x 12 columns]"
            ]
          },
          "metadata": {
            "tags": []
          },
          "execution_count": 60
        }
      ]
    }
  ]
}