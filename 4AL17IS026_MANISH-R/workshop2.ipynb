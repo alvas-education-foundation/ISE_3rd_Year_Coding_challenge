{
  "nbformat": 4,
  "nbformat_minor": 0,
  "metadata": {
    "colab": {
      "name": "Welcome To Colaboratory",
      "provenance": [],
      "collapsed_sections": [],
      "toc_visible": true,
      "include_colab_link": true
    },
    "kernelspec": {
      "display_name": "Python 3",
      "name": "python3"
    }
  },
  "cells": [
    {
      "cell_type": "markdown",
      "metadata": {
        "id": "view-in-github",
        "colab_type": "text"
      },
      "source": [
        "<a href=\"https://colab.research.google.com/github/alvas-education-foundation/ISE_3rd_Year_Coding_challenge/blob/master/4AL17IS026_MANISH-R/workshop2.ipynb\" target=\"_parent\"><img src=\"https://colab.research.google.com/assets/colab-badge.svg\" alt=\"Open In Colab\"/></a>"
      ]
    },
    {
      "cell_type": "markdown",
      "metadata": {
        "id": "ONomNnzTC8IX",
        "colab_type": "text"
      },
      "source": [
        "**SESSION 1**"
      ]
    },
    {
      "cell_type": "code",
      "metadata": {
        "id": "GRaQLHC2DAF8",
        "colab_type": "code",
        "colab": {
          "base_uri": "https://localhost:8080/",
          "height": 134
        },
        "outputId": "b0428bfb-df2c-4a75-eb1b-966f6564d710"
      },
      "source": [
        "a=[]\n",
        "n=int(input(\"Enter number of elements:\"))\n",
        "for i in range(1,n+1):\n",
        "  b=int(input(\"Enter element:\"))\n",
        "  a.append(b)\n",
        "  a.sort()\n",
        "print(\"Largest element is:\",a[n-1])\n"
      ],
      "execution_count": null,
      "outputs": [
        {
          "output_type": "stream",
          "text": [
            "Enter number of elements:5\n",
            "Enter element:5\n",
            "Enter element:3\n",
            "Enter element:4\n",
            "Enter element:2\n",
            "Enter element:8\n",
            "Largest element is: 8\n"
          ],
          "name": "stdout"
        }
      ]
    },
    {
      "cell_type": "markdown",
      "metadata": {
        "id": "8f9L0O0aEIVa",
        "colab_type": "text"
      },
      "source": [
        "\n",
        "Python Program to put the even and odd elements in a list into two different lists."
      ]
    },
    {
      "cell_type": "code",
      "metadata": {
        "id": "pI6nHcOYEOuV",
        "colab_type": "code",
        "colab": {
          "base_uri": "https://localhost:8080/",
          "height": 202
        },
        "outputId": "2fad44f7-6dcb-46aa-f502-5bb50a5edf6c"
      },
      "source": [
        "a=[]\n",
        "n=int(input(\"Enter number of elements:\"))\n",
        "for i in range(1,n+1):\n",
        "  b=int(input(\"Enter element:\"))\n",
        "  a.append(b)\n",
        "  even=[]\n",
        "  odd=[]\n",
        "for j in a:\n",
        "  if(j%2==0):\n",
        "    even.append(j)\n",
        "  else:\n",
        "    odd.append(j)\n",
        "print(\"The even list\",even)\n",
        "print(\"The odd list\",odd)"
      ],
      "execution_count": null,
      "outputs": [
        {
          "output_type": "stream",
          "text": [
            "Enter number of elements:8\n",
            "Enter element:2\n",
            "Enter element:4\n",
            "Enter element:3\n",
            "Enter element:7\n",
            "Enter element:15\n",
            "Enter element:16\n",
            "Enter element:1\n",
            "Enter element:9\n",
            "The even list [2, 4, 16]\n",
            "The odd list [3, 7, 15, 1, 9]\n"
          ],
          "name": "stdout"
        }
      ]
    },
    {
      "cell_type": "markdown",
      "metadata": {
        "id": "m7HaQIeWEhzl",
        "colab_type": "text"
      },
      "source": [
        "Python Program to merge two lists and sort it."
      ]
    },
    {
      "cell_type": "code",
      "metadata": {
        "id": "re28MiNFElXI",
        "colab_type": "code",
        "colab": {
          "base_uri": "https://localhost:8080/",
          "height": 185
        },
        "outputId": "e34c987a-6c0f-4236-b13a-8856a3873390"
      },
      "source": [
        "a=[]\n",
        "c=[]\n",
        "n1=int(input(\"Enter number of elements:\"))\n",
        "for i in range(1,n1+1):\n",
        "  b=int(input(\"Enter element:\"))\n",
        "  a.append(b)\n",
        "n2=int(input(\"Enter number of elements:\"))\n",
        "for i in range(1,n2+1):\n",
        "  d=int(input(\"Enter element:\"))\n",
        "  c.append(d)\n",
        "  new=a+c\n",
        "  new.sort()\n",
        "print(\"Sorted list is:\",new)"
      ],
      "execution_count": null,
      "outputs": [
        {
          "output_type": "stream",
          "text": [
            "Enter number of elements:5\n",
            "Enter element:6\n",
            "Enter element:8\n",
            "Enter element:7\n",
            "Enter element:4\n",
            "Enter element:2\n",
            "Enter number of elements:2\n",
            "Enter element:5\n",
            "Enter element:7\n",
            "Sorted list is: [2, 4, 5, 6, 7, 7, 8]\n"
          ],
          "name": "stdout"
        }
      ]
    },
    {
      "cell_type": "markdown",
      "metadata": {
        "id": "e-wvKOe2Ezu1",
        "colab_type": "text"
      },
      "source": [
        "\n",
        "Python Program to sort the list according to the second element in the sublist."
      ]
    },
    {
      "cell_type": "code",
      "metadata": {
        "id": "8813-nCzE5ol",
        "colab_type": "code",
        "colab": {
          "base_uri": "https://localhost:8080/",
          "height": 34
        },
        "outputId": "65a3c5b4-01c9-4a55-e585-e43744ab91af"
      },
      "source": [
        "a=[['A',34],['B',21],['C',26],['E',29]]\n",
        "for i in range(0,len(a)):\n",
        "  for j in range(i+1,len(a)):\n",
        "    if(a[i][1]>a[j][1]):\n",
        "      temp=a[j]\n",
        "      a[j]=a[i]\n",
        "      a[i]=temp\n",
        "print(a)"
      ],
      "execution_count": null,
      "outputs": [
        {
          "output_type": "stream",
          "text": [
            "[['B', 21], ['C', 26], ['E', 29], ['A', 34]]\n"
          ],
          "name": "stdout"
        }
      ]
    },
    {
      "cell_type": "markdown",
      "metadata": {
        "id": "KNWNSLZxE80K",
        "colab_type": "text"
      },
      "source": [
        "Python Program to find the second largest number in a list using bubble sort."
      ]
    },
    {
      "cell_type": "code",
      "metadata": {
        "id": "lIHnlm6FFCPq",
        "colab_type": "code",
        "colab": {
          "base_uri": "https://localhost:8080/",
          "height": 134
        },
        "outputId": "d9a26ee3-ed1a-4f1c-c330-15289f2fd237"
      },
      "source": [
        "a=[]\n",
        "n=int(input(\"Enter number of elements:\"))\n",
        "for i in range(1,n+1):\n",
        "  b=int(input(\"Enter element:\"))\n",
        "  a.append(b)\n",
        "for i in range(0,len(a)):\n",
        "  for j in range(0,len(a)-i-1):\n",
        "    if(a[j]>a[j+1]):\n",
        "      temp=a[j]\n",
        "      a[j]=a[j+1]\n",
        "      a[j+1]=temp \n",
        "print('Second largest number is:',a[n-2])"
      ],
      "execution_count": null,
      "outputs": [
        {
          "output_type": "stream",
          "text": [
            "Enter number of elements:5\n",
            "Enter element:7\n",
            "Enter element:6\n",
            "Enter element:2\n",
            "Enter element:4\n",
            "Enter element:5\n",
            "Second largest number is: 6\n"
          ],
          "name": "stdout"
        }
      ]
    },
    {
      "cell_type": "markdown",
      "metadata": {
        "id": "OX-SYFqWFMlR",
        "colab_type": "text"
      },
      "source": [
        "Program to create a list of tuples with the first element as the number and the second element as the square of the number."
      ]
    },
    {
      "cell_type": "code",
      "metadata": {
        "id": "prfPjzv1FVMZ",
        "colab_type": "code",
        "colab": {
          "base_uri": "https://localhost:8080/",
          "height": 87
        },
        "outputId": "91be4359-c977-4aea-8c45-2a099a18b68c"
      },
      "source": [
        "l_range=int(input(\"Enter the lower range:\"))\n",
        "u_range=int(input(\"Enter the upper range:\"))\n",
        "a=[(x,x**2) for x in range(l_range,u_range+1)]\n",
        "print(a)"
      ],
      "execution_count": null,
      "outputs": [
        {
          "output_type": "stream",
          "text": [
            "Enter the lower range:9\n",
            "Enter the upper range:30\n",
            "[(9, 81), (10, 100), (11, 121), (12, 144), (13, 169), (14, 196), (15, 225), (16, 256), (17, 289), (18, 324), (19, 361), (20, 400), (21, 441), (22, 484), (23, 529), (24, 576), (25, 625), (26, 676), (27, 729), (28, 784), (29, 841), (30, 900)]\n"
          ],
          "name": "stdout"
        }
      ]
    },
    {
      "cell_type": "markdown",
      "metadata": {
        "id": "LpIrjfGcFqgg",
        "colab_type": "text"
      },
      "source": [
        "Python Program to generate random numbers from 1 to 20 and append them to the list."
      ]
    },
    {
      "cell_type": "code",
      "metadata": {
        "id": "bkYktrWsF1_K",
        "colab_type": "code",
        "colab": {
          "base_uri": "https://localhost:8080/",
          "height": 50
        },
        "outputId": "cd6ca331-84cf-4c05-fbed-bffefdb5445a"
      },
      "source": [
        "import random\n",
        "a=[]\n",
        "n=int(input(\"Enter number of elements:\"))\n",
        "for j in range(n):\n",
        "  a.append(random.randint(1,20))\n",
        "print('Randomised list is: ',a)"
      ],
      "execution_count": null,
      "outputs": [
        {
          "output_type": "stream",
          "text": [
            "Enter number of elements:5\n",
            "Randomised list is:  [15, 10, 18, 12, 11]\n"
          ],
          "name": "stdout"
        }
      ]
    },
    {
      "cell_type": "markdown",
      "metadata": {
        "id": "Xg3cX_fPGOaA",
        "colab_type": "text"
      },
      "source": [
        "**Session 2**"
      ]
    },
    {
      "cell_type": "markdown",
      "metadata": {
        "id": "NWEWhLRfGjr5",
        "colab_type": "text"
      },
      "source": [
        "Add rollno and marks {name:mark} for n number of students through keyboard in a dictionary and print the marks in descending order with respective name."
      ]
    },
    {
      "cell_type": "code",
      "metadata": {
        "id": "gRBzOUFdGpUn",
        "colab_type": "code",
        "colab": {
          "base_uri": "https://localhost:8080/",
          "height": 185
        },
        "outputId": "84179416-af5b-49cb-cecb-d7bd4b5ffc9a"
      },
      "source": [
        "import operator\n",
        "d={}\n",
        "n=int(input(\"Enter n: \"))\n",
        "for i in range(1,n+1):\n",
        "    name= input(\"Enter name %d: \"%(i))\n",
        "    mark=int(input(\"Enter mark %d: \"%(i)))\n",
        "    d[name]=mark\n",
        "sort_d= sorted(d.items(), key=operator.itemgetter(1),reverse=True)\n",
        "print (sort_d)"
      ],
      "execution_count": null,
      "outputs": [
        {
          "output_type": "stream",
          "text": [
            "Enter n: 4\n",
            "Enter name 1: jery\n",
            "Enter mark 1: 30\n",
            "Enter name 2: tom\n",
            "Enter mark 2: 40\n",
            "Enter name 3: bean\n",
            "Enter mark 3: 50\n",
            "Enter name 4: raju\n",
            "Enter mark 4: 60\n",
            "[('raju', 60), ('bean', 50), ('tom', 40), ('jery', 30)]\n"
          ],
          "name": "stdout"
        }
      ]
    },
    {
      "cell_type": "markdown",
      "metadata": {
        "id": "ohiEX7yvHBIq",
        "colab_type": "text"
      },
      "source": [
        "Add name and salary {name:salary} for n number of employees through keyboard in a dictionary and print them in name alphabetical order with salary"
      ]
    },
    {
      "cell_type": "code",
      "metadata": {
        "id": "z4YIyBOyHD3D",
        "colab_type": "code",
        "colab": {
          "base_uri": "https://localhost:8080/",
          "height": 151
        },
        "outputId": "b047b530-ac32-472f-91f0-d9bb3783ca76"
      },
      "source": [
        "import operator\n",
        "d={}\n",
        "n=int(input(\"Enter n: \"))\n",
        "for i in range(1,n+1):\n",
        "    name= input(\"Enter name %d: \"%(i))\n",
        "    sal=int(input(\"Enter salary %d: \"%(i)))\n",
        "    d[name]=sal\n",
        "sort_d= sorted(d.items())\n",
        "print (sort_d)"
      ],
      "execution_count": null,
      "outputs": [
        {
          "output_type": "stream",
          "text": [
            "Enter n: 3\n",
            "Enter name 1: jon\n",
            "Enter salary 1: 40000\n",
            "Enter name 2: dom\n",
            "Enter salary 2: 55000\n",
            "Enter name 3: rick\n",
            "Enter salary 3: 56000\n",
            "[('dom', 55000), ('jon', 40000), ('rick', 56000)]\n"
          ],
          "name": "stdout"
        }
      ]
    },
    {
      "cell_type": "markdown",
      "metadata": {
        "id": "otSjIL24I_bW",
        "colab_type": "text"
      },
      "source": [
        "Add name and salary {name:salary} for n number of employees through keyboard in a dictionary and print them in salary ascending order and sum, max, min and average of the salaries"
      ]
    },
    {
      "cell_type": "code",
      "metadata": {
        "id": "PF3n00gQJDKO",
        "colab_type": "code",
        "colab": {
          "base_uri": "https://localhost:8080/",
          "height": 286
        },
        "outputId": "87430877-8f8f-4226-ba86-5789edac2340"
      },
      "source": [
        "import operator\n",
        "d={}\n",
        "n=int(input(\"Enter n: \"))\n",
        "for i in range(1,n+1):\n",
        "    name= input(\"Enter name %d: \"%(i))\n",
        "    sal=int(input(\"Enter salary %d: \"%(i)))\n",
        "    d[name]=sal\n",
        "sort_d= sorted(d.items(), key=operator.itemgetter(1))\n",
        "print (sort_d)\n",
        "print (\"Sum= \"+str(sum(d.values())))\n",
        "print (\"Max. salary= \"+str(max(d.values())))\n",
        "print (\"Min salary= \"+str(min(d.values())))\n",
        "print (\"Average salary= \"+str(sum(d.values())/n))"
      ],
      "execution_count": null,
      "outputs": [
        {
          "output_type": "stream",
          "text": [
            "Enter n: 5\n",
            "Enter name 1: trump\n",
            "Enter salary 1: 48000\n",
            "Enter name 2: obama\n",
            "Enter salary 2: 89000\n",
            "Enter name 3: wick\n",
            "Enter salary 3: 78000\n",
            "Enter name 4: rocky\n",
            "Enter salary 4: 56000\n",
            "Enter name 5: pintu\n",
            "Enter salary 5: 42000\n",
            "[('pintu', 42000), ('trump', 48000), ('rocky', 56000), ('wick', 78000), ('obama', 89000)]\n",
            "Sum= 313000\n",
            "Max. salary= 89000\n",
            "Min salary= 42000\n",
            "Average salary= 62600.0\n"
          ],
          "name": "stdout"
        }
      ]
    },
    {
      "cell_type": "markdown",
      "metadata": {
        "id": "uyy3aShDJqtR",
        "colab_type": "text"
      },
      "source": [
        "Add name and salary {name:salary} for n number of employees through keyboard in a dictionary and print only the employees whose salary is greater than 2000 but less than 4000"
      ]
    },
    {
      "cell_type": "code",
      "metadata": {
        "id": "L-GkjN3YJtoy",
        "colab_type": "code",
        "colab": {
          "base_uri": "https://localhost:8080/",
          "height": 151
        },
        "outputId": "20e1b322-cfac-4532-9a28-66b99890e822"
      },
      "source": [
        "import operator\n",
        "d={}\n",
        "n=int(input(\"Enter n: \"))\n",
        "for i in range(1,n+1):\n",
        "    name= input(\"Enter name %d: \"%(i))\n",
        "    sal=int(input(\"Enter salary %d: \"%(i)))\n",
        "    d[name]=sal\n",
        "salary={x for x in d.values() if x>2000 and x<4000}\n",
        "print(\"Salary >2000 and < 4000 is \",name,sal)"
      ],
      "execution_count": null,
      "outputs": [
        {
          "output_type": "stream",
          "text": [
            "Enter n: 3\n",
            "Enter name 1: ramu\n",
            "Enter salary 1: 3000\n",
            "Enter name 2: raki\n",
            "Enter salary 2: 2500\n",
            "Enter name 3: rajesh\n",
            "Enter salary 3: 3500\n",
            "Salary >2000 and < 4000 is  rajesh 3500\n"
          ],
          "name": "stdout"
        }
      ]
    }
  ]
}