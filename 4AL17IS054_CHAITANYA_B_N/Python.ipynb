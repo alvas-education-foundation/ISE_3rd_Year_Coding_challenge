{
  "nbformat": 4,
  "nbformat_minor": 0,
  "metadata": {
    "colab": {
      "name": "Welcome To Colaboratory",
      "provenance": [],
      "collapsed_sections": [],
      "toc_visible": true,
      "include_colab_link": true
    },
    "kernelspec": {
      "display_name": "Python 3",
      "name": "python3"
    }
  },
  "cells": [
    {
      "cell_type": "markdown",
      "metadata": {
        "id": "view-in-github",
        "colab_type": "text"
      },
      "source": [
        "<a href=\"https://colab.research.google.com/github/alvas-education-foundation/ISE_3rd_Year_Coding_challenge/blob/master/4AL17IS054_CHAITANYA_B_N/Python.ipynb\" target=\"_parent\"><img src=\"https://colab.research.google.com/assets/colab-badge.svg\" alt=\"Open In Colab\"/></a>"
      ]
    },
    {
      "cell_type": "markdown",
      "metadata": {
        "id": "_Bd9gsX0eTSS",
        "colab_type": "text"
      },
      "source": [
        "\n",
        "SESSION 1 program"
      ]
    },
    {
      "cell_type": "code",
      "metadata": {
        "id": "Rh38uguoeRH4",
        "colab_type": "code",
        "colab": {
          "base_uri": "https://localhost:8080/",
          "height": 118
        },
        "outputId": "ed3bc735-d7f5-402a-fb05-a6d696ab15d7"
      },
      "source": [
        "a=[]\n",
        "n=int(input(\"Enter number of elements:\"))\n",
        "for i in range(1,n+1):\n",
        "  b=int(input(\"Enter element:\"))\n",
        "  a.append(b)\n",
        "  a.sort()\n",
        "print(\"Largest element is:\",a[n-1])"
      ],
      "execution_count": 3,
      "outputs": [
        {
          "output_type": "stream",
          "text": [
            "Enter number of elements:4\n",
            "Enter element:4\n",
            "Enter element:3\n",
            "Enter element:8\n",
            "Enter element:4\n",
            "Largest element is: 8\n"
          ],
          "name": "stdout"
        }
      ]
    },
    {
      "cell_type": "markdown",
      "metadata": {
        "id": "LPK6MsUfezGB",
        "colab_type": "text"
      },
      "source": [
        "Python Program to put the even and odd elements in a list into two different lists."
      ]
    },
    {
      "cell_type": "code",
      "metadata": {
        "id": "jNs21ik_eRd1",
        "colab_type": "code",
        "colab": {
          "base_uri": "https://localhost:8080/",
          "height": 151
        },
        "outputId": "28334dec-531a-48ed-9025-c73ad68ea469"
      },
      "source": [
        "\n",
        "\n",
        "a=[]\n",
        "n=int(input(\"Enter number of elements:\"))\n",
        "for i in range(1,n+1):\n",
        "  b=int(input(\"Enter element:\"))\n",
        "  a.append(b)\n",
        "  even=[]\n",
        "  odd=[]\n",
        "for j in a:\n",
        "  if(j%2==0):\n",
        "    even.append(j)\n",
        "  else:\n",
        "    odd.append(j)\n",
        "print(\"The even list\",even)\n",
        "print(\"The odd list\",odd)\n"
      ],
      "execution_count": 5,
      "outputs": [
        {
          "output_type": "stream",
          "text": [
            "Enter number of elements:5\n",
            "Enter element:6\n",
            "Enter element:4\n",
            "Enter element:3\n",
            "Enter element:5\n",
            "Enter element:1\n",
            "The even list [6, 4]\n",
            "The odd list [3, 5, 1]\n"
          ],
          "name": "stdout"
        }
      ]
    },
    {
      "cell_type": "markdown",
      "metadata": {
        "id": "-NTvqxRte7A8",
        "colab_type": "text"
      },
      "source": [
        "Python Program to merge two lists and sort it."
      ]
    },
    {
      "cell_type": "code",
      "metadata": {
        "id": "hE3Lo_iaeRr0",
        "colab_type": "code",
        "colab": {
          "base_uri": "https://localhost:8080/",
          "height": 202
        },
        "outputId": "186dc822-372c-4b81-bc8d-48bdec9e4ca6"
      },
      "source": [
        "a=[]\n",
        "c=[]\n",
        "n1=int(input(\"Enter number of elements:\"))\n",
        "for i in range(1,n1+1):\n",
        "  b=int(input(\"Enter element:\"))\n",
        "  a.append(b)\n",
        "n2=int(input(\"Enter number of elements:\"))\n",
        "for i in range(1,n2+1):\n",
        "  d=int(input(\"Enter element:\"))\n",
        "  c.append(d)\n",
        "  new=a+c\n",
        "  new.sort()\n",
        "print(\"Sorted list is:\",new)"
      ],
      "execution_count": 6,
      "outputs": [
        {
          "output_type": "stream",
          "text": [
            "Enter number of elements:5\n",
            "Enter element:7\n",
            "Enter element:8\n",
            "Enter element:9\n",
            "Enter element:4\n",
            "Enter element:1\n",
            "Enter number of elements:3\n",
            "Enter element:5\n",
            "Enter element:6\n",
            "Enter element:4\n",
            "Sorted list is: [1, 4, 4, 5, 6, 7, 8, 9]\n"
          ],
          "name": "stdout"
        }
      ]
    },
    {
      "cell_type": "markdown",
      "metadata": {
        "id": "TiIsCvsLfHWX",
        "colab_type": "text"
      },
      "source": [
        "Python Program to sort the list according to the second element in the sublist."
      ]
    },
    {
      "cell_type": "code",
      "metadata": {
        "id": "QEm0mdTpeRup",
        "colab_type": "code",
        "colab": {
          "base_uri": "https://localhost:8080/",
          "height": 34
        },
        "outputId": "8a0a7dd6-8d72-4b3b-d127-c7a48a70c492"
      },
      "source": [
        "a=[['A',34],['B',21],['C',26],['E',29]]\n",
        "for i in range(0,len(a)):\n",
        "  for j in range(i+1,len(a)):\n",
        "    if(a[i][1]>a[j][1]):\n",
        "      temp=a[j]\n",
        "      a[j]=a[i]\n",
        "      a[i]=temp\n",
        "print(a)"
      ],
      "execution_count": 7,
      "outputs": [
        {
          "output_type": "stream",
          "text": [
            "[['B', 21], ['C', 26], ['E', 29], ['A', 34]]\n"
          ],
          "name": "stdout"
        }
      ]
    },
    {
      "cell_type": "markdown",
      "metadata": {
        "id": "n4U_XFG6fOCM",
        "colab_type": "text"
      },
      "source": [
        "Python Program to find the second largest number in a list using bubble sort."
      ]
    },
    {
      "cell_type": "code",
      "metadata": {
        "id": "VNo7dwxueRxu",
        "colab_type": "code",
        "colab": {
          "base_uri": "https://localhost:8080/",
          "height": 101
        },
        "outputId": "1f96a154-732b-4db8-e507-04cd9e58ac2f"
      },
      "source": [
        "a=[]\n",
        "n=int(input(\"Enter number of elements:\"))\n",
        "for i in range(1,n+1):\n",
        "  b=int(input(\"Enter element:\"))\n",
        "  a.append(b)\n",
        "for i in range(0,len(a)):\n",
        "  for j in range(0,len(a)-i-1):\n",
        "    if(a[j]>a[j+1]):\n",
        "      temp=a[j]\n",
        "      a[j]=a[j+1]\n",
        "      a[j+1]=temp \n",
        "print('Second largest number is:',a[n-2])"
      ],
      "execution_count": 8,
      "outputs": [
        {
          "output_type": "stream",
          "text": [
            "Enter number of elements:3\n",
            "Enter element:4\n",
            "Enter element:5\n",
            "Enter element:1\n",
            "Second largest number is: 4\n"
          ],
          "name": "stdout"
        }
      ]
    },
    {
      "cell_type": "markdown",
      "metadata": {
        "id": "ar4Vq3fCfWD4",
        "colab_type": "text"
      },
      "source": [
        "Program to create a list of tuples with the first element as the number and the second element as the square of the number."
      ]
    },
    {
      "cell_type": "code",
      "metadata": {
        "id": "80Md5o3WeR0h",
        "colab_type": "code",
        "colab": {
          "base_uri": "https://localhost:8080/",
          "height": 67
        },
        "outputId": "cf06cd4f-ac1b-414f-c8a8-240879dba313"
      },
      "source": [
        "l_range=int(input(\"Enter the lower range:\"))\n",
        "u_range=int(input(\"Enter the upper range:\"))\n",
        "a=[(x,x**2) for x in range(l_range,u_range+1)]\n",
        "print(a)"
      ],
      "execution_count": 9,
      "outputs": [
        {
          "output_type": "stream",
          "text": [
            "Enter the lower range:5\n",
            "Enter the upper range:4\n",
            "[]\n"
          ],
          "name": "stdout"
        }
      ]
    },
    {
      "cell_type": "markdown",
      "metadata": {
        "id": "0EDQCkh3fe0C",
        "colab_type": "text"
      },
      "source": [
        "\n",
        "Python Program to generate random numbers from 1 to 20 and append them to the list."
      ]
    },
    {
      "cell_type": "code",
      "metadata": {
        "id": "g1YI_hnbeR3S",
        "colab_type": "code",
        "colab": {
          "base_uri": "https://localhost:8080/",
          "height": 50
        },
        "outputId": "b5742579-e5cb-45fa-8c09-12b37dc41962"
      },
      "source": [
        "import random\n",
        "a=[]\n",
        "n=int(input(\"Enter number of elements:\"))\n",
        "for j in range(n):\n",
        "  a.append(random.randint(1,20))\n",
        "print('Randomised list is: ',a)"
      ],
      "execution_count": 10,
      "outputs": [
        {
          "output_type": "stream",
          "text": [
            "Enter number of elements:3\n",
            "Randomised list is:  [12, 13, 18]\n"
          ],
          "name": "stdout"
        }
      ]
    },
    {
      "cell_type": "markdown",
      "metadata": {
        "id": "Sn1wG6Syfoge",
        "colab_type": "text"
      },
      "source": [
        "\n",
        "Session 2 programs"
      ]
    },
    {
      "cell_type": "markdown",
      "metadata": {
        "id": "0DinCNM_frDb",
        "colab_type": "text"
      },
      "source": [
        "Add rollno and marks {name:mark} for n number of students through keyboard in a dictionary and print the marks in descending order with respective name."
      ]
    },
    {
      "cell_type": "code",
      "metadata": {
        "id": "3bmOS3uOeR87",
        "colab_type": "code",
        "colab": {
          "base_uri": "https://localhost:8080/",
          "height": 151
        },
        "outputId": "699b272c-80f3-4df9-f3c6-b82da9677131"
      },
      "source": [
        "import operator\n",
        "d={}\n",
        "n=int(input(\"Enter n: \"))\n",
        "for i in range(1,n+1):\n",
        "    name= input(\"Enter name %d: \"%(i))\n",
        "    mark=int(input(\"Enter mark %d: \"%(i)))\n",
        "    d[name]=mark\n",
        "sort_d= sorted(d.items(), key=operator.itemgetter(1),reverse=True)\n",
        "print (sort_d)\n"
      ],
      "execution_count": 12,
      "outputs": [
        {
          "output_type": "stream",
          "text": [
            "Enter n: 3\n",
            "Enter name 1: avin\n",
            "Enter mark 1: 55\n",
            "Enter name 2: rock\n",
            "Enter mark 2: 45\n",
            "Enter name 3: loki\n",
            "Enter mark 3: 56\n",
            "[('loki', 56), ('avin', 55), ('rock', 45)]\n"
          ],
          "name": "stdout"
        }
      ]
    },
    {
      "cell_type": "markdown",
      "metadata": {
        "id": "utjeTM08f9uT",
        "colab_type": "text"
      },
      "source": [
        "Add name and salary {name:salary} for n number of employees through keyboard in a dictionary and print them in name alphabetical order with salary"
      ]
    },
    {
      "cell_type": "code",
      "metadata": {
        "id": "qrsqZRaOeR_8",
        "colab_type": "code",
        "colab": {
          "base_uri": "https://localhost:8080/",
          "height": 185
        },
        "outputId": "d4864fb2-cea0-4cb9-f616-5bb003e11973"
      },
      "source": [
        "import operator\n",
        "d={}\n",
        "n=int(input(\"Enter n: \"))\n",
        "for i in range(1,n+1):\n",
        "    name= input(\"Enter name %d: \"%(i))\n",
        "    sal=int(input(\"Enter salary %d: \"%(i)))\n",
        "    d[name]=sal\n",
        "sort_d= sorted(d.items())\n",
        "print (sort_d)"
      ],
      "execution_count": 13,
      "outputs": [
        {
          "output_type": "stream",
          "text": [
            "Enter n: 4\n",
            "Enter name 1: koli\n",
            "Enter salary 1: 55000\n",
            "Enter name 2: raju\n",
            "Enter salary 2: 65000\n",
            "Enter name 3: rani\n",
            "Enter salary 3: 50000\n",
            "Enter name 4: jeeva\n",
            "Enter salary 4: 45000\n",
            "[('jeeva', 45000), ('koli', 55000), ('raju', 65000), ('rani', 50000)]\n"
          ],
          "name": "stdout"
        }
      ]
    },
    {
      "cell_type": "markdown",
      "metadata": {
        "id": "JbUTOUM7gZgc",
        "colab_type": "text"
      },
      "source": [
        "Add name and salary {name:salary} for n number of employees through keyboard in a dictionary and print only the employees whose salary is greater than 2000 but less than 4000"
      ]
    },
    {
      "cell_type": "code",
      "metadata": {
        "id": "hMCuTSkmeSDB",
        "colab_type": "code",
        "colab": {
          "base_uri": "https://localhost:8080/",
          "height": 151
        },
        "outputId": "50c14514-980d-4136-b575-ac1b23ac3e88"
      },
      "source": [
        "import operator\n",
        "d={}\n",
        "n=int(input(\"Enter n: \"))\n",
        "for i in range(1,n+1):\n",
        "    name= input(\"Enter name %d: \"%(i))\n",
        "    sal=int(input(\"Enter salary %d: \"%(i)))\n",
        "    d[name]=sal\n",
        "salary={x for x in d.values() if x>2000 and x<4000}\n",
        "print(\"Salary >2000 and < 4000 is \",name,sal)"
      ],
      "execution_count": 14,
      "outputs": [
        {
          "output_type": "stream",
          "text": [
            "Enter n: 3\n",
            "Enter name 1: greesh\n",
            "Enter salary 1: 40000\n",
            "Enter name 2: pavan\n",
            "Enter salary 2: 45000\n",
            "Enter name 3: naveen\n",
            "Enter salary 3: 55000\n",
            "Salary >2000 and < 4000 is  naveen 55000\n"
          ],
          "name": "stdout"
        }
      ]
    }
  ]
}