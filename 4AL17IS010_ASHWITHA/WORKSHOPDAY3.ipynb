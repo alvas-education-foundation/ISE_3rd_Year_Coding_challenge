{
  "nbformat": 4,
  "nbformat_minor": 0,
  "metadata": {
    "colab": {
      "name": "WORKSHOPDAY3.ipynb",
      "provenance": [],
      "collapsed_sections": [],
      "authorship_tag": "ABX9TyMPCzDmSEaXTVE6bWHi3zV5",
      "include_colab_link": true
    },
    "kernelspec": {
      "name": "python3",
      "display_name": "Python 3"
    }
  },
  "cells": [
    {
      "cell_type": "markdown",
      "metadata": {
        "id": "view-in-github",
        "colab_type": "text"
      },
      "source": [
        "<a href=\"https://colab.research.google.com/github/alvas-education-foundation/ISE_3rd_Year_Coding_challenge/blob/master/4AL17IS010_ASHWITHA/WORKSHOPDAY3.ipynb\" target=\"_parent\"><img src=\"https://colab.research.google.com/assets/colab-badge.svg\" alt=\"Open In Colab\"/></a>"
      ]
    },
    {
      "cell_type": "markdown",
      "metadata": {
        "id": "h2anSOPrvGUa",
        "colab_type": "text"
      },
      "source": [
        "#Python Program to find the factorial of a number using loop."
      ]
    },
    {
      "cell_type": "code",
      "metadata": {
        "id": "bKWHwh7yvamF",
        "colab_type": "code",
        "colab": {
          "base_uri": "https://localhost:8080/",
          "height": 34
        },
        "outputId": "4e10ac88-cb8f-4ffa-ff2e-ba4344ed975c"
      },
      "source": [
        "n=int(input(\"Enter number:\"))\n",
        "fact=1\n",
        "\n",
        "while(n>0):\n",
        "  fact=fact*n\n",
        "n=n-1\n",
        "print(\"Factorial of the number is: \")\n",
        "print(fact)"
      ],
      "execution_count": null,
      "outputs": [
        {
          "output_type": "stream",
          "text": [
            "Enter number:45\n"
          ],
          "name": "stdout"
        }
      ]
    },
    {
      "cell_type": "markdown",
      "metadata": {
        "id": "535dkxNdvi20",
        "colab_type": "text"
      },
      "source": [
        "Python Program to reverse a number using loop "
      ]
    },
    {
      "cell_type": "code",
      "metadata": {
        "id": "TFq0tM0dvmke",
        "colab_type": "code",
        "colab": {}
      },
      "source": [
        "r=0\n",
        "n=int(input(\"Enter a number: \"))\n",
        "while(n>0):\n",
        "dig=n%10\n",
        "r=r*10+dig\n",
        "n=n//10\n",
        "print(\"The reversed no  is:\")\n",
        "print(r)"
      ],
      "execution_count": null,
      "outputs": []
    },
    {
      "cell_type": "markdown",
      "metadata": {
        "id": "AFVNs14DvpR2",
        "colab_type": "text"
      },
      "source": [
        "Write a Python program to construct the following pattern, using a nested for loop."
      ]
    },
    {
      "cell_type": "code",
      "metadata": {
        "id": "i0DuZxCvvr2G",
        "colab_type": "code",
        "colab": {}
      },
      "source": [
        "n=5;\n",
        "for i in range(n):\n",
        "for j in range(i):\n",
        "print ('* ', end=\"\")\n",
        "print('')\n",
        "\n",
        "for i in range(n,0,-1):\n",
        "for j in range(i):\n",
        "print('* ', end=\"\")\n",
        "print('')"
      ],
      "execution_count": null,
      "outputs": []
    },
    {
      "cell_type": "markdown",
      "metadata": {
        "id": "UWKsHOmmvufN",
        "colab_type": "text"
      },
      "source": [
        "Python Program to replace all occurrences of ‘a’ with ‘$’ in a string. "
      ]
    },
    {
      "cell_type": "code",
      "metadata": {
        "id": "-ZCDXoz6vwvj",
        "colab_type": "code",
        "colab": {}
      },
      "source": [
        "string=input(\"Enter string:\")\n",
        "string=string.replace('a','$')\n",
        "string=string.replace('A','$')\n",
        "print(\"Modified string:\")\n",
        "print(string)"
      ],
      "execution_count": null,
      "outputs": []
    },
    {
      "cell_type": "markdown",
      "metadata": {
        "id": "ETFTDdLvvzcH",
        "colab_type": "text"
      },
      "source": [
        "Program for ValueError error detection"
      ]
    },
    {
      "cell_type": "code",
      "metadata": {
        "id": "VQsUFiWZv3Tc",
        "colab_type": "code",
        "colab": {}
      },
      "source": [
        "while True:\n",
        "try:\n",
        "x = int(input(\"Please enter a number: \"))\n",
        "print(\" That was valid number. Thank you\")\n",
        "break\n",
        "except ValueError:\n",
        "print(\"Oops!  That was no valid number.  Try again...\")"
      ],
      "execution_count": null,
      "outputs": []
    },
    {
      "cell_type": "markdown",
      "metadata": {
        "id": "FWtGO_XNv6eS",
        "colab_type": "text"
      },
      "source": [
        "Program for Divide by zero error detectio"
      ]
    },
    {
      "cell_type": "code",
      "metadata": {
        "id": "QGi6rBYVv_O0",
        "colab_type": "code",
        "colab": {}
      },
      "source": [
        "flag = True\n",
        "\n",
        "def div(a, b):  \n",
        "try:\n",
        "print(\"Finally the division of %d/%d is %f\" % (a, b,a/b))\n",
        "global flag\n",
        "flag=False\n",
        "except ZeroDivisionError:\n",
        "print(\"Zero Division Error detected\")\n",
        "else:\n",
        "print(\"Division is successful\") \n",
        "finally:\n",
        "if flag is True:\n",
        "print(\"Try again\")     \n",
        "else:\n",
        "print(\"Thank you\")\n",
        "\n",
        "#global flag\n",
        "\n",
        "while flag is True:\n",
        "  \n",
        "div(int(input(\"Enter numerator\")),int(input(\"Enter denominator\"))"
      ],
      "execution_count": null,
      "outputs": []
    },
    {
      "cell_type": "markdown",
      "metadata": {
        "id": "Ut-PaUMWwHtq",
        "colab_type": "text"
      },
      "source": [
        "Python Program to  count number of vowels from a non-empty string."
      ]
    },
    {
      "cell_type": "code",
      "metadata": {
        "id": "l1MNZS7OwKRY",
        "colab_type": "code",
        "colab": {}
      },
      "source": [
        "string=input(\"Enter string:\")\n",
        "vowels=0\n",
        "for i in string:\n",
        "if(i=='a' or i=='e' or i=='i' or i=='o' or i=='u' or i=='A' or i=='E' or i=='I' or i=='O' or i=='U'):\n",
        "vowels=vowels+1\n",
        "print(\"Number "
      ],
      "execution_count": null,
      "outputs": []
    },
    {
      "cell_type": "markdown",
      "metadata": {
        "id": "QEjs1e7RwMlC",
        "colab_type": "text"
      },
      "source": [
        "Python Program to form a string where the first character and the last character have been exchanged. "
      ]
    },
    {
      "cell_type": "code",
      "metadata": {
        "id": "ohgk215ywPE2",
        "colab_type": "code",
        "colab": {}
      },
      "source": [
        "def change(string):\n",
        "return string[-1:] + string[1:-1] + string[:1]\n",
        "string=input(\"Enter string:\")\n",
        "print(\"Modified string:\")\n",
        "print(change(string))"
      ],
      "execution_count": null,
      "outputs": []
    },
    {
      "cell_type": "markdown",
      "metadata": {
        "id": "NNIdNJMTwSAU",
        "colab_type": "text"
      },
      "source": [
        "Python Program to remove the nth index character from a non-empty string. "
      ]
    },
    {
      "cell_type": "code",
      "metadata": {
        "id": "aKhOJ0jJwVMN",
        "colab_type": "code",
        "colab": {}
      },
      "source": [
        "def remove(string, n):  \n",
        "first = string[:n]   \n",
        "last = string[n+1:]  \n",
        "return first + last\n",
        "string=input(\"Enter the sring:\")\n",
        "n=int(input(\"Enter the index of the character to remove:\"))\n",
        "print(\"Modified string:\")\n",
        "print(remove(string, n))"
      ],
      "execution_count": null,
      "outputs": []
    }
  ]
}