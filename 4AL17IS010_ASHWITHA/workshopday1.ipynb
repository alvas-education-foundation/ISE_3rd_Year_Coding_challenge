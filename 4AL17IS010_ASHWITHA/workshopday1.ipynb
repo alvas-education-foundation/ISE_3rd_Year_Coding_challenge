{
  "nbformat": 4,
  "nbformat_minor": 0,
  "metadata": {
    "colab": {
      "name": "workshopday1.ipynb",
      "provenance": [],
      "collapsed_sections": [],
      "authorship_tag": "ABX9TyPZpBvB34hh5gbKJg8cIfna",
      "include_colab_link": true
    },
    "kernelspec": {
      "name": "python3",
      "display_name": "Python 3"
    }
  },
  "cells": [
    {
      "cell_type": "markdown",
      "metadata": {
        "id": "view-in-github",
        "colab_type": "text"
      },
      "source": [
        "<a href=\"https://colab.research.google.com/github/alvas-education-foundation/ISE_3rd_Year_Coding_challenge/blob/master/4AL17IS010_ASHWITHA/workshopday1.ipynb\" target=\"_parent\"><img src=\"https://colab.research.google.com/assets/colab-badge.svg\" alt=\"Open In Colab\"/></a>"
      ]
    },
    {
      "cell_type": "code",
      "metadata": {
        "id": "mSWtpoFJOAZO",
        "colab_type": "code",
        "colab": {}
      },
      "source": [
        ""
      ],
      "execution_count": null,
      "outputs": []
    },
    {
      "cell_type": "markdown",
      "metadata": {
        "id": "ChaTPf7jOBdZ",
        "colab_type": "text"
      },
      "source": [
        "Python Program to Add Two Numbers getting through key board"
      ]
    },
    {
      "cell_type": "code",
      "metadata": {
        "id": "vEcbWbW6OCfn",
        "colab_type": "code",
        "colab": {
          "base_uri": "https://localhost:8080/",
          "height": 68
        },
        "outputId": "3ce27a95-bb52-428d-8be7-b4c4c3037830"
      },
      "source": [
        "# sum of two nos\n",
        "\n",
        "num1 = int(input(\"Enter first no\"))\n",
        "\n",
        "num2 = int(input(\"Enter second no\"))\n",
        "\n",
        "\n",
        "# Adding the two numbers\n",
        "\n",
        "sum = num1 + num2\n",
        "\n",
        "\n",
        "# Display the sum\n",
        "\n",
        "print('The sum of {0} and {1} is {2}'.format(num1, num2, sum))"
      ],
      "execution_count": 1,
      "outputs": [
        {
          "output_type": "stream",
          "text": [
            "Enter first no4\n",
            "Enter second no5\n",
            "The sum of 4 and 5 is 9\n"
          ],
          "name": "stdout"
        }
      ]
    },
    {
      "cell_type": "markdown",
      "metadata": {
        "id": "ocqWsfeJOLMA",
        "colab_type": "text"
      },
      "source": [
        "Python program to check if the input year is a leap year or not"
      ]
    },
    {
      "cell_type": "code",
      "metadata": {
        "id": "xyJS2sfyOTcz",
        "colab_type": "code",
        "colab": {
          "base_uri": "https://localhost:8080/",
          "height": 51
        },
        "outputId": "328a4f38-7de5-41c6-83d6-b6e243f850b3"
      },
      "source": [
        "# To get year (integer input) from the user\n",
        "\n",
        "year = int(input(\"Enter a year: \"))\n",
        "\n",
        "\n",
        "if ((year % 4) == 0 and (year % 100)  != 0) or ((year % 400) == 0):\n",
        "\n",
        "          print(\"{0} is a leap year\".format(year))\n",
        "\n",
        "else:\n",
        "\n",
        "          print(\"{0} is not a leap year\".format(year))\n",
        "\n"
      ],
      "execution_count": 2,
      "outputs": [
        {
          "output_type": "stream",
          "text": [
            "Enter a year: 2000\n",
            "2000 is a leap year\n"
          ],
          "name": "stdout"
        }
      ]
    },
    {
      "cell_type": "markdown",
      "metadata": {
        "id": "KXrdrGEqOgcC",
        "colab_type": "text"
      },
      "source": [
        "Python Program to Generate a Random Number"
      ]
    },
    {
      "cell_type": "code",
      "metadata": {
        "id": "28_3qna9OjeY",
        "colab_type": "code",
        "colab": {
          "base_uri": "https://localhost:8080/",
          "height": 34
        },
        "outputId": "eb2de32e-ab03-41c9-9ad3-c96edfc30bbf"
      },
      "source": [
        "# Program to generate a random number between 0 and 9\n",
        "\n",
        "# import the random module\n",
        "\n",
        "import random\n",
        "\n",
        "print(random.randint(0,9))"
      ],
      "execution_count": 3,
      "outputs": [
        {
          "output_type": "stream",
          "text": [
            "7\n"
          ],
          "name": "stdout"
        }
      ]
    },
    {
      "cell_type": "markdown",
      "metadata": {
        "id": "g1u4ro7lOn7V",
        "colab_type": "text"
      },
      "source": [
        "Python Program to Convert Kilometers to Miles"
      ]
    },
    {
      "cell_type": "code",
      "metadata": {
        "id": "l4p3kdUPOqjN",
        "colab_type": "code",
        "colab": {
          "base_uri": "https://localhost:8080/",
          "height": 51
        },
        "outputId": "e406b403-8f02-4769-c9ac-0007f20db1e6"
      },
      "source": [
        "# To take kilometers from the user, uncomment the code below\n",
        "\n",
        "kilometers = int(input(\"Enter value in kilometers\"))\n",
        "\n",
        "\n",
        "# conversion factor\n",
        "\n",
        "conv_fac = 0.621371\n",
        "\n",
        "\n",
        "# calculate miles\n",
        "\n",
        "miles = kilometers * conv_fac\n",
        "\n",
        "print('%0.3f kilometers is equal to %0.3f miles' %(kilometers,miles))\n",
        "\n",
        "\n"
      ],
      "execution_count": 4,
      "outputs": [
        {
          "output_type": "stream",
          "text": [
            "Enter value in kilometers45\n",
            "45.000 kilometers is equal to 27.962 miles\n"
          ],
          "name": "stdout"
        }
      ]
    },
    {
      "cell_type": "markdown",
      "metadata": {
        "id": "anPPCoouOyFw",
        "colab_type": "text"
      },
      "source": [
        "Python Program to Solve Quadratic Equation"
      ]
    },
    {
      "cell_type": "code",
      "metadata": {
        "id": "2d6jEHP4OzDx",
        "colab_type": "code",
        "colab": {
          "base_uri": "https://localhost:8080/",
          "height": 85
        },
        "outputId": "66a5e519-7c0e-4f93-8f9d-01407dec26c9"
      },
      "source": [
        "# Solve the quadratic equation ax**2 + bx + c = 0\n",
        "\n",
        "# importing  complex math module\n",
        "\n",
        "import cmath\n",
        "\n",
        "\n",
        "# To take coefficient input from the users\n",
        "\n",
        "a = float(input('Enter a: '))\n",
        "\n",
        "b = float(input('Enter b: '))\n",
        "\n",
        "c = float(input('Enter c: '))\n",
        "\n",
        "\n",
        "# calculate the discriminant\n",
        "\n",
        "d = (b**2) - (4*a*c)\n",
        "\n",
        "\n",
        "# find two solutions\n",
        "\n",
        "sol1 = (-b-cmath.sqrt(d))/(2*a)\n",
        "\n",
        "sol2 = (-b+cmath.sqrt(d))/(2*a)\n",
        "\n",
        "\n",
        "print('The solution are {0} and {1}'.format(sol1,sol2))"
      ],
      "execution_count": 7,
      "outputs": [
        {
          "output_type": "stream",
          "text": [
            "Enter a: 3\n",
            "Enter b: 4\n",
            "Enter c: 5\n",
            "The solution are (-0.6666666666666666-1.1055415967851332j) and (-0.6666666666666666+1.1055415967851332j)\n"
          ],
          "name": "stdout"
        }
      ]
    },
    {
      "cell_type": "markdown",
      "metadata": {
        "id": "HVCPL_K_PJ6w",
        "colab_type": "text"
      },
      "source": [
        "Python Program to find prime or not using function"
      ]
    },
    {
      "cell_type": "code",
      "metadata": {
        "id": "EOBu6PwyPMT7",
        "colab_type": "code",
        "colab": {
          "base_uri": "https://localhost:8080/",
          "height": 51
        },
        "outputId": "04cd8a27-07a1-4eb4-f665-d35d82656091"
      },
      "source": [
        "def test_prime(n):\n",
        "\n",
        "   if (n==1):\n",
        "\n",
        "       return False\n",
        "\n",
        "   elif (n==2):\n",
        "\n",
        "       return True;\n",
        "\n",
        "   else:\n",
        "\n",
        "       for x in range(2,n):\n",
        "\n",
        "           if(n % x==0):\n",
        "\n",
        "               return False\n",
        "\n",
        "       return True\n",
        "\n",
        "no=int(input(\"Enter the number\"))\n",
        "\n",
        "if (test_prime(no)) is True :\n",
        "\n",
        "   print(\" {0} is a prime no\".format(no))\n",
        "\n",
        "else:\n",
        "\n",
        "    print(\" {0} is not a prime no\".format(no))"
      ],
      "execution_count": 8,
      "outputs": [
        {
          "output_type": "stream",
          "text": [
            "Enter the number66\n",
            " 66 is not a prime no\n"
          ],
          "name": "stdout"
        }
      ]
    },
    {
      "cell_type": "markdown",
      "metadata": {
        "id": "rxYh7GNATyi2",
        "colab_type": "text"
      },
      "source": [
        "Python Menu Program to perform arithmetic operations using function"
      ]
    },
    {
      "cell_type": "code",
      "metadata": {
        "id": "IIsavTZxUuy4",
        "colab_type": "code",
        "colab": {
          "base_uri": "https://localhost:8080/",
          "height": 646
        },
        "outputId": "b31f0bd6-1dd1-45a7-9698-5521e11a2abb"
      },
      "source": [
        "\"\"\"Calculator program\"\"\"\n",
        "\n",
        "loop = 1 # 1 means loop; anything else means don't loop.\n",
        "choice = 0 # This variable holds the user's choice in the menu\n",
        "\n",
        "def add(add1,add2):\n",
        "  return add1 + add2 \n",
        "def sub(sub1,sub2):\n",
        "  return sub1 - sub2\n",
        "def mul(mul1,mul2):\n",
        "  return mul1 * mul2\n",
        "def div(div1,div2):\n",
        "  return div1 / div2 \n",
        "\n",
        "while loop == 1:\n",
        "  print(\"Welcome to calculator.py\")\n",
        "  print(\"your options are:\")\n",
        "  print(\"\")\n",
        "  print(\"1) Addition\")\n",
        "  print(\"2) Subtraction\")\n",
        "  print(\"3) Multiplication\")\n",
        "  print(\"4) Division\")\n",
        "  print(\"5) Quit calculator.py\")\n",
        "  print(\"\")\n",
        "  choice = int(input(\"Choose your option: \"))\n",
        "\n",
        "  if choice == 1:\n",
        "    add1 = int(input(\"Add this: \"))\n",
        "    add2 = int(input(\"to this: \"))\n",
        "    print (add(add1,add2))\n",
        "  elif choice == 2:\n",
        "    sub2 = int(input(\"Subtract this: \"))\n",
        "    sub1 = int(input(\"from this: \"))\n",
        "    print (sub(sub1,sub2))\n",
        "  elif choice == 3:\n",
        "    mul1 = int(input(\"Multiply this: \"))\n",
        "    mul2 = int(input(\"with this: \"))\n",
        "    print (mul(mul1,mul2))\n",
        "  elif choice == 4:\n",
        "    div1 = int(input(\"Divide this: \"))\n",
        "    div2 = int(input(\"by this: \"))\n",
        "    print (div(div1,div2))\n",
        "  elif choice == 5:\n",
        "    loop = 0\n",
        "    print(\"Thank-you for using calculator.py!\")"
      ],
      "execution_count": 12,
      "outputs": [
        {
          "output_type": "stream",
          "text": [
            "Welcome to calculator.py\n",
            "your options are:\n",
            "\n",
            "1) Addition\n",
            "2) Subtraction\n",
            "3) Multiplication\n",
            "4) Division\n",
            "5) Quit calculator.py\n",
            "\n",
            "Choose your option: 1\n",
            "Add this: 3\n",
            "to this: 5\n",
            "8\n",
            "Welcome to calculator.py\n",
            "your options are:\n",
            "\n",
            "1) Addition\n",
            "2) Subtraction\n",
            "3) Multiplication\n",
            "4) Division\n",
            "5) Quit calculator.py\n",
            "\n",
            "Choose your option: 3\n",
            "Multiply this: 10\n",
            "with this: 10\n",
            "100\n",
            "Welcome to calculator.py\n",
            "your options are:\n",
            "\n",
            "1) Addition\n",
            "2) Subtraction\n",
            "3) Multiplication\n",
            "4) Division\n",
            "5) Quit calculator.py\n",
            "\n",
            "Choose your option: 5\n",
            "Thank-you for using calculator.py!\n"
          ],
          "name": "stdout"
        }
      ]
    },
    {
      "cell_type": "markdown",
      "metadata": {
        "id": "B4YLrAQ0U5BE",
        "colab_type": "text"
      },
      "source": [
        "Python Program to find the factorial of a number using loop"
      ]
    },
    {
      "cell_type": "code",
      "metadata": {
        "id": "P3hxESmGVpML",
        "colab_type": "code",
        "colab": {
          "base_uri": "https://localhost:8080/",
          "height": 68
        },
        "outputId": "576918a1-d1ef-4549-cd69-83a3befb1d49"
      },
      "source": [
        "n=int(input(\"Enter number:\"))\n",
        "fact=1\n",
        "\n",
        "while(n>0):\n",
        "  fact=fact*n\n",
        "  n=n-1\n",
        "print(\"Factorial of the number is: \")\n",
        "print(fact)"
      ],
      "execution_count": 16,
      "outputs": [
        {
          "output_type": "stream",
          "text": [
            "Enter number:3\n",
            "Factorial of the number is: \n",
            "6\n"
          ],
          "name": "stdout"
        }
      ]
    },
    {
      "cell_type": "markdown",
      "metadata": {
        "id": "HqfkyvBlV-ub",
        "colab_type": "text"
      },
      "source": [
        "Python Program to reverse a number using loop"
      ]
    },
    {
      "cell_type": "code",
      "metadata": {
        "id": "aeYNEtFgWDPl",
        "colab_type": "code",
        "colab": {
          "base_uri": "https://localhost:8080/",
          "height": 68
        },
        "outputId": "91b3bf4b-4d13-45fd-c666-b7c63a56d417"
      },
      "source": [
        "r=0\n",
        "n=int(input(\"Enter a number: \"))\n",
        "while(n>0):\n",
        "  dig=n%10\n",
        "  r=r*10+dig\n",
        "  n=n//10\n",
        "print(\"The reversed no  is:\")\n",
        "print(r)"
      ],
      "execution_count": 17,
      "outputs": [
        {
          "output_type": "stream",
          "text": [
            "Enter a number: 2000\n",
            "The reversed no  is:\n",
            "2\n"
          ],
          "name": "stdout"
        }
      ]
    },
    {
      "cell_type": "markdown",
      "metadata": {
        "id": "3lRmOAWJWJtK",
        "colab_type": "text"
      },
      "source": [
        "Write a Python program to construct the following pattern, using a nested for loop."
      ]
    },
    {
      "cell_type": "code",
      "metadata": {
        "id": "CjfjWhuwWQWi",
        "colab_type": "code",
        "colab": {
          "base_uri": "https://localhost:8080/",
          "height": 187
        },
        "outputId": "d83cc86c-afe6-4358-f69e-fae56dadd877"
      },
      "source": [
        "n=5;\n",
        "for i in range(n):\n",
        "  for j in range(i):\n",
        "    print ('* ', end=\"\")\n",
        "  print('')\n",
        "\n",
        "for i in range(n,0,-1):\n",
        "  for j in range(i):\n",
        "    print('* ', end=\"\")\n",
        "  print('')"
      ],
      "execution_count": 18,
      "outputs": [
        {
          "output_type": "stream",
          "text": [
            "\n",
            "* \n",
            "* * \n",
            "* * * \n",
            "* * * * \n",
            "* * * * * \n",
            "* * * * \n",
            "* * * \n",
            "* * \n",
            "* \n"
          ],
          "name": "stdout"
        }
      ]
    },
    {
      "cell_type": "markdown",
      "metadata": {
        "id": "MuVa3X6hYejG",
        "colab_type": "text"
      },
      "source": [
        "Python Program to replace all occurrences of ‘a’ with ‘$’ in a string."
      ]
    },
    {
      "cell_type": "code",
      "metadata": {
        "id": "xhcLJi9kYfbd",
        "colab_type": "code",
        "colab": {
          "base_uri": "https://localhost:8080/",
          "height": 68
        },
        "outputId": "d51610c4-3ceb-4b95-e551-8087c990bcd5"
      },
      "source": [
        "string=input(\"Enter string:\")\n",
        "string=string.replace('a','$')\n",
        "string=string.replace('A','$')\n",
        "print(\"Modified string:\")\n",
        "print(string)"
      ],
      "execution_count": 19,
      "outputs": [
        {
          "output_type": "stream",
          "text": [
            "Enter string:man\n",
            "Modified string:\n",
            "m$n\n"
          ],
          "name": "stdout"
        }
      ]
    },
    {
      "cell_type": "markdown",
      "metadata": {
        "id": "zdvzyIcHYqaq",
        "colab_type": "text"
      },
      "source": [
        "Python Program to remove the nth index character from a non-empty string."
      ]
    },
    {
      "cell_type": "code",
      "metadata": {
        "id": "iu6-RDZtYrim",
        "colab_type": "code",
        "colab": {
          "base_uri": "https://localhost:8080/",
          "height": 85
        },
        "outputId": "2f4938a7-4039-4a27-a44b-4e77928836b0"
      },
      "source": [
        "def remove(string, n):  \n",
        "  first = string[:n]   \n",
        "  last = string[n+1:]  \n",
        "  return first + last\n",
        "string=input(\"Enter the sring:\")\n",
        "n=int(input(\"Enter the index of the character to remove:\"))\n",
        "print(\"Modified string:\")\n",
        "print(remove(string, n))"
      ],
      "execution_count": 22,
      "outputs": [
        {
          "output_type": "stream",
          "text": [
            "Enter the sring:hello\n",
            "Enter the index of the character to remove:2\n",
            "Modified string:\n",
            "helo\n"
          ],
          "name": "stdout"
        }
      ]
    },
    {
      "cell_type": "markdown",
      "metadata": {
        "id": "wv3aKsGaZwkR",
        "colab_type": "text"
      },
      "source": [
        ""
      ]
    },
    {
      "cell_type": "markdown",
      "metadata": {
        "id": "elRgL2b4ZJOG",
        "colab_type": "text"
      },
      "source": [
        "Python Program to detect if two strings are anagrams"
      ]
    },
    {
      "cell_type": "code",
      "metadata": {
        "id": "3QEwhJYXZMZF",
        "colab_type": "code",
        "colab": {
          "base_uri": "https://localhost:8080/",
          "height": 68
        },
        "outputId": "8631cf82-c3dc-4cec-c3c8-d267ff63cb16"
      },
      "source": [
        "s1=input(\"Enter first string:\")\n",
        "s2=input(\"Enter second string:\")\n",
        "if(sorted(s1)==sorted(s2)):\n",
        "  print(\"The strings are anagrams.\")\n",
        "else:\n",
        "  print(\"The strings aren't anagrams.\")"
      ],
      "execution_count": 23,
      "outputs": [
        {
          "output_type": "stream",
          "text": [
            "Enter first string:ashwitha\n",
            "Enter second string:anusha\n",
            "The strings aren't anagrams.\n"
          ],
          "name": "stdout"
        }
      ]
    },
    {
      "cell_type": "markdown",
      "metadata": {
        "id": "b5nokn4GZkaS",
        "colab_type": "text"
      },
      "source": [
        "Python Program to form a string where the first character and the last character have been exchanged"
      ]
    },
    {
      "cell_type": "code",
      "metadata": {
        "id": "1NcF4qQZZ4X5",
        "colab_type": "code",
        "colab": {}
      },
      "source": [
        ""
      ],
      "execution_count": null,
      "outputs": []
    },
    {
      "cell_type": "code",
      "metadata": {
        "id": "4OFBbxl1Zk5M",
        "colab_type": "code",
        "colab": {
          "base_uri": "https://localhost:8080/",
          "height": 68
        },
        "outputId": "2b72230c-eb42-4208-fbea-f356f9d9bd13"
      },
      "source": [
        "def change(string):\n",
        "  return string[-1:] + string[1:-1] + string[:1]\n",
        "string=input(\"Enter string:\")\n",
        "print(\"Modified string:\")\n",
        "print(change(string))"
      ],
      "execution_count": 24,
      "outputs": [
        {
          "output_type": "stream",
          "text": [
            "Enter string:ant\n",
            "Modified string:\n",
            "tna\n"
          ],
          "name": "stdout"
        }
      ]
    },
    {
      "cell_type": "markdown",
      "metadata": {
        "id": "jItf08OBZ87S",
        "colab_type": "text"
      },
      "source": [
        "Python Program to count number of vowels from a non-empty string"
      ]
    },
    {
      "cell_type": "code",
      "metadata": {
        "id": "dYAmA_Z2Z9pd",
        "colab_type": "code",
        "colab": {
          "base_uri": "https://localhost:8080/",
          "height": 68
        },
        "outputId": "5e76ac7a-491d-4a72-f030-aeeed9fdb181"
      },
      "source": [
        "string=input(\"Enter string:\")\n",
        "vowels=0\n",
        "for i in string:\n",
        "  if(i=='a' or i=='e' or i=='i' or i=='o' or i=='u' or i=='A' or i=='E' or i=='I' or i=='O' or i=='U'):\n",
        "    vowels=vowels+1\n",
        "print(\"Number of vowels are:\")\n",
        "print(vowels)"
      ],
      "execution_count": 25,
      "outputs": [
        {
          "output_type": "stream",
          "text": [
            "Enter string:ashwitha\n",
            "Number of vowels are:\n",
            "3\n"
          ],
          "name": "stdout"
        }
      ]
    },
    {
      "cell_type": "markdown",
      "metadata": {
        "id": "a8XD6S2JaLpV",
        "colab_type": "text"
      },
      "source": [
        "Program for Divide by zero error detection"
      ]
    },
    {
      "cell_type": "code",
      "metadata": {
        "id": "9lIFFujZg25k",
        "colab_type": "code",
        "colab": {
          "base_uri": "https://localhost:8080/",
          "height": 102
        },
        "outputId": "2c76c531-def9-4f83-c6ef-02011e3da709"
      },
      "source": [
        "flag = True\n",
        "\n",
        "def div(a, b):  \n",
        "  try:\n",
        "    print(\"Finally the division of %d/%d is %f\" % (a, b,a/b))\n",
        "    global flag\n",
        "    flag=False\n",
        "  except ZeroDivisionError:\n",
        "    print(\"Zero Division Error detected\")\n",
        "  else:\n",
        "    print(\"Division is successful\") \n",
        "  finally:\n",
        "    if flag is True:\n",
        "      print(\"Try again\")     \n",
        "    else:\n",
        "      print(\"Thank you\")\n",
        "\n",
        "#global flag\n",
        "\n",
        "while flag is True:\n",
        "  div(int(input(\"Enter numerator\")),int(input(\"Enter denominator\")))"
      ],
      "execution_count": 26,
      "outputs": [
        {
          "output_type": "stream",
          "text": [
            "Enter numerator4\n",
            "Enter denominator6\n",
            "Finally the division of 4/6 is 0.666667\n",
            "Division is successful\n",
            "Thank you\n"
          ],
          "name": "stdout"
        }
      ]
    },
    {
      "cell_type": "markdown",
      "metadata": {
        "id": "HiP4Y2Rlg_hL",
        "colab_type": "text"
      },
      "source": [
        "Program for ValueError error detection"
      ]
    },
    {
      "cell_type": "code",
      "metadata": {
        "id": "E-DC7AuChCua",
        "colab_type": "code",
        "colab": {
          "base_uri": "https://localhost:8080/",
          "height": 51
        },
        "outputId": "c8b0af88-f033-4c93-8459-623595c06ba7"
      },
      "source": [
        "while True:\n",
        "  try:\n",
        "    x = int(input(\"Please enter a number: \"))\n",
        "    print(\" That was valid number. Thank you\")\n",
        "    break\n",
        "  except ValueError:\n",
        "    print(\"Oops!  That was no valid number.  Try again...\")"
      ],
      "execution_count": 27,
      "outputs": [
        {
          "output_type": "stream",
          "text": [
            "Please enter a number: 25\n",
            " That was valid number. Thank you\n"
          ],
          "name": "stdout"
        }
      ]
    }
  ]
}