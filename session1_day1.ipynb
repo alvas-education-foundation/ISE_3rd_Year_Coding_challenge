{
  "nbformat": 4,
  "nbformat_minor": 0,
  "metadata": {
    "colab": {
      "name": "session1_day1",
      "provenance": [],
      "authorship_tag": "ABX9TyNm0v2p3xJe7OCjL1OAPBqH",
      "include_colab_link": true
    },
    "kernelspec": {
      "name": "python3",
      "display_name": "Python 3"
    }
  },
  "cells": [
    {
      "cell_type": "markdown",
      "metadata": {
        "id": "view-in-github",
        "colab_type": "text"
      },
      "source": [
        "<a href=\"https://colab.research.google.com/github/alvas-education-foundation/ISE_3rd_Year_Coding_challenge/blob/master/session1_day1.ipynb\" target=\"_parent\"><img src=\"https://colab.research.google.com/assets/colab-badge.svg\" alt=\"Open In Colab\"/></a>"
      ]
    },
    {
      "cell_type": "markdown",
      "metadata": {
        "id": "hWiTkw1jGSNm",
        "colab_type": "text"
      },
      "source": [
        "Find the compound interest for the given p,n,r (formula : p(1+n*r/100)n )"
      ]
    },
    {
      "cell_type": "code",
      "metadata": {
        "id": "whQl2oG0F6kP",
        "colab_type": "code",
        "colab": {
          "base_uri": "https://localhost:8080/",
          "height": 84
        },
        "outputId": "72a75af7-ec16-4730-db2d-4f00f9f2d506"
      },
      "source": [
        "def compound_interest(principle, rate, time): \n",
        "    CI = principle * (pow((1 + rate / 100), time)) \n",
        "    print(\"Compound interest is\", CI) \n",
        "p=int(input(\"enter p value: \"))\n",
        "n=int(input(\"enter n value: \"))\n",
        "r=float(input(\"enter r value: \"))\n",
        "compound_interest(p, r, n)"
      ],
      "execution_count": 1,
      "outputs": [
        {
          "output_type": "stream",
          "text": [
            "enter p value: 5\n",
            "enter n value: 9\n",
            "enter r value: 2\n",
            "Compound interest is 5.975462843111555\n"
          ],
          "name": "stdout"
        }
      ]
    },
    {
      "cell_type": "markdown",
      "metadata": {
        "id": "qtK8_cfWGk5J",
        "colab_type": "text"
      },
      "source": [
        "Convert centegrade to farenheit ( f= 9/5*c+32)"
      ]
    },
    {
      "cell_type": "code",
      "metadata": {
        "id": "oGVAebzjGW54",
        "colab_type": "code",
        "colab": {
          "base_uri": "https://localhost:8080/",
          "height": 50
        },
        "outputId": "03818e2d-2370-4a69-b3cd-52478d3d885a"
      },
      "source": [
        "celsius = float(input(\"Enter temperature in celsius: \"))\n",
        "fahrenheit = (celsius * 9/5) + 32\n",
        "print('%.2f Celsius is: %0.2f Fahrenheit' %(celsius, fahrenheit))"
      ],
      "execution_count": 2,
      "outputs": [
        {
          "output_type": "stream",
          "text": [
            "Enter temperature in celsius: 584\n",
            "584.00 Celsius is: 1083.20 Fahrenheit\n"
          ],
          "name": "stdout"
        }
      ]
    },
    {
      "cell_type": "markdown",
      "metadata": {
        "id": "a6qEGK85Gyxr",
        "colab_type": "text"
      },
      "source": [
        "\n",
        "Find the greater of two nos"
      ]
    },
    {
      "cell_type": "code",
      "metadata": {
        "id": "5rvGEeumGrMF",
        "colab_type": "code",
        "colab": {
          "base_uri": "https://localhost:8080/",
          "height": 84
        },
        "outputId": "29aff26a-49e2-431d-eaa1-e084416cfa5d"
      },
      "source": [
        "\n",
        "a=int(input(\"enter a num : \"))\n",
        "b=int(input(\"enter a num : \"))\n",
        "print(\"greater num is : \")\n",
        "if(a>b):\n",
        "  print(a)\n",
        "else:\n",
        "  print(b)"
      ],
      "execution_count": 3,
      "outputs": [
        {
          "output_type": "stream",
          "text": [
            "enter a num : 55\n",
            "enter a num : 556\n",
            "greater num is : \n",
            "556\n"
          ],
          "name": "stdout"
        }
      ]
    },
    {
      "cell_type": "markdown",
      "metadata": {
        "id": "k5VsNgmuG7VW",
        "colab_type": "text"
      },
      "source": [
        "\n",
        "Write a program for finding surface areas of cylinder and cone using function."
      ]
    },
    {
      "cell_type": "code",
      "metadata": {
        "id": "ZakNDNdxG2_U",
        "colab_type": "code",
        "colab": {
          "base_uri": "https://localhost:8080/",
          "height": 84
        },
        "outputId": "688fee2b-d3e8-42cf-815b-6cfa00340f00"
      },
      "source": [
        "import math\n",
        "def Cylinder(r,h):\n",
        "  return 2*math.pi*r*r*h\n",
        "def cone(r,h):\n",
        "  return (1/3)*math.pi*r*r*h\n",
        "r=int(input(\"enter r value : \"))\n",
        "h=int(input(\"enter h value\"))\n",
        "print(\"surface area of cylinder is : %.2f\"%Cylinder(r,h))\n",
        "print(\"surface area of cone is : %.2f \"%cone(r,h))"
      ],
      "execution_count": 4,
      "outputs": [
        {
          "output_type": "stream",
          "text": [
            "enter r value : 47\n",
            "enter h value65\n",
            "surface area of cylinder is : 902171.16\n",
            "surface area of cone is : 150361.86 \n"
          ],
          "name": "stdout"
        }
      ]
    },
    {
      "cell_type": "markdown",
      "metadata": {
        "id": "Xa1zVVcoHMNt",
        "colab_type": "text"
      },
      "source": [
        "\n",
        "Find the greatest of four nos ( using ‘and’ operator) using function."
      ]
    },
    {
      "cell_type": "code",
      "metadata": {
        "id": "qqRXcrtrHB7f",
        "colab_type": "code",
        "colab": {
          "base_uri": "https://localhost:8080/",
          "height": 118
        },
        "outputId": "676fc9a1-99eb-483f-99aa-b767d9e28f12"
      },
      "source": [
        "a=int(input(\"enter 1st num: \"))\n",
        "b=int(input(\"enter 2nd num: \"))\n",
        "c=int(input(\"enter 3rd num: \"))\n",
        "d=int(input(\"enter 4th num: \"))\n",
        "print(\"greater num is : \")\n",
        "if(a>b and a>c and a>d):\n",
        "  print(a)\n",
        "elif(b>c and b>d):\n",
        "  print(b)\n",
        "elif(c>d):\n",
        "  print(c)\n",
        "else:\n",
        "  print(d)"
      ],
      "execution_count": 5,
      "outputs": [
        {
          "output_type": "stream",
          "text": [
            "enter 1st num: 25\n",
            "enter 2nd num: 65\n",
            "enter 3rd num: 14\n",
            "enter 4th num: 21\n",
            "greater num is : \n",
            "65\n"
          ],
          "name": "stdout"
        }
      ]
    },
    {
      "cell_type": "markdown",
      "metadata": {
        "id": "UyxYf_CqHnDN",
        "colab_type": "text"
      },
      "source": [
        "Write a menu program to perform the operations ( ODDorEven, Factorial, ODDNoUptoN, PrimeUptoN ) using functions for two nos with menu choice."
      ]
    },
    {
      "cell_type": "code",
      "metadata": {
        "id": "9kdcDTBnHRHP",
        "colab_type": "code",
        "colab": {
          "base_uri": "https://localhost:8080/",
          "height": 689
        },
        "outputId": "021a76c5-7d19-43c2-99c3-1d402807adf5"
      },
      "source": [
        "loop = 1 \n",
        "choice = 0 \n",
        "\n",
        "def oddoreven(a):\n",
        "  if(a%2==0):\n",
        "    print(\"even\")\n",
        "  else:\n",
        "    print(\"odd\") \n",
        "def fact(num):\n",
        "  factorial=1\n",
        "  if num < 0:\n",
        "     print(\"Sorry, factorial does not exist for negative numbers\")\n",
        "  elif num == 0:\n",
        "     print(\"The factorial of 0 is 1\")\n",
        "  else:\n",
        "     for i in range(1,num + 1):\n",
        "         factorial = factorial*i\n",
        "     print(\"The factorial of\",num,\"is\",factorial)\n",
        "def odd(n):\n",
        "   print(\"odd numbers: \");\n",
        "   for i in range(1,n+1):\n",
        "      if(i%2!=0):\n",
        "        print(i)\n",
        "def prime(l,h):\n",
        "  print(\"prime numbers: \")\n",
        "  for num in range(l,h + 1):  \n",
        "   if num > 1:  \n",
        "       for i in range(2,num):  \n",
        "           if (num % i) == 0:  \n",
        "             break  \n",
        "       else:  \n",
        "           print(num)  \n",
        "           \n",
        "while loop == 1:\n",
        "  print (\"Welcome\")\n",
        "  print (\"your options are:\")\n",
        "  print (\"\")\n",
        "  print(\"1) odd or even\")\n",
        "  print(\"2) factorial\")\n",
        "  print(\"3) odd upto n\")\n",
        "  print(\"4) prime upto n\")\n",
        "  print(\"5) Quit \")\n",
        "  print(\"\")\n",
        "  try:\n",
        "    choice = int(input(\"Choose your option: \"))\n",
        "  except:\n",
        "     print('please enter a valid number for option')\n",
        "     print(\"\")\n",
        "  print(\"\")\n",
        "  if choice == 1:\n",
        "       x = int(input(\" Enter  no: \"))\n",
        "       oddoreven(x)\n",
        "\n",
        "  elif choice == 2:\n",
        "     x = int(input(\"Enter  no: \"))\n",
        "     fact(x)\n",
        "\n",
        "  elif choice == 3:\n",
        "      x = int(input(\"Enter range: \"))\n",
        "      odd(x)\n",
        "  elif choice == 4:\n",
        "       x = int(input(\"Enter lower range: \"))\n",
        "       y = int(input(\"Enter upper range: \"))\n",
        "       prime(x,y)\n",
        "\n",
        "  elif choice == 5:\n",
        "      loop = 0\n",
        "\n",
        "  else:\n",
        "       print(\"please choice a valid option from 1 to 5\")\n",
        "       choice=0\n",
        "print (\"Thank-you\")"
      ],
      "execution_count": 1,
      "outputs": [
        {
          "output_type": "stream",
          "text": [
            "Welcome\n",
            "your options are:\n",
            "\n",
            "1) odd or even\n",
            "2) factorial\n",
            "3) odd upto n\n",
            "4) prime upto n\n",
            "5) Quit \n",
            "\n",
            "Choose your option: 1\n",
            "\n",
            " Enter  no: 2\n",
            "even\n",
            "Welcome\n",
            "your options are:\n",
            "\n",
            "1) odd or even\n",
            "2) factorial\n",
            "3) odd upto n\n",
            "4) prime upto n\n",
            "5) Quit \n",
            "\n",
            "Choose your option: 3\n",
            "\n",
            "Enter range: 4\n",
            "odd numbers: \n",
            "1\n",
            "3\n",
            "Welcome\n",
            "your options are:\n",
            "\n",
            "1) odd or even\n",
            "2) factorial\n",
            "3) odd upto n\n",
            "4) prime upto n\n",
            "5) Quit \n",
            "\n",
            "Choose your option: 5\n",
            "\n",
            "Thank-you\n"
          ],
          "name": "stdout"
        }
      ]
    }
  ]
}